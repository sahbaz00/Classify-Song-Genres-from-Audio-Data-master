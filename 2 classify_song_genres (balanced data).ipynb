{
 "cells": [
  {
   "cell_type": "markdown",
   "metadata": {},
   "source": [
    "**Project Description** It is a continuation of the first notebook."
   ]
  },
  {
   "cell_type": "markdown",
   "metadata": {},
   "source": [
    "Using a dataset comprised of songs of two music genres (Hip-Hop and Rock), you will train a classifier to distinguish between the two genres based only on track information derived from Echonest (now part of Spotify). You will first make use of pandas and seaborn packages in Python for subsetting the data, aggregating information, and creating plots when exploring the data for obvious trends or factors you should be aware of when doing machine learning. Next, you will use the scikit-learn package to predict whether you can correctly classify a song's genre based on features such as danceability, energy, acousticness, tempo, etc. You will go over implementations of common algorithms such as PCA, logistic regression, decision trees, and so forth."
   ]
  },
  {
   "cell_type": "markdown",
   "metadata": {
    "dc": {
     "key": "3"
    },
    "deletable": false,
    "editable": false,
    "run_control": {
     "frozen": true
    },
    "tags": [
     "context"
    ]
   },
   "source": [
    "## Preparing our dataset for balanced one\n",
    "<p><em>These recommendations are so on point! How does this playlist know me so well?</em></p>"
   ]
  },
  {
   "cell_type": "code",
   "execution_count": 33,
   "metadata": {
    "dc": {
     "key": "3"
    },
    "tags": [
     "sample_code"
    ]
   },
   "outputs": [],
   "source": [
    "import pandas as pd\n",
    "import numpy as np\n",
    "import seaborn as sns\n",
    "import matplotlib.pyplot as plt\n",
    "pd.options.display.float_format = '{:.3f}'.format\n",
    "\n",
    "pd.set_option('display.max_columns', None)\n",
    "pd.set_option('display.width', 600)\n",
    "\n",
    "# Read in track metadata with genre labels\n",
    "track_data = pd.read_csv(r\"C:\\Users\\Shahbaz\\Desktop\\staff\\Classify-Song-Genres-from-Audio-Data\\datasets\\fma-rock-vs-hiphop.csv\")\n",
    "\n",
    "# Read in track metrics with the features\n",
    "track_metrics = pd.read_json(r\"C:\\Users\\Shahbaz\\Desktop\\staff\\Classify-Song-Genres-from-Audio-Data\\datasets\\echonest-metrics.json\")"
   ]
  },
  {
   "cell_type": "code",
   "execution_count": 34,
   "metadata": {},
   "outputs": [
    {
     "data": {
      "text/html": [
       "<div>\n",
       "<style scoped>\n",
       "    .dataframe tbody tr th:only-of-type {\n",
       "        vertical-align: middle;\n",
       "    }\n",
       "\n",
       "    .dataframe tbody tr th {\n",
       "        vertical-align: top;\n",
       "    }\n",
       "\n",
       "    .dataframe thead th {\n",
       "        text-align: right;\n",
       "    }\n",
       "</style>\n",
       "<table border=\"1\" class=\"dataframe\">\n",
       "  <thead>\n",
       "    <tr style=\"text-align: right;\">\n",
       "      <th></th>\n",
       "      <th>track_id</th>\n",
       "      <th>bit_rate</th>\n",
       "      <th>comments</th>\n",
       "      <th>composer</th>\n",
       "      <th>date_created</th>\n",
       "      <th>date_recorded</th>\n",
       "      <th>duration</th>\n",
       "      <th>favorites</th>\n",
       "      <th>genre_top</th>\n",
       "      <th>genres</th>\n",
       "      <th>genres_all</th>\n",
       "      <th>information</th>\n",
       "      <th>interest</th>\n",
       "      <th>language_code</th>\n",
       "      <th>license</th>\n",
       "      <th>listens</th>\n",
       "      <th>lyricist</th>\n",
       "      <th>number</th>\n",
       "      <th>publisher</th>\n",
       "      <th>tags</th>\n",
       "      <th>title</th>\n",
       "    </tr>\n",
       "  </thead>\n",
       "  <tbody>\n",
       "    <tr>\n",
       "      <th>0</th>\n",
       "      <td>135</td>\n",
       "      <td>256000</td>\n",
       "      <td>1</td>\n",
       "      <td>NaN</td>\n",
       "      <td>2008-11-26 01:43:26</td>\n",
       "      <td>2008-11-26 00:00:00</td>\n",
       "      <td>837</td>\n",
       "      <td>0</td>\n",
       "      <td>Rock</td>\n",
       "      <td>[45, 58]</td>\n",
       "      <td>[58, 12, 45]</td>\n",
       "      <td>NaN</td>\n",
       "      <td>2484</td>\n",
       "      <td>en</td>\n",
       "      <td>Attribution-NonCommercial-ShareAlike 3.0 Inter...</td>\n",
       "      <td>1832</td>\n",
       "      <td>NaN</td>\n",
       "      <td>0</td>\n",
       "      <td>NaN</td>\n",
       "      <td>[]</td>\n",
       "      <td>Father's Day</td>\n",
       "    </tr>\n",
       "    <tr>\n",
       "      <th>1</th>\n",
       "      <td>136</td>\n",
       "      <td>256000</td>\n",
       "      <td>1</td>\n",
       "      <td>NaN</td>\n",
       "      <td>2008-11-26 01:43:35</td>\n",
       "      <td>2008-11-26 00:00:00</td>\n",
       "      <td>509</td>\n",
       "      <td>0</td>\n",
       "      <td>Rock</td>\n",
       "      <td>[45, 58]</td>\n",
       "      <td>[58, 12, 45]</td>\n",
       "      <td>NaN</td>\n",
       "      <td>1948</td>\n",
       "      <td>en</td>\n",
       "      <td>Attribution-NonCommercial-ShareAlike 3.0 Inter...</td>\n",
       "      <td>1498</td>\n",
       "      <td>NaN</td>\n",
       "      <td>0</td>\n",
       "      <td>NaN</td>\n",
       "      <td>[]</td>\n",
       "      <td>Peel Back The Mountain Sky</td>\n",
       "    </tr>\n",
       "    <tr>\n",
       "      <th>2</th>\n",
       "      <td>151</td>\n",
       "      <td>192000</td>\n",
       "      <td>0</td>\n",
       "      <td>NaN</td>\n",
       "      <td>2008-11-26 01:44:55</td>\n",
       "      <td>NaN</td>\n",
       "      <td>192</td>\n",
       "      <td>0</td>\n",
       "      <td>Rock</td>\n",
       "      <td>[25]</td>\n",
       "      <td>[25, 12]</td>\n",
       "      <td>NaN</td>\n",
       "      <td>701</td>\n",
       "      <td>en</td>\n",
       "      <td>Attribution-NonCommercial-ShareAlike 3.0 Inter...</td>\n",
       "      <td>148</td>\n",
       "      <td>NaN</td>\n",
       "      <td>4</td>\n",
       "      <td>NaN</td>\n",
       "      <td>[]</td>\n",
       "      <td>Untitled 04</td>\n",
       "    </tr>\n",
       "    <tr>\n",
       "      <th>3</th>\n",
       "      <td>152</td>\n",
       "      <td>192000</td>\n",
       "      <td>0</td>\n",
       "      <td>NaN</td>\n",
       "      <td>2008-11-26 01:44:58</td>\n",
       "      <td>NaN</td>\n",
       "      <td>193</td>\n",
       "      <td>0</td>\n",
       "      <td>Rock</td>\n",
       "      <td>[25]</td>\n",
       "      <td>[25, 12]</td>\n",
       "      <td>NaN</td>\n",
       "      <td>637</td>\n",
       "      <td>en</td>\n",
       "      <td>Attribution-NonCommercial-ShareAlike 3.0 Inter...</td>\n",
       "      <td>98</td>\n",
       "      <td>NaN</td>\n",
       "      <td>11</td>\n",
       "      <td>NaN</td>\n",
       "      <td>[]</td>\n",
       "      <td>Untitled 11</td>\n",
       "    </tr>\n",
       "    <tr>\n",
       "      <th>4</th>\n",
       "      <td>153</td>\n",
       "      <td>256000</td>\n",
       "      <td>0</td>\n",
       "      <td>Arc and Sender</td>\n",
       "      <td>2008-11-26 01:45:00</td>\n",
       "      <td>2008-11-26 00:00:00</td>\n",
       "      <td>405</td>\n",
       "      <td>5</td>\n",
       "      <td>Rock</td>\n",
       "      <td>[26]</td>\n",
       "      <td>[26, 12]</td>\n",
       "      <td>NaN</td>\n",
       "      <td>354</td>\n",
       "      <td>en</td>\n",
       "      <td>Attribution-NonCommercial-NoDerivatives (aka M...</td>\n",
       "      <td>424</td>\n",
       "      <td>NaN</td>\n",
       "      <td>2</td>\n",
       "      <td>NaN</td>\n",
       "      <td>[]</td>\n",
       "      <td>Hundred-Year Flood</td>\n",
       "    </tr>\n",
       "  </tbody>\n",
       "</table>\n",
       "</div>"
      ],
      "text/plain": [
       "   track_id  bit_rate  comments        composer         date_created        date_recorded  duration  favorites genre_top    genres    genres_all information  interest language_code                                            license  listens lyricist  number publisher tags                       title\n",
       "0       135    256000         1             NaN  2008-11-26 01:43:26  2008-11-26 00:00:00       837          0      Rock  [45, 58]  [58, 12, 45]         NaN      2484            en  Attribution-NonCommercial-ShareAlike 3.0 Inter...     1832      NaN       0       NaN   []                Father's Day\n",
       "1       136    256000         1             NaN  2008-11-26 01:43:35  2008-11-26 00:00:00       509          0      Rock  [45, 58]  [58, 12, 45]         NaN      1948            en  Attribution-NonCommercial-ShareAlike 3.0 Inter...     1498      NaN       0       NaN   []  Peel Back The Mountain Sky\n",
       "2       151    192000         0             NaN  2008-11-26 01:44:55                  NaN       192          0      Rock      [25]      [25, 12]         NaN       701            en  Attribution-NonCommercial-ShareAlike 3.0 Inter...      148      NaN       4       NaN   []                 Untitled 04\n",
       "3       152    192000         0             NaN  2008-11-26 01:44:58                  NaN       193          0      Rock      [25]      [25, 12]         NaN       637            en  Attribution-NonCommercial-ShareAlike 3.0 Inter...       98      NaN      11       NaN   []                 Untitled 11\n",
       "4       153    256000         0  Arc and Sender  2008-11-26 01:45:00  2008-11-26 00:00:00       405          5      Rock      [26]      [26, 12]         NaN       354            en  Attribution-NonCommercial-NoDerivatives (aka M...      424      NaN       2       NaN   []          Hundred-Year Flood"
      ]
     },
     "execution_count": 34,
     "metadata": {},
     "output_type": "execute_result"
    }
   ],
   "source": [
    "track_data.head()"
   ]
  },
  {
   "cell_type": "code",
   "execution_count": 35,
   "metadata": {},
   "outputs": [
    {
     "data": {
      "text/html": [
       "<div>\n",
       "<style scoped>\n",
       "    .dataframe tbody tr th:only-of-type {\n",
       "        vertical-align: middle;\n",
       "    }\n",
       "\n",
       "    .dataframe tbody tr th {\n",
       "        vertical-align: top;\n",
       "    }\n",
       "\n",
       "    .dataframe thead th {\n",
       "        text-align: right;\n",
       "    }\n",
       "</style>\n",
       "<table border=\"1\" class=\"dataframe\">\n",
       "  <thead>\n",
       "    <tr style=\"text-align: right;\">\n",
       "      <th></th>\n",
       "      <th>track_id</th>\n",
       "      <th>acousticness</th>\n",
       "      <th>danceability</th>\n",
       "      <th>energy</th>\n",
       "      <th>instrumentalness</th>\n",
       "      <th>liveness</th>\n",
       "      <th>speechiness</th>\n",
       "      <th>tempo</th>\n",
       "      <th>valence</th>\n",
       "    </tr>\n",
       "  </thead>\n",
       "  <tbody>\n",
       "    <tr>\n",
       "      <th>0</th>\n",
       "      <td>2</td>\n",
       "      <td>0.417</td>\n",
       "      <td>0.676</td>\n",
       "      <td>0.634</td>\n",
       "      <td>0.011</td>\n",
       "      <td>0.178</td>\n",
       "      <td>0.159</td>\n",
       "      <td>165.922</td>\n",
       "      <td>0.577</td>\n",
       "    </tr>\n",
       "    <tr>\n",
       "      <th>1</th>\n",
       "      <td>3</td>\n",
       "      <td>0.374</td>\n",
       "      <td>0.529</td>\n",
       "      <td>0.817</td>\n",
       "      <td>0.002</td>\n",
       "      <td>0.106</td>\n",
       "      <td>0.462</td>\n",
       "      <td>126.957</td>\n",
       "      <td>0.269</td>\n",
       "    </tr>\n",
       "    <tr>\n",
       "      <th>2</th>\n",
       "      <td>5</td>\n",
       "      <td>0.044</td>\n",
       "      <td>0.746</td>\n",
       "      <td>0.701</td>\n",
       "      <td>0.001</td>\n",
       "      <td>0.373</td>\n",
       "      <td>0.125</td>\n",
       "      <td>100.260</td>\n",
       "      <td>0.622</td>\n",
       "    </tr>\n",
       "    <tr>\n",
       "      <th>3</th>\n",
       "      <td>10</td>\n",
       "      <td>0.952</td>\n",
       "      <td>0.658</td>\n",
       "      <td>0.925</td>\n",
       "      <td>0.965</td>\n",
       "      <td>0.115</td>\n",
       "      <td>0.033</td>\n",
       "      <td>111.562</td>\n",
       "      <td>0.964</td>\n",
       "    </tr>\n",
       "    <tr>\n",
       "      <th>4</th>\n",
       "      <td>134</td>\n",
       "      <td>0.452</td>\n",
       "      <td>0.513</td>\n",
       "      <td>0.560</td>\n",
       "      <td>0.019</td>\n",
       "      <td>0.097</td>\n",
       "      <td>0.526</td>\n",
       "      <td>114.290</td>\n",
       "      <td>0.894</td>\n",
       "    </tr>\n",
       "  </tbody>\n",
       "</table>\n",
       "</div>"
      ],
      "text/plain": [
       "   track_id  acousticness  danceability  energy  instrumentalness  liveness  speechiness   tempo  valence\n",
       "0         2         0.417         0.676   0.634             0.011     0.178        0.159 165.922    0.577\n",
       "1         3         0.374         0.529   0.817             0.002     0.106        0.462 126.957    0.269\n",
       "2         5         0.044         0.746   0.701             0.001     0.373        0.125 100.260    0.622\n",
       "3        10         0.952         0.658   0.925             0.965     0.115        0.033 111.562    0.964\n",
       "4       134         0.452         0.513   0.560             0.019     0.097        0.526 114.290    0.894"
      ]
     },
     "execution_count": 35,
     "metadata": {},
     "output_type": "execute_result"
    }
   ],
   "source": [
    "track_metrics.head()"
   ]
  },
  {
   "cell_type": "code",
   "execution_count": 36,
   "metadata": {},
   "outputs": [
    {
     "name": "stdout",
     "output_type": "stream",
     "text": [
      "(17734, 21)\n",
      "(13129, 9)\n"
     ]
    }
   ],
   "source": [
    "print(track_data.shape)\n",
    "print(track_metrics.shape)"
   ]
  },
  {
   "cell_type": "code",
   "execution_count": 37,
   "metadata": {},
   "outputs": [],
   "source": [
    "# Merge the track_id and genre_top columns of tracks and echonest_metrics on track_id values\n",
    "data = track_metrics.merge(track_data[['genre_top','track_id']], on='track_id', how='inner')\n",
    "\n",
    "df_tracks = data.copy()"
   ]
  },
  {
   "cell_type": "code",
   "execution_count": 38,
   "metadata": {},
   "outputs": [],
   "source": [
    "hip_hop_data = df_tracks[df_tracks['genre_top'] == 'Hip-Hop']\n",
    "rock_data = df_tracks[df_tracks['genre_top'] == 'Rock']"
   ]
  },
  {
   "cell_type": "code",
   "execution_count": 39,
   "metadata": {},
   "outputs": [
    {
     "data": {
      "text/plain": [
       "(910, 10)"
      ]
     },
     "execution_count": 39,
     "metadata": {},
     "output_type": "execute_result"
    }
   ],
   "source": [
    "hip_hop_data.shape"
   ]
  },
  {
   "cell_type": "code",
   "execution_count": 40,
   "metadata": {},
   "outputs": [
    {
     "data": {
      "text/plain": [
       "(3892, 10)"
      ]
     },
     "execution_count": 40,
     "metadata": {},
     "output_type": "execute_result"
    }
   ],
   "source": [
    "rock_data.shape"
   ]
  },
  {
   "cell_type": "code",
   "execution_count": 41,
   "metadata": {},
   "outputs": [],
   "source": [
    "rock_data = rock_data.sample(hip_hop_data.shape[0])"
   ]
  },
  {
   "cell_type": "code",
   "execution_count": 42,
   "metadata": {},
   "outputs": [
    {
     "data": {
      "text/plain": [
       "((910, 10), (910, 10))"
      ]
     },
     "execution_count": 42,
     "metadata": {},
     "output_type": "execute_result"
    }
   ],
   "source": [
    "rock_data.shape, hip_hop_data.shape"
   ]
  },
  {
   "cell_type": "code",
   "execution_count": 43,
   "metadata": {},
   "outputs": [],
   "source": [
    "data = pd.concat([rock_data, hip_hop_data], axis=0)"
   ]
  },
  {
   "cell_type": "code",
   "execution_count": 44,
   "metadata": {},
   "outputs": [
    {
     "data": {
      "text/html": [
       "<div>\n",
       "<style scoped>\n",
       "    .dataframe tbody tr th:only-of-type {\n",
       "        vertical-align: middle;\n",
       "    }\n",
       "\n",
       "    .dataframe tbody tr th {\n",
       "        vertical-align: top;\n",
       "    }\n",
       "\n",
       "    .dataframe thead th {\n",
       "        text-align: right;\n",
       "    }\n",
       "</style>\n",
       "<table border=\"1\" class=\"dataframe\">\n",
       "  <thead>\n",
       "    <tr style=\"text-align: right;\">\n",
       "      <th></th>\n",
       "      <th>track_id</th>\n",
       "      <th>acousticness</th>\n",
       "      <th>danceability</th>\n",
       "      <th>energy</th>\n",
       "      <th>instrumentalness</th>\n",
       "      <th>liveness</th>\n",
       "      <th>speechiness</th>\n",
       "      <th>tempo</th>\n",
       "      <th>valence</th>\n",
       "      <th>genre_top</th>\n",
       "    </tr>\n",
       "  </thead>\n",
       "  <tbody>\n",
       "    <tr>\n",
       "      <th>1291</th>\n",
       "      <td>8202</td>\n",
       "      <td>0.924</td>\n",
       "      <td>0.368</td>\n",
       "      <td>0.937</td>\n",
       "      <td>0.058</td>\n",
       "      <td>0.312</td>\n",
       "      <td>0.150</td>\n",
       "      <td>124.434</td>\n",
       "      <td>0.124</td>\n",
       "      <td>Rock</td>\n",
       "    </tr>\n",
       "    <tr>\n",
       "      <th>2024</th>\n",
       "      <td>16694</td>\n",
       "      <td>0.002</td>\n",
       "      <td>0.575</td>\n",
       "      <td>0.887</td>\n",
       "      <td>0.565</td>\n",
       "      <td>0.153</td>\n",
       "      <td>0.055</td>\n",
       "      <td>92.994</td>\n",
       "      <td>0.474</td>\n",
       "      <td>Rock</td>\n",
       "    </tr>\n",
       "    <tr>\n",
       "      <th>3471</th>\n",
       "      <td>42044</td>\n",
       "      <td>0.000</td>\n",
       "      <td>0.352</td>\n",
       "      <td>0.945</td>\n",
       "      <td>0.198</td>\n",
       "      <td>0.100</td>\n",
       "      <td>0.081</td>\n",
       "      <td>230.087</td>\n",
       "      <td>0.242</td>\n",
       "      <td>Rock</td>\n",
       "    </tr>\n",
       "    <tr>\n",
       "      <th>2144</th>\n",
       "      <td>17944</td>\n",
       "      <td>0.938</td>\n",
       "      <td>0.162</td>\n",
       "      <td>0.430</td>\n",
       "      <td>0.871</td>\n",
       "      <td>0.115</td>\n",
       "      <td>0.045</td>\n",
       "      <td>88.122</td>\n",
       "      <td>0.280</td>\n",
       "      <td>Rock</td>\n",
       "    </tr>\n",
       "    <tr>\n",
       "      <th>1766</th>\n",
       "      <td>13770</td>\n",
       "      <td>0.849</td>\n",
       "      <td>0.605</td>\n",
       "      <td>0.315</td>\n",
       "      <td>0.934</td>\n",
       "      <td>0.768</td>\n",
       "      <td>0.032</td>\n",
       "      <td>125.673</td>\n",
       "      <td>0.858</td>\n",
       "      <td>Rock</td>\n",
       "    </tr>\n",
       "  </tbody>\n",
       "</table>\n",
       "</div>"
      ],
      "text/plain": [
       "      track_id  acousticness  danceability  energy  instrumentalness  liveness  speechiness   tempo  valence genre_top\n",
       "1291      8202         0.924         0.368   0.937             0.058     0.312        0.150 124.434    0.124      Rock\n",
       "2024     16694         0.002         0.575   0.887             0.565     0.153        0.055  92.994    0.474      Rock\n",
       "3471     42044         0.000         0.352   0.945             0.198     0.100        0.081 230.087    0.242      Rock\n",
       "2144     17944         0.938         0.162   0.430             0.871     0.115        0.045  88.122    0.280      Rock\n",
       "1766     13770         0.849         0.605   0.315             0.934     0.768        0.032 125.673    0.858      Rock"
      ]
     },
     "execution_count": 44,
     "metadata": {},
     "output_type": "execute_result"
    }
   ],
   "source": [
    "data.head()"
   ]
  },
  {
   "cell_type": "code",
   "execution_count": 45,
   "metadata": {},
   "outputs": [
    {
     "data": {
      "text/html": [
       "<div>\n",
       "<style scoped>\n",
       "    .dataframe tbody tr th:only-of-type {\n",
       "        vertical-align: middle;\n",
       "    }\n",
       "\n",
       "    .dataframe tbody tr th {\n",
       "        vertical-align: top;\n",
       "    }\n",
       "\n",
       "    .dataframe thead th {\n",
       "        text-align: right;\n",
       "    }\n",
       "</style>\n",
       "<table border=\"1\" class=\"dataframe\">\n",
       "  <thead>\n",
       "    <tr style=\"text-align: right;\">\n",
       "      <th></th>\n",
       "      <th>track_id</th>\n",
       "      <th>acousticness</th>\n",
       "      <th>danceability</th>\n",
       "      <th>energy</th>\n",
       "      <th>instrumentalness</th>\n",
       "      <th>liveness</th>\n",
       "      <th>speechiness</th>\n",
       "      <th>tempo</th>\n",
       "      <th>valence</th>\n",
       "    </tr>\n",
       "  </thead>\n",
       "  <tbody>\n",
       "    <tr>\n",
       "      <th>count</th>\n",
       "      <td>1820.000</td>\n",
       "      <td>1820.000</td>\n",
       "      <td>1820.000</td>\n",
       "      <td>1820.000</td>\n",
       "      <td>1820.000</td>\n",
       "      <td>1820.000</td>\n",
       "      <td>1820.000</td>\n",
       "      <td>1820.000</td>\n",
       "      <td>1820.000</td>\n",
       "    </tr>\n",
       "    <tr>\n",
       "      <th>mean</th>\n",
       "      <td>30827.157</td>\n",
       "      <td>0.454</td>\n",
       "      <td>0.505</td>\n",
       "      <td>0.605</td>\n",
       "      <td>0.508</td>\n",
       "      <td>0.187</td>\n",
       "      <td>0.162</td>\n",
       "      <td>123.375</td>\n",
       "      <td>0.503</td>\n",
       "    </tr>\n",
       "    <tr>\n",
       "      <th>std</th>\n",
       "      <td>28260.158</td>\n",
       "      <td>0.350</td>\n",
       "      <td>0.201</td>\n",
       "      <td>0.228</td>\n",
       "      <td>0.407</td>\n",
       "      <td>0.149</td>\n",
       "      <td>0.187</td>\n",
       "      <td>35.934</td>\n",
       "      <td>0.263</td>\n",
       "    </tr>\n",
       "    <tr>\n",
       "      <th>min</th>\n",
       "      <td>2.000</td>\n",
       "      <td>0.000</td>\n",
       "      <td>0.051</td>\n",
       "      <td>0.000</td>\n",
       "      <td>0.000</td>\n",
       "      <td>0.025</td>\n",
       "      <td>0.023</td>\n",
       "      <td>29.093</td>\n",
       "      <td>0.026</td>\n",
       "    </tr>\n",
       "    <tr>\n",
       "      <th>25%</th>\n",
       "      <td>11798.500</td>\n",
       "      <td>0.084</td>\n",
       "      <td>0.353</td>\n",
       "      <td>0.442</td>\n",
       "      <td>0.007</td>\n",
       "      <td>0.103</td>\n",
       "      <td>0.041</td>\n",
       "      <td>93.653</td>\n",
       "      <td>0.294</td>\n",
       "    </tr>\n",
       "    <tr>\n",
       "      <th>50%</th>\n",
       "      <td>22023.500</td>\n",
       "      <td>0.445</td>\n",
       "      <td>0.503</td>\n",
       "      <td>0.610</td>\n",
       "      <td>0.696</td>\n",
       "      <td>0.123</td>\n",
       "      <td>0.070</td>\n",
       "      <td>117.094</td>\n",
       "      <td>0.515</td>\n",
       "    </tr>\n",
       "    <tr>\n",
       "      <th>75%</th>\n",
       "      <td>43039.500</td>\n",
       "      <td>0.798</td>\n",
       "      <td>0.673</td>\n",
       "      <td>0.789</td>\n",
       "      <td>0.899</td>\n",
       "      <td>0.223</td>\n",
       "      <td>0.217</td>\n",
       "      <td>152.100</td>\n",
       "      <td>0.711</td>\n",
       "    </tr>\n",
       "    <tr>\n",
       "      <th>max</th>\n",
       "      <td>124722.000</td>\n",
       "      <td>0.996</td>\n",
       "      <td>0.962</td>\n",
       "      <td>0.999</td>\n",
       "      <td>0.983</td>\n",
       "      <td>0.971</td>\n",
       "      <td>0.966</td>\n",
       "      <td>242.580</td>\n",
       "      <td>0.983</td>\n",
       "    </tr>\n",
       "  </tbody>\n",
       "</table>\n",
       "</div>"
      ],
      "text/plain": [
       "        track_id  acousticness  danceability   energy  instrumentalness  liveness  speechiness    tempo  valence\n",
       "count   1820.000      1820.000      1820.000 1820.000          1820.000  1820.000     1820.000 1820.000 1820.000\n",
       "mean   30827.157         0.454         0.505    0.605             0.508     0.187        0.162  123.375    0.503\n",
       "std    28260.158         0.350         0.201    0.228             0.407     0.149        0.187   35.934    0.263\n",
       "min        2.000         0.000         0.051    0.000             0.000     0.025        0.023   29.093    0.026\n",
       "25%    11798.500         0.084         0.353    0.442             0.007     0.103        0.041   93.653    0.294\n",
       "50%    22023.500         0.445         0.503    0.610             0.696     0.123        0.070  117.094    0.515\n",
       "75%    43039.500         0.798         0.673    0.789             0.899     0.223        0.217  152.100    0.711\n",
       "max   124722.000         0.996         0.962    0.999             0.983     0.971        0.966  242.580    0.983"
      ]
     },
     "execution_count": 45,
     "metadata": {},
     "output_type": "execute_result"
    }
   ],
   "source": [
    "data.describe()"
   ]
  },
  {
   "cell_type": "code",
   "execution_count": 46,
   "metadata": {},
   "outputs": [
    {
     "name": "stdout",
     "output_type": "stream",
     "text": [
      "<class 'pandas.core.frame.DataFrame'>\n",
      "Index: 1820 entries, 1291 to 4801\n",
      "Data columns (total 10 columns):\n",
      " #   Column            Non-Null Count  Dtype  \n",
      "---  ------            --------------  -----  \n",
      " 0   track_id          1820 non-null   int64  \n",
      " 1   acousticness      1820 non-null   float64\n",
      " 2   danceability      1820 non-null   float64\n",
      " 3   energy            1820 non-null   float64\n",
      " 4   instrumentalness  1820 non-null   float64\n",
      " 5   liveness          1820 non-null   float64\n",
      " 6   speechiness       1820 non-null   float64\n",
      " 7   tempo             1820 non-null   float64\n",
      " 8   valence           1820 non-null   float64\n",
      " 9   genre_top         1820 non-null   object \n",
      "dtypes: float64(8), int64(1), object(1)\n",
      "memory usage: 156.4+ KB\n"
     ]
    }
   ],
   "source": [
    "# Inspect the resultant dataframe\n",
    "data.info()"
   ]
  },
  {
   "cell_type": "code",
   "execution_count": 47,
   "metadata": {},
   "outputs": [
    {
     "name": "stderr",
     "output_type": "stream",
     "text": [
      "c:\\Users\\Shahbaz\\AppData\\Local\\Programs\\Python\\Python311\\Lib\\site-packages\\seaborn\\_oldcore.py:1498: FutureWarning: is_categorical_dtype is deprecated and will be removed in a future version. Use isinstance(dtype, CategoricalDtype) instead\n",
      "  if pd.api.types.is_categorical_dtype(vector):\n"
     ]
    },
    {
     "data": {
      "image/png": "[encoded data removed]",
      "text/plain": [
       "<Figure size 640x480 with 1 Axes>"
      ]
     },
     "metadata": {},
     "output_type": "display_data"
    },
    {
     "name": "stderr",
     "output_type": "stream",
     "text": [
      "c:\\Users\\Shahbaz\\AppData\\Local\\Programs\\Python\\Python311\\Lib\\site-packages\\seaborn\\_oldcore.py:1498: FutureWarning: is_categorical_dtype is deprecated and will be removed in a future version. Use isinstance(dtype, CategoricalDtype) instead\n",
      "  if pd.api.types.is_categorical_dtype(vector):\n"
     ]
    },
    {
     "data": {
      "image/png": "[encoded data removed]",
      "text/plain": [
       "<Figure size 640x480 with 1 Axes>"
      ]
     },
     "metadata": {},
     "output_type": "display_data"
    },
    {
     "name": "stderr",
     "output_type": "stream",
     "text": [
      "c:\\Users\\Shahbaz\\AppData\\Local\\Programs\\Python\\Python311\\Lib\\site-packages\\seaborn\\_oldcore.py:1498: FutureWarning: is_categorical_dtype is deprecated and will be removed in a future version. Use isinstance(dtype, CategoricalDtype) instead\n",
      "  if pd.api.types.is_categorical_dtype(vector):\n"
     ]
    },
    {
     "data": {
      "image/png": "[encoded data removed]",
      "text/plain": [
       "<Figure size 640x480 with 1 Axes>"
      ]
     },
     "metadata": {},
     "output_type": "display_data"
    },
    {
     "name": "stderr",
     "output_type": "stream",
     "text": [
      "c:\\Users\\Shahbaz\\AppData\\Local\\Programs\\Python\\Python311\\Lib\\site-packages\\seaborn\\_oldcore.py:1498: FutureWarning: is_categorical_dtype is deprecated and will be removed in a future version. Use isinstance(dtype, CategoricalDtype) instead\n",
      "  if pd.api.types.is_categorical_dtype(vector):\n"
     ]
    },
    {
     "data": {
      "image/png": "[encoded data removed]",
      "text/plain": [
       "<Figure size 640x480 with 1 Axes>"
      ]
     },
     "metadata": {},
     "output_type": "display_data"
    },
    {
     "name": "stderr",
     "output_type": "stream",
     "text": [
      "c:\\Users\\Shahbaz\\AppData\\Local\\Programs\\Python\\Python311\\Lib\\site-packages\\seaborn\\_oldcore.py:1498: FutureWarning: is_categorical_dtype is deprecated and will be removed in a future version. Use isinstance(dtype, CategoricalDtype) instead\n",
      "  if pd.api.types.is_categorical_dtype(vector):\n"
     ]
    },
    {
     "data": {
      "image/png": "[encoded data removed]",
      "text/plain": [
       "<Figure size 640x480 with 1 Axes>"
      ]
     },
     "metadata": {},
     "output_type": "display_data"
    },
    {
     "name": "stderr",
     "output_type": "stream",
     "text": [
      "c:\\Users\\Shahbaz\\AppData\\Local\\Programs\\Python\\Python311\\Lib\\site-packages\\seaborn\\_oldcore.py:1498: FutureWarning: is_categorical_dtype is deprecated and will be removed in a future version. Use isinstance(dtype, CategoricalDtype) instead\n",
      "  if pd.api.types.is_categorical_dtype(vector):\n"
     ]
    },
    {
     "data": {
      "image/png": "[encoded data removed]",
      "text/plain": [
       "<Figure size 640x480 with 1 Axes>"
      ]
     },
     "metadata": {},
     "output_type": "display_data"
    },
    {
     "name": "stderr",
     "output_type": "stream",
     "text": [
      "c:\\Users\\Shahbaz\\AppData\\Local\\Programs\\Python\\Python311\\Lib\\site-packages\\seaborn\\_oldcore.py:1498: FutureWarning: is_categorical_dtype is deprecated and will be removed in a future version. Use isinstance(dtype, CategoricalDtype) instead\n",
      "  if pd.api.types.is_categorical_dtype(vector):\n"
     ]
    },
    {
     "data": {
      "image/png": "[encoded data removed]",
      "text/plain": [
       "<Figure size 640x480 with 1 Axes>"
      ]
     },
     "metadata": {},
     "output_type": "display_data"
    },
    {
     "name": "stderr",
     "output_type": "stream",
     "text": [
      "c:\\Users\\Shahbaz\\AppData\\Local\\Programs\\Python\\Python311\\Lib\\site-packages\\seaborn\\_oldcore.py:1498: FutureWarning: is_categorical_dtype is deprecated and will be removed in a future version. Use isinstance(dtype, CategoricalDtype) instead\n",
      "  if pd.api.types.is_categorical_dtype(vector):\n"
     ]
    },
    {
     "data": {
      "image/png": "[encoded data removed]",
      "text/plain": [
       "<Figure size 640x480 with 1 Axes>"
      ]
     },
     "metadata": {},
     "output_type": "display_data"
    },
    {
     "name": "stderr",
     "output_type": "stream",
     "text": [
      "c:\\Users\\Shahbaz\\AppData\\Local\\Programs\\Python\\Python311\\Lib\\site-packages\\seaborn\\_oldcore.py:1498: FutureWarning: is_categorical_dtype is deprecated and will be removed in a future version. Use isinstance(dtype, CategoricalDtype) instead\n",
      "  if pd.api.types.is_categorical_dtype(vector):\n"
     ]
    },
    {
     "data": {
      "image/png": "[encoded data removed]",
      "text/plain": [
       "<Figure size 640x480 with 1 Axes>"
      ]
     },
     "metadata": {},
     "output_type": "display_data"
    }
   ],
   "source": [
    "# Outlier treatment\n",
    "for x in data.columns:\n",
    "    if data[x].dtype != object:\n",
    "        sns.boxplot(data=data, x=data[x])\n",
    "        plt.title(f\"Boxplot of {x} column\")\n",
    "        plt.show()"
   ]
  },
  {
   "cell_type": "code",
   "execution_count": 48,
   "metadata": {},
   "outputs": [],
   "source": [
    "numeric_data = data.select_dtypes(exclude='object')\n",
    "\n",
    "q1 = numeric_data.quantile(0.25)\n",
    "q3 = numeric_data.quantile(0.75)\n",
    "IQR = q3 - q1\n",
    "\n",
    "lower = np.maximum(0, q1 - 1.5*IQR)\n",
    "upper = q3 + 1.5*IQR"
   ]
  },
  {
   "cell_type": "code",
   "execution_count": 49,
   "metadata": {},
   "outputs": [
    {
     "data": {
      "text/plain": [
       "track_id           0.000\n",
       "acousticness       0.000\n",
       "danceability       0.000\n",
       "energy             0.000\n",
       "instrumentalness   0.000\n",
       "liveness           0.000\n",
       "speechiness        0.000\n",
       "tempo              5.983\n",
       "valence            0.000\n",
       "dtype: float64"
      ]
     },
     "execution_count": 49,
     "metadata": {},
     "output_type": "execute_result"
    }
   ],
   "source": [
    "lower"
   ]
  },
  {
   "cell_type": "code",
   "execution_count": 50,
   "metadata": {},
   "outputs": [
    {
     "data": {
      "text/plain": [
       "track_id           89901.000\n",
       "acousticness           1.870\n",
       "danceability           1.153\n",
       "energy                 1.311\n",
       "instrumentalness       2.237\n",
       "liveness               0.402\n",
       "speechiness            0.481\n",
       "tempo                239.770\n",
       "valence                1.337\n",
       "dtype: float64"
      ]
     },
     "execution_count": 50,
     "metadata": {},
     "output_type": "execute_result"
    }
   ],
   "source": [
    "upper"
   ]
  },
  {
   "cell_type": "code",
   "execution_count": 51,
   "metadata": {},
   "outputs": [],
   "source": [
    "for x in data.columns:\n",
    "    if (x != 'track_id') and (data[x].dtype != object):\n",
    "        data[x] = np.where(data[x] < lower[x], lower[x], data[x])\n",
    "        data[x] = np.where(data[x] > upper[x], upper[x], data[x])\n"
   ]
  },
  {
   "cell_type": "code",
   "execution_count": 52,
   "metadata": {},
   "outputs": [
    {
     "name": "stderr",
     "output_type": "stream",
     "text": [
      "c:\\Users\\Shahbaz\\AppData\\Local\\Programs\\Python\\Python311\\Lib\\site-packages\\seaborn\\_oldcore.py:1498: FutureWarning: is_categorical_dtype is deprecated and will be removed in a future version. Use isinstance(dtype, CategoricalDtype) instead\n",
      "  if pd.api.types.is_categorical_dtype(vector):\n"
     ]
    },
    {
     "data": {
      "image/png": "[encoded data removed]",
      "text/plain": [
       "<Figure size 640x480 with 1 Axes>"
      ]
     },
     "metadata": {},
     "output_type": "display_data"
    },
    {
     "name": "stderr",
     "output_type": "stream",
     "text": [
      "c:\\Users\\Shahbaz\\AppData\\Local\\Programs\\Python\\Python311\\Lib\\site-packages\\seaborn\\_oldcore.py:1498: FutureWarning: is_categorical_dtype is deprecated and will be removed in a future version. Use isinstance(dtype, CategoricalDtype) instead\n",
      "  if pd.api.types.is_categorical_dtype(vector):\n"
     ]
    },
    {
     "data": {
      "image/png": "[encoded data removed]",
      "text/plain": [
       "<Figure size 640x480 with 1 Axes>"
      ]
     },
     "metadata": {},
     "output_type": "display_data"
    },
    {
     "name": "stderr",
     "output_type": "stream",
     "text": [
      "c:\\Users\\Shahbaz\\AppData\\Local\\Programs\\Python\\Python311\\Lib\\site-packages\\seaborn\\_oldcore.py:1498: FutureWarning: is_categorical_dtype is deprecated and will be removed in a future version. Use isinstance(dtype, CategoricalDtype) instead\n",
      "  if pd.api.types.is_categorical_dtype(vector):\n"
     ]
    },
    {
     "data": {
      "image/png": "[encoded data removed]",
      "text/plain": [
       "<Figure size 640x480 with 1 Axes>"
      ]
     },
     "metadata": {},
     "output_type": "display_data"
    },
    {
     "name": "stderr",
     "output_type": "stream",
     "text": [
      "c:\\Users\\Shahbaz\\AppData\\Local\\Programs\\Python\\Python311\\Lib\\site-packages\\seaborn\\_oldcore.py:1498: FutureWarning: is_categorical_dtype is deprecated and will be removed in a future version. Use isinstance(dtype, CategoricalDtype) instead\n",
      "  if pd.api.types.is_categorical_dtype(vector):\n"
     ]
    },
    {
     "data": {
      "image/png": "[encoded data removed]",
      "text/plain": [
       "<Figure size 640x480 with 1 Axes>"
      ]
     },
     "metadata": {},
     "output_type": "display_data"
    },
    {
     "name": "stderr",
     "output_type": "stream",
     "text": [
      "c:\\Users\\Shahbaz\\AppData\\Local\\Programs\\Python\\Python311\\Lib\\site-packages\\seaborn\\_oldcore.py:1498: FutureWarning: is_categorical_dtype is deprecated and will be removed in a future version. Use isinstance(dtype, CategoricalDtype) instead\n",
      "  if pd.api.types.is_categorical_dtype(vector):\n"
     ]
    },
    {
     "data": {
      "image/png": "[encoded data removed]",
      "text/plain": [
       "<Figure size 640x480 with 1 Axes>"
      ]
     },
     "metadata": {},
     "output_type": "display_data"
    },
    {
     "name": "stderr",
     "output_type": "stream",
     "text": [
      "c:\\Users\\Shahbaz\\AppData\\Local\\Programs\\Python\\Python311\\Lib\\site-packages\\seaborn\\_oldcore.py:1498: FutureWarning: is_categorical_dtype is deprecated and will be removed in a future version. Use isinstance(dtype, CategoricalDtype) instead\n",
      "  if pd.api.types.is_categorical_dtype(vector):\n"
     ]
    },
    {
     "data": {
      "image/png": "[encoded data removed]",
      "text/plain": [
       "<Figure size 640x480 with 1 Axes>"
      ]
     },
     "metadata": {},
     "output_type": "display_data"
    },
    {
     "name": "stderr",
     "output_type": "stream",
     "text": [
      "c:\\Users\\Shahbaz\\AppData\\Local\\Programs\\Python\\Python311\\Lib\\site-packages\\seaborn\\_oldcore.py:1498: FutureWarning: is_categorical_dtype is deprecated and will be removed in a future version. Use isinstance(dtype, CategoricalDtype) instead\n",
      "  if pd.api.types.is_categorical_dtype(vector):\n"
     ]
    },
    {
     "data": {
      "image/png": "[encoded data removed]",
      "text/plain": [
       "<Figure size 640x480 with 1 Axes>"
      ]
     },
     "metadata": {},
     "output_type": "display_data"
    },
    {
     "name": "stderr",
     "output_type": "stream",
     "text": [
      "c:\\Users\\Shahbaz\\AppData\\Local\\Programs\\Python\\Python311\\Lib\\site-packages\\seaborn\\_oldcore.py:1498: FutureWarning: is_categorical_dtype is deprecated and will be removed in a future version. Use isinstance(dtype, CategoricalDtype) instead\n",
      "  if pd.api.types.is_categorical_dtype(vector):\n"
     ]
    },
    {
     "data": {
      "image/png": "[encoded data removed]",
      "text/plain": [
       "<Figure size 640x480 with 1 Axes>"
      ]
     },
     "metadata": {},
     "output_type": "display_data"
    },
    {
     "name": "stderr",
     "output_type": "stream",
     "text": [
      "c:\\Users\\Shahbaz\\AppData\\Local\\Programs\\Python\\Python311\\Lib\\site-packages\\seaborn\\_oldcore.py:1498: FutureWarning: is_categorical_dtype is deprecated and will be removed in a future version. Use isinstance(dtype, CategoricalDtype) instead\n",
      "  if pd.api.types.is_categorical_dtype(vector):\n"
     ]
    },
    {
     "data": {
      "image/png": "[encoded data removed]",
      "text/plain": [
       "<Figure size 640x480 with 1 Axes>"
      ]
     },
     "metadata": {},
     "output_type": "display_data"
    }
   ],
   "source": [
    "for x in data.columns:\n",
    "    if data[x].dtype != object:\n",
    "        sns.boxplot(data=data, x=data[x])\n",
    "        plt.title(f\"Boxplot of {x} column\")\n",
    "        plt.show()"
   ]
  },
  {
   "cell_type": "markdown",
   "metadata": {
    "dc": {
     "key": "10"
    },
    "deletable": false,
    "editable": false,
    "run_control": {
     "frozen": true
    },
    "tags": [
     "context"
    ]
   },
   "source": [
    "## Pairwise relationships between continuous variables\n",
    "<p>We typically want to avoid using variables that have strong correlations with each other -- hence avoiding feature redundancy -- for a few reasons:</p>\n",
    "<ul>\n",
    "<li>To keep the model simple and improve interpretability (with many features, we run the risk of overfitting).</li>\n",
    "<li>When our datasets are very large, using fewer features can drastically speed up our computation time.</li>\n",
    "</ul>\n",
    "<p>To get a sense of whether there are any strongly correlated features in our data, we will use built-in functions in the <code>pandas</code> package.</p>"
   ]
  },
  {
   "cell_type": "code",
   "execution_count": 53,
   "metadata": {},
   "outputs": [
    {
     "name": "stdout",
     "output_type": "stream",
     "text": [
      "Column: track_id\n",
      "Kolmogorov-Smirnov Test:\n",
      "Test Statistic: 0.998900812249527\n",
      "p-value: 0.0\n",
      "\n",
      "\n",
      "Column: acousticness\n",
      "Kolmogorov-Smirnov Test:\n",
      "Test Statistic: 0.5000008396937118\n",
      "p-value: 0.0\n",
      "\n",
      "\n",
      "Column: danceability\n",
      "Kolmogorov-Smirnov Test:\n",
      "Test Statistic: 0.5341064046183779\n",
      "p-value: 0.0\n",
      "\n",
      "\n",
      "Column: energy\n",
      "Kolmogorov-Smirnov Test:\n",
      "Test Statistic: 0.5377779628445467\n",
      "p-value: 0.0\n",
      "\n",
      "\n",
      "Column: instrumentalness\n",
      "Kolmogorov-Smirnov Test:\n",
      "Test Statistic: 0.5\n",
      "p-value: 0.0\n",
      "\n",
      "\n",
      "Column: liveness\n",
      "Kolmogorov-Smirnov Test:\n",
      "Test Statistic: 0.5126280886645144\n",
      "p-value: 0.0\n",
      "\n",
      "\n",
      "Column: speechiness\n",
      "Kolmogorov-Smirnov Test:\n",
      "Test Statistic: 0.5092680832731188\n",
      "p-value: 0.0\n",
      "\n",
      "\n",
      "Column: tempo\n",
      "Kolmogorov-Smirnov Test:\n",
      "Test Statistic: 1.0\n",
      "p-value: 0.0\n",
      "\n",
      "\n",
      "Column: valence\n",
      "Kolmogorov-Smirnov Test:\n",
      "Test Statistic: 0.5103781851560639\n",
      "p-value: 0.0\n",
      "\n",
      "\n"
     ]
    }
   ],
   "source": [
    "# Checking the distributions\n",
    "from scipy import stats\n",
    "\n",
    "normal_distributed = []\n",
    "not_normal_distributed = []\n",
    "\n",
    "for i in data.columns:\n",
    "    if data[i].dtype != object:\n",
    "        ks_stat, ks_p_value = stats.kstest(data[i], cdf='norm')\n",
    "        print(f'Column: {i}')\n",
    "        print(f'Kolmogorov-Smirnov Test:')\n",
    "        print(f'Test Statistic: {ks_stat}')\n",
    "        print(f'p-value: {ks_p_value}')\n",
    "        print('\\n')\n",
    "        if ks_p_value > 0.05:\n",
    "            normal_distributed.append(i)\n",
    "        else:\n",
    "            not_normal_distributed.append(i)"
   ]
  },
  {
   "cell_type": "code",
   "execution_count": 54,
   "metadata": {},
   "outputs": [
    {
     "data": {
      "text/plain": [
       "[]"
      ]
     },
     "execution_count": 54,
     "metadata": {},
     "output_type": "execute_result"
    }
   ],
   "source": [
    "normal_distributed"
   ]
  },
  {
   "cell_type": "code",
   "execution_count": 55,
   "metadata": {},
   "outputs": [
    {
     "data": {
      "text/plain": [
       "['track_id',\n",
       " 'acousticness',\n",
       " 'danceability',\n",
       " 'energy',\n",
       " 'instrumentalness',\n",
       " 'liveness',\n",
       " 'speechiness',\n",
       " 'tempo',\n",
       " 'valence']"
      ]
     },
     "execution_count": 55,
     "metadata": {},
     "output_type": "execute_result"
    }
   ],
   "source": [
    "not_normal_distributed"
   ]
  },
  {
   "cell_type": "code",
   "execution_count": 56,
   "metadata": {},
   "outputs": [
    {
     "data": {
      "text/plain": [
       "genre_top\n",
       "Rock       910\n",
       "Hip-Hop    910\n",
       "Name: count, dtype: int64"
      ]
     },
     "execution_count": 56,
     "metadata": {},
     "output_type": "execute_result"
    }
   ],
   "source": [
    "data['genre_top'].value_counts()"
   ]
  },
  {
   "cell_type": "code",
   "execution_count": 57,
   "metadata": {},
   "outputs": [],
   "source": [
    "data['genre_top'] = data['genre_top'].map({'Rock':0, 'Hip-Hop':1})"
   ]
  },
  {
   "cell_type": "code",
   "execution_count": 58,
   "metadata": {},
   "outputs": [],
   "source": [
    "def target_correlation(data, target, threshold=0.01):\n",
    "    corr_matrix = data.corr(method='spearman')\n",
    "    \n",
    "    result_explaining_target = []\n",
    "    result_not_explaining_target = []\n",
    "    \n",
    "    for variable in corr_matrix.index:\n",
    "        if variable != target:\n",
    "            correlation = corr_matrix.loc[variable, target]\n",
    "            if abs(correlation) > threshold:\n",
    "                result_explaining_target.append({'Variable': variable, 'Correlation with Target': correlation})\n",
    "            else:\n",
    "                result_not_explaining_target.append({'Variable': variable, 'Correlation with Target': correlation})\n",
    "    \n",
    "    return pd.DataFrame(result_explaining_target), pd.DataFrame(result_not_explaining_target)\n"
   ]
  },
  {
   "cell_type": "code",
   "execution_count": 59,
   "metadata": {},
   "outputs": [
    {
     "data": {
      "text/html": [
       "<div>\n",
       "<style scoped>\n",
       "    .dataframe tbody tr th:only-of-type {\n",
       "        vertical-align: middle;\n",
       "    }\n",
       "\n",
       "    .dataframe tbody tr th {\n",
       "        vertical-align: top;\n",
       "    }\n",
       "\n",
       "    .dataframe thead th {\n",
       "        text-align: right;\n",
       "    }\n",
       "</style>\n",
       "<table border=\"1\" class=\"dataframe\">\n",
       "  <thead>\n",
       "    <tr style=\"text-align: right;\">\n",
       "      <th></th>\n",
       "      <th>Variable</th>\n",
       "      <th>Correlation with Target</th>\n",
       "    </tr>\n",
       "  </thead>\n",
       "  <tbody>\n",
       "    <tr>\n",
       "      <th>0</th>\n",
       "      <td>track_id</td>\n",
       "      <td>0.054</td>\n",
       "    </tr>\n",
       "    <tr>\n",
       "      <th>1</th>\n",
       "      <td>acousticness</td>\n",
       "      <td>-0.104</td>\n",
       "    </tr>\n",
       "    <tr>\n",
       "      <th>2</th>\n",
       "      <td>danceability</td>\n",
       "      <td>0.579</td>\n",
       "    </tr>\n",
       "    <tr>\n",
       "      <th>3</th>\n",
       "      <td>energy</td>\n",
       "      <td>-0.209</td>\n",
       "    </tr>\n",
       "    <tr>\n",
       "      <th>4</th>\n",
       "      <td>instrumentalness</td>\n",
       "      <td>-0.386</td>\n",
       "    </tr>\n",
       "    <tr>\n",
       "      <th>5</th>\n",
       "      <td>speechiness</td>\n",
       "      <td>0.614</td>\n",
       "    </tr>\n",
       "    <tr>\n",
       "      <th>6</th>\n",
       "      <td>tempo</td>\n",
       "      <td>-0.174</td>\n",
       "    </tr>\n",
       "    <tr>\n",
       "      <th>7</th>\n",
       "      <td>valence</td>\n",
       "      <td>0.327</td>\n",
       "    </tr>\n",
       "  </tbody>\n",
       "</table>\n",
       "</div>"
      ],
      "text/plain": [
       "           Variable  Correlation with Target\n",
       "0          track_id                    0.054\n",
       "1      acousticness                   -0.104\n",
       "2      danceability                    0.579\n",
       "3            energy                   -0.209\n",
       "4  instrumentalness                   -0.386\n",
       "5       speechiness                    0.614\n",
       "6             tempo                   -0.174\n",
       "7           valence                    0.327"
      ]
     },
     "execution_count": 59,
     "metadata": {},
     "output_type": "execute_result"
    }
   ],
   "source": [
    "explaining_target, not_explaining_target = target_correlation(data, 'genre_top')\n",
    "explaining_target"
   ]
  },
  {
   "cell_type": "code",
   "execution_count": 60,
   "metadata": {},
   "outputs": [
    {
     "data": {
      "text/html": [
       "<div>\n",
       "<style scoped>\n",
       "    .dataframe tbody tr th:only-of-type {\n",
       "        vertical-align: middle;\n",
       "    }\n",
       "\n",
       "    .dataframe tbody tr th {\n",
       "        vertical-align: top;\n",
       "    }\n",
       "\n",
       "    .dataframe thead th {\n",
       "        text-align: right;\n",
       "    }\n",
       "</style>\n",
       "<table border=\"1\" class=\"dataframe\">\n",
       "  <thead>\n",
       "    <tr style=\"text-align: right;\">\n",
       "      <th></th>\n",
       "      <th>Variable</th>\n",
       "      <th>Correlation with Target</th>\n",
       "    </tr>\n",
       "  </thead>\n",
       "  <tbody>\n",
       "    <tr>\n",
       "      <th>0</th>\n",
       "      <td>liveness</td>\n",
       "      <td>-0.004</td>\n",
       "    </tr>\n",
       "  </tbody>\n",
       "</table>\n",
       "</div>"
      ],
      "text/plain": [
       "   Variable  Correlation with Target\n",
       "0  liveness                   -0.004"
      ]
     },
     "execution_count": 60,
     "metadata": {},
     "output_type": "execute_result"
    }
   ],
   "source": [
    "not_explaining_target"
   ]
  },
  {
   "cell_type": "markdown",
   "metadata": {},
   "source": [
    "We have to drop one column when threshold is 0.01. (Threshold is low, don't pay attention)"
   ]
  },
  {
   "cell_type": "code",
   "execution_count": 61,
   "metadata": {},
   "outputs": [],
   "source": [
    "\n",
    "def intercorrelation(data, target, threshold=0.5):\n",
    "    corr_matrix = data.drop(columns=[target]).corr(method='spearman')\n",
    "    \n",
    "    highly_correlated_variables = (np.abs(corr_matrix) > threshold) & (corr_matrix != 1.0)\n",
    "    \n",
    "    independent_variable_pairs = np.where(highly_correlated_variables)\n",
    "    \n",
    "    correlated_pairs_set = set()\n",
    "\n",
    "    for var1, var2 in zip(independent_variable_pairs[0], independent_variable_pairs[1]):\n",
    "\n",
    "        if var1 < var2:\n",
    "            correlated_pairs_set.add((corr_matrix.index[var1], corr_matrix.columns[var2]))\n",
    "        else:\n",
    "            correlated_pairs_set.add((corr_matrix.index[var2], corr_matrix.columns[var1]))\n",
    "    \n",
    "    result_intercorrelated_independent = pd.DataFrame(list(correlated_pairs_set), columns=['Variable 1', 'Variable 2'])\n",
    "    \n",
    "    return result_intercorrelated_independent"
   ]
  },
  {
   "cell_type": "code",
   "execution_count": 62,
   "metadata": {},
   "outputs": [
    {
     "data": {
      "text/html": [
       "<div>\n",
       "<style scoped>\n",
       "    .dataframe tbody tr th:only-of-type {\n",
       "        vertical-align: middle;\n",
       "    }\n",
       "\n",
       "    .dataframe tbody tr th {\n",
       "        vertical-align: top;\n",
       "    }\n",
       "\n",
       "    .dataframe thead th {\n",
       "        text-align: right;\n",
       "    }\n",
       "</style>\n",
       "<table border=\"1\" class=\"dataframe\">\n",
       "  <thead>\n",
       "    <tr style=\"text-align: right;\">\n",
       "      <th></th>\n",
       "      <th>Variable 1</th>\n",
       "      <th>Variable 2</th>\n",
       "    </tr>\n",
       "  </thead>\n",
       "  <tbody>\n",
       "  </tbody>\n",
       "</table>\n",
       "</div>"
      ],
      "text/plain": [
       "Empty DataFrame\n",
       "Columns: [Variable 1, Variable 2]\n",
       "Index: []"
      ]
     },
     "execution_count": 62,
     "metadata": {},
     "output_type": "execute_result"
    }
   ],
   "source": [
    "intercorrelated_result = intercorrelation(data, 'genre_top')\n",
    "intercorrelated_result"
   ]
  },
  {
   "cell_type": "markdown",
   "metadata": {},
   "source": [
    "There is no any correlated column in our data when threshold is 0.5."
   ]
  },
  {
   "cell_type": "code",
   "execution_count": 63,
   "metadata": {
    "dc": {
     "key": "10"
    },
    "tags": [
     "sample_code"
    ]
   },
   "outputs": [
    {
     "data": {
      "text/html": [
       "<style type=\"text/css\">\n",
       "#T_c1ed7_row0_col0, #T_c1ed7_row1_col1, #T_c1ed7_row2_col2, #T_c1ed7_row3_col3, #T_c1ed7_row4_col4, #T_c1ed7_row5_col5, #T_c1ed7_row6_col6, #T_c1ed7_row7_col7, #T_c1ed7_row8_col8, #T_c1ed7_row9_col9 {\n",
       "  background-color: #023858;\n",
       "  color: #f1f1f1;\n",
       "}\n",
       "#T_c1ed7_row0_col1, #T_c1ed7_row1_col0, #T_c1ed7_row2_col3, #T_c1ed7_row2_col5, #T_c1ed7_row2_col7, #T_c1ed7_row3_col2, #T_c1ed7_row4_col5, #T_c1ed7_row4_col6, #T_c1ed7_row4_col8, #T_c1ed7_row4_col9, #T_c1ed7_row6_col4 {\n",
       "  background-color: #fff7fb;\n",
       "  color: #000000;\n",
       "}\n",
       "#T_c1ed7_row0_col2 {\n",
       "  background-color: #c4cbe3;\n",
       "  color: #000000;\n",
       "}\n",
       "#T_c1ed7_row0_col3, #T_c1ed7_row3_col6 {\n",
       "  background-color: #bbc7e0;\n",
       "  color: #000000;\n",
       "}\n",
       "#T_c1ed7_row0_col4, #T_c1ed7_row6_col5 {\n",
       "  background-color: #dfddec;\n",
       "  color: #000000;\n",
       "}\n",
       "#T_c1ed7_row0_col5, #T_c1ed7_row1_col5, #T_c1ed7_row7_col9, #T_c1ed7_row9_col1 {\n",
       "  background-color: #e6e2ef;\n",
       "  color: #000000;\n",
       "}\n",
       "#T_c1ed7_row0_col6 {\n",
       "  background-color: #c1cae2;\n",
       "  color: #000000;\n",
       "}\n",
       "#T_c1ed7_row0_col7 {\n",
       "  background-color: #e4e1ef;\n",
       "  color: #000000;\n",
       "}\n",
       "#T_c1ed7_row0_col8 {\n",
       "  background-color: #dedcec;\n",
       "  color: #000000;\n",
       "}\n",
       "#T_c1ed7_row0_col9, #T_c1ed7_row3_col4, #T_c1ed7_row6_col8 {\n",
       "  background-color: #b9c6e0;\n",
       "  color: #000000;\n",
       "}\n",
       "#T_c1ed7_row1_col2, #T_c1ed7_row2_col4 {\n",
       "  background-color: #e7e3f0;\n",
       "  color: #000000;\n",
       "}\n",
       "#T_c1ed7_row1_col3 {\n",
       "  background-color: #faf2f8;\n",
       "  color: #000000;\n",
       "}\n",
       "#T_c1ed7_row1_col4 {\n",
       "  background-color: #96b6d7;\n",
       "  color: #000000;\n",
       "}\n",
       "#T_c1ed7_row1_col6 {\n",
       "  background-color: #b1c2de;\n",
       "  color: #000000;\n",
       "}\n",
       "#T_c1ed7_row1_col7 {\n",
       "  background-color: #e0deed;\n",
       "  color: #000000;\n",
       "}\n",
       "#T_c1ed7_row1_col8, #T_c1ed7_row5_col7, #T_c1ed7_row6_col7, #T_c1ed7_row8_col3 {\n",
       "  background-color: #e2dfee;\n",
       "  color: #000000;\n",
       "}\n",
       "#T_c1ed7_row1_col9 {\n",
       "  background-color: #dad9ea;\n",
       "  color: #000000;\n",
       "}\n",
       "#T_c1ed7_row2_col0, #T_c1ed7_row7_col6 {\n",
       "  background-color: #bfc9e1;\n",
       "  color: #000000;\n",
       "}\n",
       "#T_c1ed7_row2_col1 {\n",
       "  background-color: #e3e0ee;\n",
       "  color: #000000;\n",
       "}\n",
       "#T_c1ed7_row2_col6 {\n",
       "  background-color: #62a2cb;\n",
       "  color: #f1f1f1;\n",
       "}\n",
       "#T_c1ed7_row2_col8 {\n",
       "  background-color: #569dc8;\n",
       "  color: #f1f1f1;\n",
       "}\n",
       "#T_c1ed7_row2_col9 {\n",
       "  background-color: #197db7;\n",
       "  color: #f1f1f1;\n",
       "}\n",
       "#T_c1ed7_row3_col0 {\n",
       "  background-color: #b5c4df;\n",
       "  color: #000000;\n",
       "}\n",
       "#T_c1ed7_row3_col1 {\n",
       "  background-color: #f6eff7;\n",
       "  color: #000000;\n",
       "}\n",
       "#T_c1ed7_row3_col5, #T_c1ed7_row4_col3 {\n",
       "  background-color: #d8d7e9;\n",
       "  color: #000000;\n",
       "}\n",
       "#T_c1ed7_row3_col7 {\n",
       "  background-color: #b4c4df;\n",
       "  color: #000000;\n",
       "}\n",
       "#T_c1ed7_row3_col8, #T_c1ed7_row3_col9 {\n",
       "  background-color: #ece7f2;\n",
       "  color: #000000;\n",
       "}\n",
       "#T_c1ed7_row4_col0 {\n",
       "  background-color: #f2ecf5;\n",
       "  color: #000000;\n",
       "}\n",
       "#T_c1ed7_row4_col1 {\n",
       "  background-color: #b0c2de;\n",
       "  color: #000000;\n",
       "}\n",
       "#T_c1ed7_row4_col2 {\n",
       "  background-color: #fcf4fa;\n",
       "  color: #000000;\n",
       "}\n",
       "#T_c1ed7_row4_col7 {\n",
       "  background-color: #d3d4e7;\n",
       "  color: #000000;\n",
       "}\n",
       "#T_c1ed7_row5_col0, #T_c1ed7_row5_col1, #T_c1ed7_row6_col1 {\n",
       "  background-color: #cdd0e5;\n",
       "  color: #000000;\n",
       "}\n",
       "#T_c1ed7_row5_col2, #T_c1ed7_row5_col8 {\n",
       "  background-color: #efe9f3;\n",
       "  color: #000000;\n",
       "}\n",
       "#T_c1ed7_row5_col3 {\n",
       "  background-color: #c0c9e2;\n",
       "  color: #000000;\n",
       "}\n",
       "#T_c1ed7_row5_col4 {\n",
       "  background-color: #d6d6e9;\n",
       "  color: #000000;\n",
       "}\n",
       "#T_c1ed7_row5_col6 {\n",
       "  background-color: #a9bfdc;\n",
       "  color: #000000;\n",
       "}\n",
       "#T_c1ed7_row5_col9, #T_c1ed7_row9_col0 {\n",
       "  background-color: #c8cde4;\n",
       "  color: #000000;\n",
       "}\n",
       "#T_c1ed7_row6_col0, #T_c1ed7_row6_col3, #T_c1ed7_row7_col0 {\n",
       "  background-color: #d9d8ea;\n",
       "  color: #000000;\n",
       "}\n",
       "#T_c1ed7_row6_col2 {\n",
       "  background-color: #81aed2;\n",
       "  color: #f1f1f1;\n",
       "}\n",
       "#T_c1ed7_row6_col9 {\n",
       "  background-color: #1077b4;\n",
       "  color: #f1f1f1;\n",
       "}\n",
       "#T_c1ed7_row7_col1 {\n",
       "  background-color: #d7d6e9;\n",
       "  color: #000000;\n",
       "}\n",
       "#T_c1ed7_row7_col2 {\n",
       "  background-color: #faf3f9;\n",
       "  color: #000000;\n",
       "}\n",
       "#T_c1ed7_row7_col3, #T_c1ed7_row7_col4 {\n",
       "  background-color: #acc0dd;\n",
       "  color: #000000;\n",
       "}\n",
       "#T_c1ed7_row7_col5 {\n",
       "  background-color: #f0eaf4;\n",
       "  color: #000000;\n",
       "}\n",
       "#T_c1ed7_row7_col8 {\n",
       "  background-color: #e0dded;\n",
       "  color: #000000;\n",
       "}\n",
       "#T_c1ed7_row8_col0 {\n",
       "  background-color: #d2d2e7;\n",
       "  color: #000000;\n",
       "}\n",
       "#T_c1ed7_row8_col1 {\n",
       "  background-color: #d5d5e8;\n",
       "  color: #000000;\n",
       "}\n",
       "#T_c1ed7_row8_col2 {\n",
       "  background-color: #4c99c5;\n",
       "  color: #f1f1f1;\n",
       "}\n",
       "#T_c1ed7_row8_col4 {\n",
       "  background-color: #e1dfed;\n",
       "  color: #000000;\n",
       "}\n",
       "#T_c1ed7_row8_col5, #T_c1ed7_row9_col7 {\n",
       "  background-color: #f8f1f8;\n",
       "  color: #000000;\n",
       "}\n",
       "#T_c1ed7_row8_col6 {\n",
       "  background-color: #8eb3d5;\n",
       "  color: #000000;\n",
       "}\n",
       "#T_c1ed7_row8_col7 {\n",
       "  background-color: #dddbec;\n",
       "  color: #000000;\n",
       "}\n",
       "#T_c1ed7_row8_col9 {\n",
       "  background-color: #6da6cd;\n",
       "  color: #f1f1f1;\n",
       "}\n",
       "#T_c1ed7_row9_col2 {\n",
       "  background-color: #2484ba;\n",
       "  color: #f1f1f1;\n",
       "}\n",
       "#T_c1ed7_row9_col3, #T_c1ed7_row9_col4 {\n",
       "  background-color: #f7f0f7;\n",
       "  color: #000000;\n",
       "}\n",
       "#T_c1ed7_row9_col5 {\n",
       "  background-color: #ede8f3;\n",
       "  color: #000000;\n",
       "}\n",
       "#T_c1ed7_row9_col6 {\n",
       "  background-color: #0a73b2;\n",
       "  color: #f1f1f1;\n",
       "}\n",
       "#T_c1ed7_row9_col8 {\n",
       "  background-color: #8bb2d4;\n",
       "  color: #000000;\n",
       "}\n",
       "</style>\n",
       "<table id=\"T_c1ed7\">\n",
       "  <thead>\n",
       "    <tr>\n",
       "      <th class=\"blank level0\" >&nbsp;</th>\n",
       "      <th id=\"T_c1ed7_level0_col0\" class=\"col_heading level0 col0\" >track_id</th>\n",
       "      <th id=\"T_c1ed7_level0_col1\" class=\"col_heading level0 col1\" >acousticness</th>\n",
       "      <th id=\"T_c1ed7_level0_col2\" class=\"col_heading level0 col2\" >danceability</th>\n",
       "      <th id=\"T_c1ed7_level0_col3\" class=\"col_heading level0 col3\" >energy</th>\n",
       "      <th id=\"T_c1ed7_level0_col4\" class=\"col_heading level0 col4\" >instrumentalness</th>\n",
       "      <th id=\"T_c1ed7_level0_col5\" class=\"col_heading level0 col5\" >liveness</th>\n",
       "      <th id=\"T_c1ed7_level0_col6\" class=\"col_heading level0 col6\" >speechiness</th>\n",
       "      <th id=\"T_c1ed7_level0_col7\" class=\"col_heading level0 col7\" >tempo</th>\n",
       "      <th id=\"T_c1ed7_level0_col8\" class=\"col_heading level0 col8\" >valence</th>\n",
       "      <th id=\"T_c1ed7_level0_col9\" class=\"col_heading level0 col9\" >genre_top</th>\n",
       "    </tr>\n",
       "  </thead>\n",
       "  <tbody>\n",
       "    <tr>\n",
       "      <th id=\"T_c1ed7_level0_row0\" class=\"row_heading level0 row0\" >track_id</th>\n",
       "      <td id=\"T_c1ed7_row0_col0\" class=\"data row0 col0\" >1.000000</td>\n",
       "      <td id=\"T_c1ed7_row0_col1\" class=\"data row0 col1\" >-0.304081</td>\n",
       "      <td id=\"T_c1ed7_row0_col2\" class=\"data row0 col2\" >0.088939</td>\n",
       "      <td id=\"T_c1ed7_row0_col3\" class=\"data row0 col3\" >0.127010</td>\n",
       "      <td id=\"T_c1ed7_row0_col4\" class=\"data row0 col4\" >-0.195280</td>\n",
       "      <td id=\"T_c1ed7_row0_col5\" class=\"data row0 col5\" >0.036354</td>\n",
       "      <td id=\"T_c1ed7_row0_col6\" class=\"data row0 col6\" >-0.032069</td>\n",
       "      <td id=\"T_c1ed7_row0_col7\" class=\"data row0 col7\" >-0.033648</td>\n",
       "      <td id=\"T_c1ed7_row0_col8\" class=\"data row0 col8\" >0.016665</td>\n",
       "      <td id=\"T_c1ed7_row0_col9\" class=\"data row0 col9\" >0.054488</td>\n",
       "    </tr>\n",
       "    <tr>\n",
       "      <th id=\"T_c1ed7_level0_row1\" class=\"row_heading level0 row1\" >acousticness</th>\n",
       "      <td id=\"T_c1ed7_row1_col0\" class=\"data row1 col0\" >-0.304081</td>\n",
       "      <td id=\"T_c1ed7_row1_col1\" class=\"data row1 col1\" >1.000000</td>\n",
       "      <td id=\"T_c1ed7_row1_col2\" class=\"data row1 col2\" >-0.089424</td>\n",
       "      <td id=\"T_c1ed7_row1_col3\" class=\"data row1 col3\" >-0.226646</td>\n",
       "      <td id=\"T_c1ed7_row1_col4\" class=\"data row1 col4\" >0.144208</td>\n",
       "      <td id=\"T_c1ed7_row1_col5\" class=\"data row1 col5\" >0.035402</td>\n",
       "      <td id=\"T_c1ed7_row1_col6\" class=\"data row1 col6\" >0.033450</td>\n",
       "      <td id=\"T_c1ed7_row1_col7\" class=\"data row1 col7\" >-0.015249</td>\n",
       "      <td id=\"T_c1ed7_row1_col8\" class=\"data row1 col8\" >-0.005360</td>\n",
       "      <td id=\"T_c1ed7_row1_col9\" class=\"data row1 col9\" >-0.104287</td>\n",
       "    </tr>\n",
       "    <tr>\n",
       "      <th id=\"T_c1ed7_level0_row2\" class=\"row_heading level0 row2\" >danceability</th>\n",
       "      <td id=\"T_c1ed7_row2_col0\" class=\"data row2 col0\" >0.088939</td>\n",
       "      <td id=\"T_c1ed7_row2_col1\" class=\"data row2 col1\" >-0.089424</td>\n",
       "      <td id=\"T_c1ed7_row2_col2\" class=\"data row2 col2\" >1.000000</td>\n",
       "      <td id=\"T_c1ed7_row2_col3\" class=\"data row2 col3\" >-0.275624</td>\n",
       "      <td id=\"T_c1ed7_row2_col4\" class=\"data row2 col4\" >-0.247172</td>\n",
       "      <td id=\"T_c1ed7_row2_col5\" class=\"data row2 col5\" >-0.139904</td>\n",
       "      <td id=\"T_c1ed7_row2_col6\" class=\"data row2 col6\" >0.319550</td>\n",
       "      <td id=\"T_c1ed7_row2_col7\" class=\"data row2 col7\" >-0.233104</td>\n",
       "      <td id=\"T_c1ed7_row2_col8\" class=\"data row2 col8\" >0.465264</td>\n",
       "      <td id=\"T_c1ed7_row2_col9\" class=\"data row2 col9\" >0.579186</td>\n",
       "    </tr>\n",
       "    <tr>\n",
       "      <th id=\"T_c1ed7_level0_row3\" class=\"row_heading level0 row3\" >energy</th>\n",
       "      <td id=\"T_c1ed7_row3_col0\" class=\"data row3 col0\" >0.127010</td>\n",
       "      <td id=\"T_c1ed7_row3_col1\" class=\"data row3 col1\" >-0.226646</td>\n",
       "      <td id=\"T_c1ed7_row3_col2\" class=\"data row3 col2\" >-0.275624</td>\n",
       "      <td id=\"T_c1ed7_row3_col3\" class=\"data row3 col3\" >1.000000</td>\n",
       "      <td id=\"T_c1ed7_row3_col4\" class=\"data row3 col4\" >-0.000871</td>\n",
       "      <td id=\"T_c1ed7_row3_col5\" class=\"data row3 col5\" >0.107677</td>\n",
       "      <td id=\"T_c1ed7_row3_col6\" class=\"data row3 col6\" >-0.003692</td>\n",
       "      <td id=\"T_c1ed7_row3_col7\" class=\"data row3 col7\" >0.178153</td>\n",
       "      <td id=\"T_c1ed7_row3_col8\" class=\"data row3 col8\" >-0.057200</td>\n",
       "      <td id=\"T_c1ed7_row3_col9\" class=\"data row3 col9\" >-0.208848</td>\n",
       "    </tr>\n",
       "    <tr>\n",
       "      <th id=\"T_c1ed7_level0_row4\" class=\"row_heading level0 row4\" >instrumentalness</th>\n",
       "      <td id=\"T_c1ed7_row4_col0\" class=\"data row4 col0\" >-0.195280</td>\n",
       "      <td id=\"T_c1ed7_row4_col1\" class=\"data row4 col1\" >0.144208</td>\n",
       "      <td id=\"T_c1ed7_row4_col2\" class=\"data row4 col2\" >-0.247172</td>\n",
       "      <td id=\"T_c1ed7_row4_col3\" class=\"data row4 col3\" >-0.000871</td>\n",
       "      <td id=\"T_c1ed7_row4_col4\" class=\"data row4 col4\" >1.000000</td>\n",
       "      <td id=\"T_c1ed7_row4_col5\" class=\"data row4 col5\" >-0.138042</td>\n",
       "      <td id=\"T_c1ed7_row4_col6\" class=\"data row4 col6\" >-0.465526</td>\n",
       "      <td id=\"T_c1ed7_row4_col7\" class=\"data row4 col7\" >0.056168</td>\n",
       "      <td id=\"T_c1ed7_row4_col8\" class=\"data row4 col8\" >-0.212956</td>\n",
       "      <td id=\"T_c1ed7_row4_col9\" class=\"data row4 col9\" >-0.386256</td>\n",
       "    </tr>\n",
       "    <tr>\n",
       "      <th id=\"T_c1ed7_level0_row5\" class=\"row_heading level0 row5\" >liveness</th>\n",
       "      <td id=\"T_c1ed7_row5_col0\" class=\"data row5 col0\" >0.036354</td>\n",
       "      <td id=\"T_c1ed7_row5_col1\" class=\"data row5 col1\" >0.035402</td>\n",
       "      <td id=\"T_c1ed7_row5_col2\" class=\"data row5 col2\" >-0.139904</td>\n",
       "      <td id=\"T_c1ed7_row5_col3\" class=\"data row5 col3\" >0.107677</td>\n",
       "      <td id=\"T_c1ed7_row5_col4\" class=\"data row5 col4\" >-0.138042</td>\n",
       "      <td id=\"T_c1ed7_row5_col5\" class=\"data row5 col5\" >1.000000</td>\n",
       "      <td id=\"T_c1ed7_row5_col6\" class=\"data row5 col6\" >0.071038</td>\n",
       "      <td id=\"T_c1ed7_row5_col7\" class=\"data row5 col7\" >-0.023018</td>\n",
       "      <td id=\"T_c1ed7_row5_col8\" class=\"data row5 col8\" >-0.082558</td>\n",
       "      <td id=\"T_c1ed7_row5_col9\" class=\"data row5 col9\" >-0.004195</td>\n",
       "    </tr>\n",
       "    <tr>\n",
       "      <th id=\"T_c1ed7_level0_row6\" class=\"row_heading level0 row6\" >speechiness</th>\n",
       "      <td id=\"T_c1ed7_row6_col0\" class=\"data row6 col0\" >-0.032069</td>\n",
       "      <td id=\"T_c1ed7_row6_col1\" class=\"data row6 col1\" >0.033450</td>\n",
       "      <td id=\"T_c1ed7_row6_col2\" class=\"data row6 col2\" >0.319550</td>\n",
       "      <td id=\"T_c1ed7_row6_col3\" class=\"data row6 col3\" >-0.003692</td>\n",
       "      <td id=\"T_c1ed7_row6_col4\" class=\"data row6 col4\" >-0.465526</td>\n",
       "      <td id=\"T_c1ed7_row6_col5\" class=\"data row6 col5\" >0.071038</td>\n",
       "      <td id=\"T_c1ed7_row6_col6\" class=\"data row6 col6\" >1.000000</td>\n",
       "      <td id=\"T_c1ed7_row6_col7\" class=\"data row6 col7\" >-0.022833</td>\n",
       "      <td id=\"T_c1ed7_row6_col8\" class=\"data row6 col8\" >0.172986</td>\n",
       "      <td id=\"T_c1ed7_row6_col9\" class=\"data row6 col9\" >0.614079</td>\n",
       "    </tr>\n",
       "    <tr>\n",
       "      <th id=\"T_c1ed7_level0_row7\" class=\"row_heading level0 row7\" >tempo</th>\n",
       "      <td id=\"T_c1ed7_row7_col0\" class=\"data row7 col0\" >-0.033648</td>\n",
       "      <td id=\"T_c1ed7_row7_col1\" class=\"data row7 col1\" >-0.015249</td>\n",
       "      <td id=\"T_c1ed7_row7_col2\" class=\"data row7 col2\" >-0.233104</td>\n",
       "      <td id=\"T_c1ed7_row7_col3\" class=\"data row7 col3\" >0.178153</td>\n",
       "      <td id=\"T_c1ed7_row7_col4\" class=\"data row7 col4\" >0.056168</td>\n",
       "      <td id=\"T_c1ed7_row7_col5\" class=\"data row7 col5\" >-0.023018</td>\n",
       "      <td id=\"T_c1ed7_row7_col6\" class=\"data row7 col6\" >-0.022833</td>\n",
       "      <td id=\"T_c1ed7_row7_col7\" class=\"data row7 col7\" >1.000000</td>\n",
       "      <td id=\"T_c1ed7_row7_col8\" class=\"data row7 col8\" >0.005314</td>\n",
       "      <td id=\"T_c1ed7_row7_col9\" class=\"data row7 col9\" >-0.173855</td>\n",
       "    </tr>\n",
       "    <tr>\n",
       "      <th id=\"T_c1ed7_level0_row8\" class=\"row_heading level0 row8\" >valence</th>\n",
       "      <td id=\"T_c1ed7_row8_col0\" class=\"data row8 col0\" >0.016665</td>\n",
       "      <td id=\"T_c1ed7_row8_col1\" class=\"data row8 col1\" >-0.005360</td>\n",
       "      <td id=\"T_c1ed7_row8_col2\" class=\"data row8 col2\" >0.465264</td>\n",
       "      <td id=\"T_c1ed7_row8_col3\" class=\"data row8 col3\" >-0.057200</td>\n",
       "      <td id=\"T_c1ed7_row8_col4\" class=\"data row8 col4\" >-0.212956</td>\n",
       "      <td id=\"T_c1ed7_row8_col5\" class=\"data row8 col5\" >-0.082558</td>\n",
       "      <td id=\"T_c1ed7_row8_col6\" class=\"data row8 col6\" >0.172986</td>\n",
       "      <td id=\"T_c1ed7_row8_col7\" class=\"data row8 col7\" >0.005314</td>\n",
       "      <td id=\"T_c1ed7_row8_col8\" class=\"data row8 col8\" >1.000000</td>\n",
       "      <td id=\"T_c1ed7_row8_col9\" class=\"data row8 col9\" >0.326806</td>\n",
       "    </tr>\n",
       "    <tr>\n",
       "      <th id=\"T_c1ed7_level0_row9\" class=\"row_heading level0 row9\" >genre_top</th>\n",
       "      <td id=\"T_c1ed7_row9_col0\" class=\"data row9 col0\" >0.054488</td>\n",
       "      <td id=\"T_c1ed7_row9_col1\" class=\"data row9 col1\" >-0.104287</td>\n",
       "      <td id=\"T_c1ed7_row9_col2\" class=\"data row9 col2\" >0.579186</td>\n",
       "      <td id=\"T_c1ed7_row9_col3\" class=\"data row9 col3\" >-0.208848</td>\n",
       "      <td id=\"T_c1ed7_row9_col4\" class=\"data row9 col4\" >-0.386256</td>\n",
       "      <td id=\"T_c1ed7_row9_col5\" class=\"data row9 col5\" >-0.004195</td>\n",
       "      <td id=\"T_c1ed7_row9_col6\" class=\"data row9 col6\" >0.614079</td>\n",
       "      <td id=\"T_c1ed7_row9_col7\" class=\"data row9 col7\" >-0.173855</td>\n",
       "      <td id=\"T_c1ed7_row9_col8\" class=\"data row9 col8\" >0.326806</td>\n",
       "      <td id=\"T_c1ed7_row9_col9\" class=\"data row9 col9\" >1.000000</td>\n",
       "    </tr>\n",
       "  </tbody>\n",
       "</table>\n"
      ],
      "text/plain": [
       "<pandas.io.formats.style.Styler at 0x1cc50320690>"
      ]
     },
     "execution_count": 63,
     "metadata": {},
     "output_type": "execute_result"
    }
   ],
   "source": [
    "# Create a correlation matrix\n",
    "corr_matrix = data.corr(numeric_only=True, method='spearman')\n",
    "corr_matrix.style.background_gradient()"
   ]
  },
  {
   "cell_type": "markdown",
   "metadata": {},
   "source": [
    "Here we can see an interesting correlation between <code>danceability</code> and <code>valence</code>, but it's not strong enough.\n",
    "<hr>\n",
    "<b>\n",
    "So we don't need to drop any columns for intercorrelation."
   ]
  },
  {
   "cell_type": "code",
   "execution_count": 64,
   "metadata": {},
   "outputs": [],
   "source": [
    "# Extract the list of variables from not_explaining_target\n",
    "not_explaining_target_variables = not_explaining_target['Variable'].tolist()\n",
    "not_explaining_target_variables.append('track_id')\n",
    "data = data.drop(columns=not_explaining_target_variables)"
   ]
  },
  {
   "cell_type": "code",
   "execution_count": 65,
   "metadata": {},
   "outputs": [
    {
     "data": {
      "text/html": [
       "<div>\n",
       "<style scoped>\n",
       "    .dataframe tbody tr th:only-of-type {\n",
       "        vertical-align: middle;\n",
       "    }\n",
       "\n",
       "    .dataframe tbody tr th {\n",
       "        vertical-align: top;\n",
       "    }\n",
       "\n",
       "    .dataframe thead th {\n",
       "        text-align: right;\n",
       "    }\n",
       "</style>\n",
       "<table border=\"1\" class=\"dataframe\">\n",
       "  <thead>\n",
       "    <tr style=\"text-align: right;\">\n",
       "      <th></th>\n",
       "      <th>acousticness</th>\n",
       "      <th>danceability</th>\n",
       "      <th>energy</th>\n",
       "      <th>instrumentalness</th>\n",
       "      <th>speechiness</th>\n",
       "      <th>tempo</th>\n",
       "      <th>valence</th>\n",
       "      <th>genre_top</th>\n",
       "    </tr>\n",
       "  </thead>\n",
       "  <tbody>\n",
       "    <tr>\n",
       "      <th>1291</th>\n",
       "      <td>0.924</td>\n",
       "      <td>0.368</td>\n",
       "      <td>0.937</td>\n",
       "      <td>0.058</td>\n",
       "      <td>0.150</td>\n",
       "      <td>124.434</td>\n",
       "      <td>0.124</td>\n",
       "      <td>0</td>\n",
       "    </tr>\n",
       "    <tr>\n",
       "      <th>2024</th>\n",
       "      <td>0.002</td>\n",
       "      <td>0.575</td>\n",
       "      <td>0.887</td>\n",
       "      <td>0.565</td>\n",
       "      <td>0.055</td>\n",
       "      <td>92.994</td>\n",
       "      <td>0.474</td>\n",
       "      <td>0</td>\n",
       "    </tr>\n",
       "    <tr>\n",
       "      <th>3471</th>\n",
       "      <td>0.000</td>\n",
       "      <td>0.352</td>\n",
       "      <td>0.945</td>\n",
       "      <td>0.198</td>\n",
       "      <td>0.081</td>\n",
       "      <td>230.087</td>\n",
       "      <td>0.242</td>\n",
       "      <td>0</td>\n",
       "    </tr>\n",
       "    <tr>\n",
       "      <th>2144</th>\n",
       "      <td>0.938</td>\n",
       "      <td>0.162</td>\n",
       "      <td>0.430</td>\n",
       "      <td>0.871</td>\n",
       "      <td>0.045</td>\n",
       "      <td>88.122</td>\n",
       "      <td>0.280</td>\n",
       "      <td>0</td>\n",
       "    </tr>\n",
       "    <tr>\n",
       "      <th>1766</th>\n",
       "      <td>0.849</td>\n",
       "      <td>0.605</td>\n",
       "      <td>0.315</td>\n",
       "      <td>0.934</td>\n",
       "      <td>0.032</td>\n",
       "      <td>125.673</td>\n",
       "      <td>0.858</td>\n",
       "      <td>0</td>\n",
       "    </tr>\n",
       "  </tbody>\n",
       "</table>\n",
       "</div>"
      ],
      "text/plain": [
       "      acousticness  danceability  energy  instrumentalness  speechiness   tempo  valence  genre_top\n",
       "1291         0.924         0.368   0.937             0.058        0.150 124.434    0.124          0\n",
       "2024         0.002         0.575   0.887             0.565        0.055  92.994    0.474          0\n",
       "3471         0.000         0.352   0.945             0.198        0.081 230.087    0.242          0\n",
       "2144         0.938         0.162   0.430             0.871        0.045  88.122    0.280          0\n",
       "1766         0.849         0.605   0.315             0.934        0.032 125.673    0.858          0"
      ]
     },
     "execution_count": 65,
     "metadata": {},
     "output_type": "execute_result"
    }
   ],
   "source": [
    "data.head()"
   ]
  },
  {
   "cell_type": "code",
   "execution_count": 66,
   "metadata": {},
   "outputs": [
    {
     "data": {
      "text/plain": [
       "(1820, 8)"
      ]
     },
     "execution_count": 66,
     "metadata": {},
     "output_type": "execute_result"
    }
   ],
   "source": [
    "data.shape"
   ]
  },
  {
   "cell_type": "code",
   "execution_count": 67,
   "metadata": {},
   "outputs": [
    {
     "data": {
      "text/plain": [
       "['acousticness',\n",
       " 'danceability',\n",
       " 'energy',\n",
       " 'instrumentalness',\n",
       " 'speechiness',\n",
       " 'tempo',\n",
       " 'valence',\n",
       " 'genre_top']"
      ]
     },
     "execution_count": 67,
     "metadata": {},
     "output_type": "execute_result"
    }
   ],
   "source": [
    "data.columns.tolist()"
   ]
  },
  {
   "cell_type": "code",
   "execution_count": 68,
   "metadata": {},
   "outputs": [
    {
     "data": {
      "text/html": [
       "<div>\n",
       "<style scoped>\n",
       "    .dataframe tbody tr th:only-of-type {\n",
       "        vertical-align: middle;\n",
       "    }\n",
       "\n",
       "    .dataframe tbody tr th {\n",
       "        vertical-align: top;\n",
       "    }\n",
       "\n",
       "    .dataframe thead th {\n",
       "        text-align: right;\n",
       "    }\n",
       "</style>\n",
       "<table border=\"1\" class=\"dataframe\">\n",
       "  <thead>\n",
       "    <tr style=\"text-align: right;\">\n",
       "      <th></th>\n",
       "      <th>VIF</th>\n",
       "      <th>Columns</th>\n",
       "    </tr>\n",
       "  </thead>\n",
       "  <tbody>\n",
       "    <tr>\n",
       "      <th>0</th>\n",
       "      <td>2.594</td>\n",
       "      <td>acousticness</td>\n",
       "    </tr>\n",
       "    <tr>\n",
       "      <th>1</th>\n",
       "      <td>4.416</td>\n",
       "      <td>energy</td>\n",
       "    </tr>\n",
       "    <tr>\n",
       "      <th>2</th>\n",
       "      <td>2.766</td>\n",
       "      <td>instrumentalness</td>\n",
       "    </tr>\n",
       "    <tr>\n",
       "      <th>3</th>\n",
       "      <td>3.399</td>\n",
       "      <td>speechiness</td>\n",
       "    </tr>\n",
       "    <tr>\n",
       "      <th>4</th>\n",
       "      <td>4.627</td>\n",
       "      <td>valence</td>\n",
       "    </tr>\n",
       "    <tr>\n",
       "      <th>5</th>\n",
       "      <td>3.147</td>\n",
       "      <td>genre_top</td>\n",
       "    </tr>\n",
       "  </tbody>\n",
       "</table>\n",
       "</div>"
      ],
      "text/plain": [
       "    VIF           Columns\n",
       "0 2.594      acousticness\n",
       "1 4.416            energy\n",
       "2 2.766  instrumentalness\n",
       "3 3.399       speechiness\n",
       "4 4.627           valence\n",
       "5 3.147         genre_top"
      ]
     },
     "execution_count": 68,
     "metadata": {},
     "output_type": "execute_result"
    }
   ],
   "source": [
    "# variance inflation factor\n",
    "from statsmodels.stats.outliers_influence import variance_inflation_factor\n",
    "def calculate_variance(data, columns):\n",
    "    vif_data = data[columns]\n",
    "    vif_values = [variance_inflation_factor(vif_data.values, i) for i in range(vif_data.shape[1])]\n",
    "    vif_result = pd.DataFrame({\n",
    "        'VIF':vif_values,\n",
    "        'Columns':columns\n",
    "    })\n",
    "    return vif_result\n",
    "\n",
    "calculate_variance(data, [\n",
    "    'acousticness',\n",
    "    # 'danceability', # 10.007\n",
    "    'energy',\n",
    "    'instrumentalness',\n",
    "    'speechiness',\n",
    "    # 'tempo',      # 9.706\n",
    "    'valence',\n",
    "    'genre_top'\n",
    "])"
   ]
  },
  {
   "cell_type": "markdown",
   "metadata": {},
   "source": [
    "We have to drop one more column which is <code>danceability</code>, <code>tempo</code> column because of we get this result after Variance Inflation Factor"
   ]
  },
  {
   "cell_type": "code",
   "execution_count": 69,
   "metadata": {},
   "outputs": [],
   "source": [
    "data = data.drop(['danceability', 'tempo'], axis=1)"
   ]
  },
  {
   "cell_type": "markdown",
   "metadata": {
    "dc": {
     "key": "17"
    },
    "deletable": false,
    "editable": false,
    "run_control": {
     "frozen": true
    },
    "tags": [
     "context"
    ]
   },
   "source": [
    "## Normalizing the feature data\n",
    "<p>As mentioned earlier, it can be particularly useful to simplify our models and use as few features as necessary to achieve the best result. Since we didn't find any particular strong correlations between our features, we can instead use a common approach to reduce the number of features called <strong>principal component analysis (PCA)</strong>. </p>\n",
    "<p>It is possible that the variance between genres can be explained by just a few features in the dataset. PCA rotates the data along the axis of highest variance, thus allowing us to determine the relative contribution of each feature of our data towards the variance between classes. </p>\n",
    "<p>However, since PCA uses the absolute variance of a feature to rotate the data, a feature with a broader range of values will overpower and bias the algorithm relative to the other features. To avoid this, we must first normalize our data. There are a few methods to do this, but a common way is through <em>standardization</em>, such that all features have a mean = 0 and standard deviation = 1 (the resultant is a z-score).</p>"
   ]
  },
  {
   "cell_type": "code",
   "execution_count": 70,
   "metadata": {
    "dc": {
     "key": "17"
    },
    "tags": [
     "sample_code"
    ]
   },
   "outputs": [],
   "source": [
    "# Define our features\n",
    "features = data.drop(['genre_top'], axis=1)\n",
    "\n",
    "# Define our labels\n",
    "labels = data['genre_top']\n",
    "\n",
    "# Import the StandardScaler\n",
    "from sklearn.preprocessing import StandardScaler\n",
    "\n",
    "# Scale the features and set the values to a new variable\n",
    "scaler = StandardScaler()\n",
    "scaled_features = scaler.fit_transform(features)"
   ]
  },
  {
   "cell_type": "code",
   "execution_count": 71,
   "metadata": {},
   "outputs": [
    {
     "data": {
      "text/html": [
       "<div>\n",
       "<style scoped>\n",
       "    .dataframe tbody tr th:only-of-type {\n",
       "        vertical-align: middle;\n",
       "    }\n",
       "\n",
       "    .dataframe tbody tr th {\n",
       "        vertical-align: top;\n",
       "    }\n",
       "\n",
       "    .dataframe thead th {\n",
       "        text-align: right;\n",
       "    }\n",
       "</style>\n",
       "<table border=\"1\" class=\"dataframe\">\n",
       "  <thead>\n",
       "    <tr style=\"text-align: right;\">\n",
       "      <th></th>\n",
       "      <th>acousticness</th>\n",
       "      <th>energy</th>\n",
       "      <th>instrumentalness</th>\n",
       "      <th>speechiness</th>\n",
       "      <th>valence</th>\n",
       "    </tr>\n",
       "  </thead>\n",
       "  <tbody>\n",
       "    <tr>\n",
       "      <th>1291</th>\n",
       "      <td>0.924</td>\n",
       "      <td>0.937</td>\n",
       "      <td>0.058</td>\n",
       "      <td>0.150</td>\n",
       "      <td>0.124</td>\n",
       "    </tr>\n",
       "    <tr>\n",
       "      <th>2024</th>\n",
       "      <td>0.002</td>\n",
       "      <td>0.887</td>\n",
       "      <td>0.565</td>\n",
       "      <td>0.055</td>\n",
       "      <td>0.474</td>\n",
       "    </tr>\n",
       "    <tr>\n",
       "      <th>3471</th>\n",
       "      <td>0.000</td>\n",
       "      <td>0.945</td>\n",
       "      <td>0.198</td>\n",
       "      <td>0.081</td>\n",
       "      <td>0.242</td>\n",
       "    </tr>\n",
       "    <tr>\n",
       "      <th>2144</th>\n",
       "      <td>0.938</td>\n",
       "      <td>0.430</td>\n",
       "      <td>0.871</td>\n",
       "      <td>0.045</td>\n",
       "      <td>0.280</td>\n",
       "    </tr>\n",
       "    <tr>\n",
       "      <th>1766</th>\n",
       "      <td>0.849</td>\n",
       "      <td>0.315</td>\n",
       "      <td>0.934</td>\n",
       "      <td>0.032</td>\n",
       "      <td>0.858</td>\n",
       "    </tr>\n",
       "  </tbody>\n",
       "</table>\n",
       "</div>"
      ],
      "text/plain": [
       "      acousticness  energy  instrumentalness  speechiness  valence\n",
       "1291         0.924   0.937             0.058        0.150    0.124\n",
       "2024         0.002   0.887             0.565        0.055    0.474\n",
       "3471         0.000   0.945             0.198        0.081    0.242\n",
       "2144         0.938   0.430             0.871        0.045    0.280\n",
       "1766         0.849   0.315             0.934        0.032    0.858"
      ]
     },
     "execution_count": 71,
     "metadata": {},
     "output_type": "execute_result"
    }
   ],
   "source": [
    "features.head()"
   ]
  },
  {
   "cell_type": "code",
   "execution_count": 72,
   "metadata": {},
   "outputs": [
    {
     "data": {
      "text/plain": [
       "(1820, 5)"
      ]
     },
     "execution_count": 72,
     "metadata": {},
     "output_type": "execute_result"
    }
   ],
   "source": [
    "scaled_features.shape"
   ]
  },
  {
   "cell_type": "markdown",
   "metadata": {
    "dc": {
     "key": "24"
    },
    "deletable": false,
    "editable": false,
    "run_control": {
     "frozen": true
    },
    "tags": [
     "context"
    ]
   },
   "source": [
    "## Principal Component Analysis on our scaled data\n",
    "<p>Now that we have preprocessed our data, we are ready to use PCA to determine by how much we can reduce the dimensionality of our data. We can use <strong>scree-plots</strong> and <strong>cumulative explained ratio plots</strong> to find the number of components to use in further analyses.</p>\n",
    "<p>Scree-plots display the number of components against the variance explained by each component, sorted in descending order of variance. Scree-plots help us get a better sense of which components explain a sufficient amount of variance in our data. When using scree plots, an 'elbow' (a steep drop from one data point to the next) in the plot is typically used to decide on an appropriate cutoff.</p>"
   ]
  },
  {
   "cell_type": "code",
   "execution_count": 73,
   "metadata": {
    "dc": {
     "key": "24"
    },
    "tags": [
     "sample_code"
    ]
   },
   "outputs": [
    {
     "data": {
      "text/plain": [
       "array([0.32888383, 0.24948035, 0.1691344 , 0.15600096, 0.09650047])"
      ]
     },
     "execution_count": 73,
     "metadata": {},
     "output_type": "execute_result"
    }
   ],
   "source": [
    "# This is just to make plots appear in the notebook\n",
    "%matplotlib inline\n",
    "\n",
    "# Import our plotting module, and PCA class\n",
    "import matplotlib.pyplot as plt\n",
    "from sklearn.decomposition import PCA\n",
    "\n",
    "# Get our explained variance ratios from PCA using all features\n",
    "pca = PCA()\n",
    "pca.fit(scaled_features)\n",
    "exp_variance_ratio = pca.explained_variance_ratio_\n",
    "exp_variance_ratio"
   ]
  },
  {
   "cell_type": "code",
   "execution_count": 74,
   "metadata": {},
   "outputs": [
    {
     "data": {
      "image/png": "[encoded data removed]",
      "text/plain": [
       "<Figure size 640x480 with 1 Axes>"
      ]
     },
     "metadata": {},
     "output_type": "display_data"
    }
   ],
   "source": [
    "# plot the explained variance using a barplot\n",
    "fig, ax = plt.subplots()\n",
    "ax.bar(range(pca.n_components_), exp_variance_ratio)\n",
    "ax.set_xlabel('Principal Component')\n",
    "plt.show()"
   ]
  },
  {
   "cell_type": "markdown",
   "metadata": {
    "dc": {
     "key": "31"
    },
    "deletable": false,
    "editable": false,
    "run_control": {
     "frozen": true
    },
    "tags": [
     "context"
    ]
   },
   "source": [
    "## Further visualization of PCA\n",
    "<p>Unfortunately, there does not appear to be a clear elbow in this scree plot, which means it is not straightforward to find the number of intrinsic dimensions using this method. </p>\n",
    "<p>But all is not lost! Instead, we can also look at the <strong>cumulative explained variance plot</strong> to determine how many features are required to explain, say, about 90% of the variance (cutoffs are somewhat arbitrary here, and usually decided upon by 'rules of thumb'). Once we determine the appropriate number of components, we can perform PCA with that many components, ideally reducing the dimensionality of our data.</p>"
   ]
  },
  {
   "cell_type": "code",
   "execution_count": 75,
   "metadata": {
    "dc": {
     "key": "31"
    },
    "tags": [
     "sample_code"
    ]
   },
   "outputs": [
    {
     "data": {
      "text/plain": [
       "array([0.32888383, 0.57836418, 0.74749857, 0.90349953, 1.        ])"
      ]
     },
     "execution_count": 75,
     "metadata": {},
     "output_type": "execute_result"
    }
   ],
   "source": [
    "# using numpy\n",
    "# Calculate the cumulative explained variance\n",
    "cum_exp_variance = np.cumsum(exp_variance_ratio)\n",
    "cum_exp_variance"
   ]
  },
  {
   "cell_type": "code",
   "execution_count": 76,
   "metadata": {},
   "outputs": [
    {
     "data": {
      "image/png": "[encoded data removed]",
      "text/plain": [
       "<Figure size 640x480 with 1 Axes>"
      ]
     },
     "metadata": {},
     "output_type": "display_data"
    }
   ],
   "source": [
    "# Plot the cumulative explained variance and draw a dashed line at 0.90.\n",
    "fig, ax = plt.subplots()\n",
    "ax.plot(range(data.shape[1]-1),cum_exp_variance)\n",
    "ax.axhline(y=0.9, linestyle='--')\n",
    "plt.show()"
   ]
  },
  {
   "cell_type": "code",
   "execution_count": 77,
   "metadata": {},
   "outputs": [
    {
     "name": "stdout",
     "output_type": "stream",
     "text": [
      "Number of components to retain 90% of variance: 4\n"
     ]
    }
   ],
   "source": [
    "# Find the number of components to retain at least 95% of the variance\n",
    "n_components = np.argmax(np.cumsum(exp_variance_ratio) >= 0.9 * np.sum(exp_variance_ratio)) + 1\n",
    "\n",
    "print(\"Number of components to retain 90% of variance:\", n_components)"
   ]
  },
  {
   "cell_type": "code",
   "execution_count": 78,
   "metadata": {},
   "outputs": [],
   "source": [
    "# Perform PCA with the chosen number of components and project data onto components\n",
    "pca = PCA(n_components, random_state=42)\n",
    "pca.fit(scaled_features)\n",
    "pca_projection = pca.transform(scaled_features)"
   ]
  },
  {
   "cell_type": "code",
   "execution_count": 79,
   "metadata": {},
   "outputs": [
    {
     "data": {
      "text/plain": [
       "(1820, 4)"
      ]
     },
     "execution_count": 79,
     "metadata": {},
     "output_type": "execute_result"
    }
   ],
   "source": [
    "pca_projection.shape"
   ]
  },
  {
   "cell_type": "markdown",
   "metadata": {
    "dc": {
     "key": "45"
    },
    "deletable": false,
    "editable": false,
    "run_control": {
     "frozen": true
    },
    "tags": [
     "context"
    ]
   },
   "source": [
    "## 9. Does balancing our dataset improve model bias?\n",
    "<p>We've now balanced our dataset, but in doing so, we've removed a lot of data points that might have been crucial to training our models. Let's test to see if balancing our data improves model bias towards the \"Rock\" classification while retaining overall classification performance. </p>\n",
    "<p>Note that we have already reduced the size of our dataset and will go forward applying dimensionality reduction, it is not so appropriate for this dataset but anyway. In practice, we would consider dimensionality reduction more rigorously when dealing with vastly large datasets and when computation times become prohibitively large.</p>"
   ]
  },
  {
   "cell_type": "code",
   "execution_count": 80,
   "metadata": {},
   "outputs": [],
   "source": [
    "# import train_test_split for Logistic Regression model\n",
    "from sklearn.model_selection import train_test_split\n",
    "X_train, X_test, y_train, y_test = train_test_split(pca_projection, labels, random_state=42, test_size=0.2)"
   ]
  },
  {
   "cell_type": "code",
   "execution_count": 81,
   "metadata": {
    "dc": {
     "key": "45"
    },
    "tags": [
     "sample_code"
    ]
   },
   "outputs": [],
   "source": [
    "# Import LogisticRegression\n",
    "from sklearn.linear_model import LogisticRegression\n",
    "\n",
    "# Train our logistic regression and predict labels for the test set\n",
    "log_model = LogisticRegression()\n",
    "log_model.fit(X_train, y_train)\n",
    "y_test_predictions = log_model.predict(X_test)"
   ]
  },
  {
   "cell_type": "code",
   "execution_count": 82,
   "metadata": {},
   "outputs": [
    {
     "name": "stdout",
     "output_type": "stream",
     "text": [
      "Classification report of Logistic Model with PCA_projection: \n",
      "               precision    recall  f1-score   support\n",
      "\n",
      "           0       0.79      0.81      0.80       181\n",
      "           1       0.80      0.79      0.80       183\n",
      "\n",
      "    accuracy                           0.80       364\n",
      "   macro avg       0.80      0.80      0.80       364\n",
      "weighted avg       0.80      0.80      0.80       364\n",
      "\n"
     ]
    }
   ],
   "source": [
    "# Create the classification report for Logistic Regression\n",
    "from sklearn.metrics import classification_report\n",
    "\n",
    "class_report = classification_report(y_test, y_test_predictions)\n",
    "print(f\"Classification report of Logistic Model with PCA_projection: \\n {class_report}\")"
   ]
  },
  {
   "cell_type": "code",
   "execution_count": 83,
   "metadata": {},
   "outputs": [
    {
     "data": {
      "text/plain": [
       "genre_top\n",
       "0    910\n",
       "1    910\n",
       "Name: count, dtype: int64"
      ]
     },
     "execution_count": 83,
     "metadata": {},
     "output_type": "execute_result"
    }
   ],
   "source": [
    "labels.value_counts()"
   ]
  },
  {
   "cell_type": "code",
   "execution_count": 84,
   "metadata": {},
   "outputs": [
    {
     "data": {
      "text/plain": [
       "array([[146,  35],\n",
       "       [ 39, 144]], dtype=int64)"
      ]
     },
     "execution_count": 84,
     "metadata": {},
     "output_type": "execute_result"
    }
   ],
   "source": [
    "# import confusion matrix\n",
    "from sklearn.metrics import confusion_matrix\n",
    "conf_matrix = confusion_matrix(y_test, y_test_predictions)\n",
    "conf_matrix"
   ]
  },
  {
   "cell_type": "code",
   "execution_count": 85,
   "metadata": {},
   "outputs": [
    {
     "data": {
      "text/plain": [
       "0.7845303867403315"
      ]
     },
     "execution_count": 85,
     "metadata": {},
     "output_type": "execute_result"
    }
   ],
   "source": [
    "142/(142+39)"
   ]
  },
  {
   "cell_type": "code",
   "execution_count": 86,
   "metadata": {},
   "outputs": [
    {
     "data": {
      "text/plain": [
       "0.7868852459016393"
      ]
     },
     "execution_count": 86,
     "metadata": {},
     "output_type": "execute_result"
    }
   ],
   "source": [
    "144/(144+39)"
   ]
  },
  {
   "cell_type": "markdown",
   "metadata": {
    "dc": {
     "key": "66"
    },
    "deletable": false,
    "editable": false,
    "run_control": {
     "frozen": true
    },
    "tags": [
     "context"
    ]
   },
   "source": [
    "## 10. Using cross-validation to evaluate our models\n",
    "<p>Success! Balancing our data has removed bias towards the more prevalent class. To get a good sense of how well our models are actually performing, we can apply what's called <strong>cross-validation</strong> (CV). This step allows us to compare models in a more rigorous fashion.</p>\n",
    "<p>Since the way our data is split into train and test sets can impact model performance, CV attempts to split the data multiple ways and test the model on each of the splits. Although there are many different CV methods, all with their own advantages and disadvantages, we will use what's known as <strong>K-fold</strong> CV here. K-fold first splits the data into K different, equally sized subsets. Then, it iteratively uses each subset as a test set while using the remainder of the data as train sets. Finally, we can then aggregate the results from each fold for a final model performance score.</p>"
   ]
  },
  {
   "cell_type": "code",
   "execution_count": 87,
   "metadata": {
    "dc": {
     "key": "66"
    },
    "tags": [
     "sample_code"
    ]
   },
   "outputs": [
    {
     "name": "stdout",
     "output_type": "stream",
     "text": [
      "Cross validation score of Logistic Regression: 0.7241758241758242\n"
     ]
    }
   ],
   "source": [
    "from sklearn.model_selection import KFold, cross_val_score\n",
    "\n",
    "# Set up our K-fold cross-validation\n",
    "kf = KFold(n_splits=10)\n",
    "\n",
    "# Train our models using KFold cv\n",
    "log_reg_cv_score = cross_val_score(log_model, pca_projection, labels, cv=kf)\n",
    "\n",
    "# Print the mean of each array of scores\n",
    "print(f'Cross validation score of Logistic Regression: {log_reg_cv_score.mean()}')"
   ]
  },
  {
   "cell_type": "markdown",
   "metadata": {},
   "source": [
    "### Let's do this step again on first model (notebook 1)\n",
    "### We get 89% in first notebook, and 72% in second notebook (balanced one). Based on all of the scores we have decided that using imbalanced dataset (data points more than balanced one) is more appropriate for production."
   ]
  }
 ],
 "metadata": {
  "kernelspec": {
   "display_name": "Python 3",
   "language": "python",
   "name": "python3"
  },
  "language_info": {
   "codemirror_mode": {
    "name": "ipython",
    "version": 3
   },
   "file_extension": ".py",
   "mimetype": "text/x-python",
   "name": "python",
   "nbconvert_exporter": "python",
   "pygments_lexer": "ipython3",
   "version": "3.11.5"
  },
  "toc": {
   "base_numbering": 1,
   "nav_menu": {},
   "number_sections": true,
   "sideBar": true,
   "skip_h1_title": false,
   "title_cell": "Table of Contents",
   "title_sidebar": "Contents",
   "toc_cell": false,
   "toc_position": {},
   "toc_section_display": true,
   "toc_window_display": false
  },
  "varInspector": {
   "cols": {
    "lenName": 16,
    "lenType": 16,
    "lenVar": 40
   },
   "kernels_config": {
    "python": {
     "delete_cmd_postfix": "",
     "delete_cmd_prefix": "del ",
     "library": "var_list.py",
     "varRefreshCmd": "print(var_dic_list())"
    },
    "r": {
     "delete_cmd_postfix": ") ",
     "delete_cmd_prefix": "rm(",
     "library": "var_list.r",
     "varRefreshCmd": "cat(var_dic_list()) "
    }
   },
   "types_to_exclude": [
    "module",
    "function",
    "builtin_function_or_method",
    "instance",
    "_Feature"
   ],
   "window_display": false
  }
 },
 "nbformat": 4,
 "nbformat_minor": 2
}
