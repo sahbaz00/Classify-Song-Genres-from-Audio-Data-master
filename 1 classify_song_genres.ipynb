{
 "cells": [
  {
   "cell_type": "markdown",
   "metadata": {},
   "source": [
    "**Project Description**"
   ]
  },
  {
   "cell_type": "markdown",
   "metadata": {},
   "source": [
    "Using a dataset comprised of songs of two music genres (Hip-Hop and Rock), you will train a classifier to distinguish between the two genres based only on track information derived from Echonest (now part of Spotify). You will first make use of pandas and seaborn packages in Python for subsetting the data, aggregating information, and creating plots when exploring the data for obvious trends or factors you should be aware of when doing machine learning. Next, you will use the scikit-learn package to predict whether you can correctly classify a song's genre based on features such as danceability, energy, acousticness, tempo, etc. You will go over implementations of common algorithms such as PCA, logistic regression, decision trees, and so forth."
   ]
  },
  {
   "cell_type": "markdown",
   "metadata": {
    "dc": {
     "key": "3"
    },
    "deletable": false,
    "editable": false,
    "run_control": {
     "frozen": true
    },
    "tags": [
     "context"
    ]
   },
   "source": [
    "## 1. Preparing our dataset\n",
    "<p><em>These recommendations are so on point! How does this playlist know me so well?</em></p>\n",
    "<p><img src=\"https://s3.amazonaws.com/assets.datacamp.com/production/project_449/img/iphone_music.jpg\" alt=\"Project Image Record\" width=\"600px\"></p>\n",
    "<p>Over the past few years, streaming services with huge catalogs have become the primary means through which most people listen to their favorite music. But at the same time, the sheer amount of music on offer can mean users might be a bit overwhelmed when trying to look for newer music that suits their tastes.</p>\n",
    "<p>For this reason, streaming services have looked into means of categorizing music to allow for personalized recommendations. One method involves direct analysis of the raw audio information in a given song, scoring the raw data on a variety of metrics. Today, we'll be examining data compiled by a research group known as The Echo Nest. Our goal is to look through this dataset and classify songs as being either 'Hip-Hop' or 'Rock' - all without listening to a single one ourselves. In doing so, we will learn how to clean our data, do some exploratory data visualization, and use feature reduction towards the goal of feeding our data through some simple machine learning algorithms, such as decision trees and logistic regression.</p>\n",
    "<p>To begin with, let's load the metadata about our tracks alongside the track metrics compiled by The Echo Nest. A song is about more than its title, artist, and number of listens. We have another dataset that has musical features of each track such as <code>danceability</code> and <code>acousticness</code> on a scale from -1 to 1. These exist in two different files, which are in different formats - CSV and JSON. While CSV is a popular file format for denoting tabular data, JSON is another common file format in which databases often return the results of a given query.</p>\n",
    "<p>Let's start by creating two pandas <code>DataFrames</code> out of these files that we can merge so we have features and labels (often also referred to as <code>X</code> and <code>y</code>) for the classification later on.</p>"
   ]
  },
  {
   "cell_type": "code",
   "execution_count": 52,
   "metadata": {
    "dc": {
     "key": "3"
    },
    "tags": [
     "sample_code"
    ]
   },
   "outputs": [],
   "source": [
    "import pandas as pd\n",
    "import numpy as np\n",
    "import seaborn as sns\n",
    "import matplotlib.pyplot as plt\n",
    "pd.options.display.float_format = '{:.3f}'.format\n",
    "\n",
    "pd.set_option('display.max_columns', None)\n",
    "pd.set_option('display.width', 600)\n",
    "\n",
    "# Read in track metadata with genre labels\n",
    "track_data = pd.read_csv(r\"C:\\Users\\Shahbaz\\Desktop\\staff\\Classify-Song-Genres-from-Audio-Data\\datasets\\fma-rock-vs-hiphop.csv\")\n",
    "\n",
    "# Read in track metrics with the features\n",
    "track_metrics = pd.read_json(r\"C:\\Users\\Shahbaz\\Desktop\\staff\\Classify-Song-Genres-from-Audio-Data\\datasets\\echonest-metrics.json\")\n",
    "\n",
    "df_track_data = track_data.copy()\n",
    "df_track_metrics = track_metrics.copy()"
   ]
  },
  {
   "cell_type": "code",
   "execution_count": 53,
   "metadata": {},
   "outputs": [
    {
     "data": {
      "text/html": [
       "<div>\n",
       "<style scoped>\n",
       "    .dataframe tbody tr th:only-of-type {\n",
       "        vertical-align: middle;\n",
       "    }\n",
       "\n",
       "    .dataframe tbody tr th {\n",
       "        vertical-align: top;\n",
       "    }\n",
       "\n",
       "    .dataframe thead th {\n",
       "        text-align: right;\n",
       "    }\n",
       "</style>\n",
       "<table border=\"1\" class=\"dataframe\">\n",
       "  <thead>\n",
       "    <tr style=\"text-align: right;\">\n",
       "      <th></th>\n",
       "      <th>track_id</th>\n",
       "      <th>bit_rate</th>\n",
       "      <th>comments</th>\n",
       "      <th>composer</th>\n",
       "      <th>date_created</th>\n",
       "      <th>date_recorded</th>\n",
       "      <th>duration</th>\n",
       "      <th>favorites</th>\n",
       "      <th>genre_top</th>\n",
       "      <th>genres</th>\n",
       "      <th>genres_all</th>\n",
       "      <th>information</th>\n",
       "      <th>interest</th>\n",
       "      <th>language_code</th>\n",
       "      <th>license</th>\n",
       "      <th>listens</th>\n",
       "      <th>lyricist</th>\n",
       "      <th>number</th>\n",
       "      <th>publisher</th>\n",
       "      <th>tags</th>\n",
       "      <th>title</th>\n",
       "    </tr>\n",
       "  </thead>\n",
       "  <tbody>\n",
       "    <tr>\n",
       "      <th>0</th>\n",
       "      <td>135</td>\n",
       "      <td>256000</td>\n",
       "      <td>1</td>\n",
       "      <td>NaN</td>\n",
       "      <td>2008-11-26 01:43:26</td>\n",
       "      <td>2008-11-26 00:00:00</td>\n",
       "      <td>837</td>\n",
       "      <td>0</td>\n",
       "      <td>Rock</td>\n",
       "      <td>[45, 58]</td>\n",
       "      <td>[58, 12, 45]</td>\n",
       "      <td>NaN</td>\n",
       "      <td>2484</td>\n",
       "      <td>en</td>\n",
       "      <td>Attribution-NonCommercial-ShareAlike 3.0 Inter...</td>\n",
       "      <td>1832</td>\n",
       "      <td>NaN</td>\n",
       "      <td>0</td>\n",
       "      <td>NaN</td>\n",
       "      <td>[]</td>\n",
       "      <td>Father's Day</td>\n",
       "    </tr>\n",
       "    <tr>\n",
       "      <th>1</th>\n",
       "      <td>136</td>\n",
       "      <td>256000</td>\n",
       "      <td>1</td>\n",
       "      <td>NaN</td>\n",
       "      <td>2008-11-26 01:43:35</td>\n",
       "      <td>2008-11-26 00:00:00</td>\n",
       "      <td>509</td>\n",
       "      <td>0</td>\n",
       "      <td>Rock</td>\n",
       "      <td>[45, 58]</td>\n",
       "      <td>[58, 12, 45]</td>\n",
       "      <td>NaN</td>\n",
       "      <td>1948</td>\n",
       "      <td>en</td>\n",
       "      <td>Attribution-NonCommercial-ShareAlike 3.0 Inter...</td>\n",
       "      <td>1498</td>\n",
       "      <td>NaN</td>\n",
       "      <td>0</td>\n",
       "      <td>NaN</td>\n",
       "      <td>[]</td>\n",
       "      <td>Peel Back The Mountain Sky</td>\n",
       "    </tr>\n",
       "    <tr>\n",
       "      <th>2</th>\n",
       "      <td>151</td>\n",
       "      <td>192000</td>\n",
       "      <td>0</td>\n",
       "      <td>NaN</td>\n",
       "      <td>2008-11-26 01:44:55</td>\n",
       "      <td>NaN</td>\n",
       "      <td>192</td>\n",
       "      <td>0</td>\n",
       "      <td>Rock</td>\n",
       "      <td>[25]</td>\n",
       "      <td>[25, 12]</td>\n",
       "      <td>NaN</td>\n",
       "      <td>701</td>\n",
       "      <td>en</td>\n",
       "      <td>Attribution-NonCommercial-ShareAlike 3.0 Inter...</td>\n",
       "      <td>148</td>\n",
       "      <td>NaN</td>\n",
       "      <td>4</td>\n",
       "      <td>NaN</td>\n",
       "      <td>[]</td>\n",
       "      <td>Untitled 04</td>\n",
       "    </tr>\n",
       "    <tr>\n",
       "      <th>3</th>\n",
       "      <td>152</td>\n",
       "      <td>192000</td>\n",
       "      <td>0</td>\n",
       "      <td>NaN</td>\n",
       "      <td>2008-11-26 01:44:58</td>\n",
       "      <td>NaN</td>\n",
       "      <td>193</td>\n",
       "      <td>0</td>\n",
       "      <td>Rock</td>\n",
       "      <td>[25]</td>\n",
       "      <td>[25, 12]</td>\n",
       "      <td>NaN</td>\n",
       "      <td>637</td>\n",
       "      <td>en</td>\n",
       "      <td>Attribution-NonCommercial-ShareAlike 3.0 Inter...</td>\n",
       "      <td>98</td>\n",
       "      <td>NaN</td>\n",
       "      <td>11</td>\n",
       "      <td>NaN</td>\n",
       "      <td>[]</td>\n",
       "      <td>Untitled 11</td>\n",
       "    </tr>\n",
       "    <tr>\n",
       "      <th>4</th>\n",
       "      <td>153</td>\n",
       "      <td>256000</td>\n",
       "      <td>0</td>\n",
       "      <td>Arc and Sender</td>\n",
       "      <td>2008-11-26 01:45:00</td>\n",
       "      <td>2008-11-26 00:00:00</td>\n",
       "      <td>405</td>\n",
       "      <td>5</td>\n",
       "      <td>Rock</td>\n",
       "      <td>[26]</td>\n",
       "      <td>[26, 12]</td>\n",
       "      <td>NaN</td>\n",
       "      <td>354</td>\n",
       "      <td>en</td>\n",
       "      <td>Attribution-NonCommercial-NoDerivatives (aka M...</td>\n",
       "      <td>424</td>\n",
       "      <td>NaN</td>\n",
       "      <td>2</td>\n",
       "      <td>NaN</td>\n",
       "      <td>[]</td>\n",
       "      <td>Hundred-Year Flood</td>\n",
       "    </tr>\n",
       "  </tbody>\n",
       "</table>\n",
       "</div>"
      ],
      "text/plain": [
       "   track_id  bit_rate  comments        composer         date_created        date_recorded  duration  favorites genre_top    genres    genres_all information  interest language_code                                            license  listens lyricist  number publisher tags                       title\n",
       "0       135    256000         1             NaN  2008-11-26 01:43:26  2008-11-26 00:00:00       837          0      Rock  [45, 58]  [58, 12, 45]         NaN      2484            en  Attribution-NonCommercial-ShareAlike 3.0 Inter...     1832      NaN       0       NaN   []                Father's Day\n",
       "1       136    256000         1             NaN  2008-11-26 01:43:35  2008-11-26 00:00:00       509          0      Rock  [45, 58]  [58, 12, 45]         NaN      1948            en  Attribution-NonCommercial-ShareAlike 3.0 Inter...     1498      NaN       0       NaN   []  Peel Back The Mountain Sky\n",
       "2       151    192000         0             NaN  2008-11-26 01:44:55                  NaN       192          0      Rock      [25]      [25, 12]         NaN       701            en  Attribution-NonCommercial-ShareAlike 3.0 Inter...      148      NaN       4       NaN   []                 Untitled 04\n",
       "3       152    192000         0             NaN  2008-11-26 01:44:58                  NaN       193          0      Rock      [25]      [25, 12]         NaN       637            en  Attribution-NonCommercial-ShareAlike 3.0 Inter...       98      NaN      11       NaN   []                 Untitled 11\n",
       "4       153    256000         0  Arc and Sender  2008-11-26 01:45:00  2008-11-26 00:00:00       405          5      Rock      [26]      [26, 12]         NaN       354            en  Attribution-NonCommercial-NoDerivatives (aka M...      424      NaN       2       NaN   []          Hundred-Year Flood"
      ]
     },
     "execution_count": 53,
     "metadata": {},
     "output_type": "execute_result"
    }
   ],
   "source": [
    "track_data.head()"
   ]
  },
  {
   "cell_type": "code",
   "execution_count": 54,
   "metadata": {},
   "outputs": [
    {
     "data": {
      "text/html": [
       "<div>\n",
       "<style scoped>\n",
       "    .dataframe tbody tr th:only-of-type {\n",
       "        vertical-align: middle;\n",
       "    }\n",
       "\n",
       "    .dataframe tbody tr th {\n",
       "        vertical-align: top;\n",
       "    }\n",
       "\n",
       "    .dataframe thead th {\n",
       "        text-align: right;\n",
       "    }\n",
       "</style>\n",
       "<table border=\"1\" class=\"dataframe\">\n",
       "  <thead>\n",
       "    <tr style=\"text-align: right;\">\n",
       "      <th></th>\n",
       "      <th>track_id</th>\n",
       "      <th>acousticness</th>\n",
       "      <th>danceability</th>\n",
       "      <th>energy</th>\n",
       "      <th>instrumentalness</th>\n",
       "      <th>liveness</th>\n",
       "      <th>speechiness</th>\n",
       "      <th>tempo</th>\n",
       "      <th>valence</th>\n",
       "    </tr>\n",
       "  </thead>\n",
       "  <tbody>\n",
       "    <tr>\n",
       "      <th>0</th>\n",
       "      <td>2</td>\n",
       "      <td>0.417</td>\n",
       "      <td>0.676</td>\n",
       "      <td>0.634</td>\n",
       "      <td>0.011</td>\n",
       "      <td>0.178</td>\n",
       "      <td>0.159</td>\n",
       "      <td>165.922</td>\n",
       "      <td>0.577</td>\n",
       "    </tr>\n",
       "    <tr>\n",
       "      <th>1</th>\n",
       "      <td>3</td>\n",
       "      <td>0.374</td>\n",
       "      <td>0.529</td>\n",
       "      <td>0.817</td>\n",
       "      <td>0.002</td>\n",
       "      <td>0.106</td>\n",
       "      <td>0.462</td>\n",
       "      <td>126.957</td>\n",
       "      <td>0.269</td>\n",
       "    </tr>\n",
       "    <tr>\n",
       "      <th>2</th>\n",
       "      <td>5</td>\n",
       "      <td>0.044</td>\n",
       "      <td>0.746</td>\n",
       "      <td>0.701</td>\n",
       "      <td>0.001</td>\n",
       "      <td>0.373</td>\n",
       "      <td>0.125</td>\n",
       "      <td>100.260</td>\n",
       "      <td>0.622</td>\n",
       "    </tr>\n",
       "    <tr>\n",
       "      <th>3</th>\n",
       "      <td>10</td>\n",
       "      <td>0.952</td>\n",
       "      <td>0.658</td>\n",
       "      <td>0.925</td>\n",
       "      <td>0.965</td>\n",
       "      <td>0.115</td>\n",
       "      <td>0.033</td>\n",
       "      <td>111.562</td>\n",
       "      <td>0.964</td>\n",
       "    </tr>\n",
       "    <tr>\n",
       "      <th>4</th>\n",
       "      <td>134</td>\n",
       "      <td>0.452</td>\n",
       "      <td>0.513</td>\n",
       "      <td>0.560</td>\n",
       "      <td>0.019</td>\n",
       "      <td>0.097</td>\n",
       "      <td>0.526</td>\n",
       "      <td>114.290</td>\n",
       "      <td>0.894</td>\n",
       "    </tr>\n",
       "  </tbody>\n",
       "</table>\n",
       "</div>"
      ],
      "text/plain": [
       "   track_id  acousticness  danceability  energy  instrumentalness  liveness  speechiness   tempo  valence\n",
       "0         2         0.417         0.676   0.634             0.011     0.178        0.159 165.922    0.577\n",
       "1         3         0.374         0.529   0.817             0.002     0.106        0.462 126.957    0.269\n",
       "2         5         0.044         0.746   0.701             0.001     0.373        0.125 100.260    0.622\n",
       "3        10         0.952         0.658   0.925             0.965     0.115        0.033 111.562    0.964\n",
       "4       134         0.452         0.513   0.560             0.019     0.097        0.526 114.290    0.894"
      ]
     },
     "execution_count": 54,
     "metadata": {},
     "output_type": "execute_result"
    }
   ],
   "source": [
    "track_metrics.head()"
   ]
  },
  {
   "cell_type": "code",
   "execution_count": 55,
   "metadata": {},
   "outputs": [
    {
     "name": "stdout",
     "output_type": "stream",
     "text": [
      "(17734, 21)\n",
      "(13129, 9)\n"
     ]
    }
   ],
   "source": [
    "print(track_data.shape)\n",
    "print(track_metrics.shape)"
   ]
  },
  {
   "cell_type": "code",
   "execution_count": 56,
   "metadata": {},
   "outputs": [],
   "source": [
    "# Merge the track_id and genre_top columns of tracks and echonest_metrics on track_id values\n",
    "data = track_metrics.merge(track_data[['genre_top','track_id']], on='track_id', how='inner')"
   ]
  },
  {
   "cell_type": "code",
   "execution_count": 57,
   "metadata": {},
   "outputs": [
    {
     "data": {
      "text/html": [
       "<div>\n",
       "<style scoped>\n",
       "    .dataframe tbody tr th:only-of-type {\n",
       "        vertical-align: middle;\n",
       "    }\n",
       "\n",
       "    .dataframe tbody tr th {\n",
       "        vertical-align: top;\n",
       "    }\n",
       "\n",
       "    .dataframe thead th {\n",
       "        text-align: right;\n",
       "    }\n",
       "</style>\n",
       "<table border=\"1\" class=\"dataframe\">\n",
       "  <thead>\n",
       "    <tr style=\"text-align: right;\">\n",
       "      <th></th>\n",
       "      <th>track_id</th>\n",
       "      <th>acousticness</th>\n",
       "      <th>danceability</th>\n",
       "      <th>energy</th>\n",
       "      <th>instrumentalness</th>\n",
       "      <th>liveness</th>\n",
       "      <th>speechiness</th>\n",
       "      <th>tempo</th>\n",
       "      <th>valence</th>\n",
       "      <th>genre_top</th>\n",
       "    </tr>\n",
       "  </thead>\n",
       "  <tbody>\n",
       "    <tr>\n",
       "      <th>0</th>\n",
       "      <td>2</td>\n",
       "      <td>0.417</td>\n",
       "      <td>0.676</td>\n",
       "      <td>0.634</td>\n",
       "      <td>0.011</td>\n",
       "      <td>0.178</td>\n",
       "      <td>0.159</td>\n",
       "      <td>165.922</td>\n",
       "      <td>0.577</td>\n",
       "      <td>Hip-Hop</td>\n",
       "    </tr>\n",
       "    <tr>\n",
       "      <th>1</th>\n",
       "      <td>3</td>\n",
       "      <td>0.374</td>\n",
       "      <td>0.529</td>\n",
       "      <td>0.817</td>\n",
       "      <td>0.002</td>\n",
       "      <td>0.106</td>\n",
       "      <td>0.462</td>\n",
       "      <td>126.957</td>\n",
       "      <td>0.269</td>\n",
       "      <td>Hip-Hop</td>\n",
       "    </tr>\n",
       "    <tr>\n",
       "      <th>2</th>\n",
       "      <td>5</td>\n",
       "      <td>0.044</td>\n",
       "      <td>0.746</td>\n",
       "      <td>0.701</td>\n",
       "      <td>0.001</td>\n",
       "      <td>0.373</td>\n",
       "      <td>0.125</td>\n",
       "      <td>100.260</td>\n",
       "      <td>0.622</td>\n",
       "      <td>Hip-Hop</td>\n",
       "    </tr>\n",
       "    <tr>\n",
       "      <th>3</th>\n",
       "      <td>134</td>\n",
       "      <td>0.452</td>\n",
       "      <td>0.513</td>\n",
       "      <td>0.560</td>\n",
       "      <td>0.019</td>\n",
       "      <td>0.097</td>\n",
       "      <td>0.526</td>\n",
       "      <td>114.290</td>\n",
       "      <td>0.894</td>\n",
       "      <td>Hip-Hop</td>\n",
       "    </tr>\n",
       "    <tr>\n",
       "      <th>4</th>\n",
       "      <td>153</td>\n",
       "      <td>0.988</td>\n",
       "      <td>0.256</td>\n",
       "      <td>0.980</td>\n",
       "      <td>0.973</td>\n",
       "      <td>0.121</td>\n",
       "      <td>0.052</td>\n",
       "      <td>90.241</td>\n",
       "      <td>0.034</td>\n",
       "      <td>Rock</td>\n",
       "    </tr>\n",
       "  </tbody>\n",
       "</table>\n",
       "</div>"
      ],
      "text/plain": [
       "   track_id  acousticness  danceability  energy  instrumentalness  liveness  speechiness   tempo  valence genre_top\n",
       "0         2         0.417         0.676   0.634             0.011     0.178        0.159 165.922    0.577   Hip-Hop\n",
       "1         3         0.374         0.529   0.817             0.002     0.106        0.462 126.957    0.269   Hip-Hop\n",
       "2         5         0.044         0.746   0.701             0.001     0.373        0.125 100.260    0.622   Hip-Hop\n",
       "3       134         0.452         0.513   0.560             0.019     0.097        0.526 114.290    0.894   Hip-Hop\n",
       "4       153         0.988         0.256   0.980             0.973     0.121        0.052  90.241    0.034      Rock"
      ]
     },
     "execution_count": 57,
     "metadata": {},
     "output_type": "execute_result"
    }
   ],
   "source": [
    "data.head()"
   ]
  },
  {
   "cell_type": "code",
   "execution_count": 58,
   "metadata": {},
   "outputs": [
    {
     "data": {
      "text/html": [
       "<div>\n",
       "<style scoped>\n",
       "    .dataframe tbody tr th:only-of-type {\n",
       "        vertical-align: middle;\n",
       "    }\n",
       "\n",
       "    .dataframe tbody tr th {\n",
       "        vertical-align: top;\n",
       "    }\n",
       "\n",
       "    .dataframe thead th {\n",
       "        text-align: right;\n",
       "    }\n",
       "</style>\n",
       "<table border=\"1\" class=\"dataframe\">\n",
       "  <thead>\n",
       "    <tr style=\"text-align: right;\">\n",
       "      <th></th>\n",
       "      <th>track_id</th>\n",
       "      <th>acousticness</th>\n",
       "      <th>danceability</th>\n",
       "      <th>energy</th>\n",
       "      <th>instrumentalness</th>\n",
       "      <th>liveness</th>\n",
       "      <th>speechiness</th>\n",
       "      <th>tempo</th>\n",
       "      <th>valence</th>\n",
       "    </tr>\n",
       "  </thead>\n",
       "  <tbody>\n",
       "    <tr>\n",
       "      <th>count</th>\n",
       "      <td>4802.000</td>\n",
       "      <td>4802.000</td>\n",
       "      <td>4802.000</td>\n",
       "      <td>4802.000</td>\n",
       "      <td>4802.000</td>\n",
       "      <td>4802.000</td>\n",
       "      <td>4802.000</td>\n",
       "      <td>4802.000</td>\n",
       "      <td>4802.000</td>\n",
       "    </tr>\n",
       "    <tr>\n",
       "      <th>mean</th>\n",
       "      <td>30164.872</td>\n",
       "      <td>0.487</td>\n",
       "      <td>0.437</td>\n",
       "      <td>0.625</td>\n",
       "      <td>0.604</td>\n",
       "      <td>0.188</td>\n",
       "      <td>0.105</td>\n",
       "      <td>126.688</td>\n",
       "      <td>0.453</td>\n",
       "    </tr>\n",
       "    <tr>\n",
       "      <th>std</th>\n",
       "      <td>28592.014</td>\n",
       "      <td>0.368</td>\n",
       "      <td>0.184</td>\n",
       "      <td>0.244</td>\n",
       "      <td>0.376</td>\n",
       "      <td>0.151</td>\n",
       "      <td>0.146</td>\n",
       "      <td>34.002</td>\n",
       "      <td>0.267</td>\n",
       "    </tr>\n",
       "    <tr>\n",
       "      <th>min</th>\n",
       "      <td>2.000</td>\n",
       "      <td>0.000</td>\n",
       "      <td>0.051</td>\n",
       "      <td>0.000</td>\n",
       "      <td>0.000</td>\n",
       "      <td>0.025</td>\n",
       "      <td>0.023</td>\n",
       "      <td>29.093</td>\n",
       "      <td>0.014</td>\n",
       "    </tr>\n",
       "    <tr>\n",
       "      <th>25%</th>\n",
       "      <td>7494.250</td>\n",
       "      <td>0.084</td>\n",
       "      <td>0.296</td>\n",
       "      <td>0.451</td>\n",
       "      <td>0.165</td>\n",
       "      <td>0.104</td>\n",
       "      <td>0.037</td>\n",
       "      <td>98.001</td>\n",
       "      <td>0.225</td>\n",
       "    </tr>\n",
       "    <tr>\n",
       "      <th>50%</th>\n",
       "      <td>20723.500</td>\n",
       "      <td>0.516</td>\n",
       "      <td>0.419</td>\n",
       "      <td>0.648</td>\n",
       "      <td>0.809</td>\n",
       "      <td>0.123</td>\n",
       "      <td>0.050</td>\n",
       "      <td>124.625</td>\n",
       "      <td>0.446</td>\n",
       "    </tr>\n",
       "    <tr>\n",
       "      <th>75%</th>\n",
       "      <td>44240.750</td>\n",
       "      <td>0.856</td>\n",
       "      <td>0.565</td>\n",
       "      <td>0.837</td>\n",
       "      <td>0.915</td>\n",
       "      <td>0.215</td>\n",
       "      <td>0.088</td>\n",
       "      <td>151.450</td>\n",
       "      <td>0.667</td>\n",
       "    </tr>\n",
       "    <tr>\n",
       "      <th>max</th>\n",
       "      <td>124722.000</td>\n",
       "      <td>0.996</td>\n",
       "      <td>0.962</td>\n",
       "      <td>1.000</td>\n",
       "      <td>0.993</td>\n",
       "      <td>0.971</td>\n",
       "      <td>0.966</td>\n",
       "      <td>250.059</td>\n",
       "      <td>0.984</td>\n",
       "    </tr>\n",
       "  </tbody>\n",
       "</table>\n",
       "</div>"
      ],
      "text/plain": [
       "        track_id  acousticness  danceability   energy  instrumentalness  liveness  speechiness    tempo  valence\n",
       "count   4802.000      4802.000      4802.000 4802.000          4802.000  4802.000     4802.000 4802.000 4802.000\n",
       "mean   30164.872         0.487         0.437    0.625             0.604     0.188        0.105  126.688    0.453\n",
       "std    28592.014         0.368         0.184    0.244             0.376     0.151        0.146   34.002    0.267\n",
       "min        2.000         0.000         0.051    0.000             0.000     0.025        0.023   29.093    0.014\n",
       "25%     7494.250         0.084         0.296    0.451             0.165     0.104        0.037   98.001    0.225\n",
       "50%    20723.500         0.516         0.419    0.648             0.809     0.123        0.050  124.625    0.446\n",
       "75%    44240.750         0.856         0.565    0.837             0.915     0.215        0.088  151.450    0.667\n",
       "max   124722.000         0.996         0.962    1.000             0.993     0.971        0.966  250.059    0.984"
      ]
     },
     "execution_count": 58,
     "metadata": {},
     "output_type": "execute_result"
    }
   ],
   "source": [
    "data.describe()"
   ]
  },
  {
   "cell_type": "code",
   "execution_count": 59,
   "metadata": {},
   "outputs": [
    {
     "name": "stdout",
     "output_type": "stream",
     "text": [
      "<class 'pandas.core.frame.DataFrame'>\n",
      "RangeIndex: 4802 entries, 0 to 4801\n",
      "Data columns (total 10 columns):\n",
      " #   Column            Non-Null Count  Dtype  \n",
      "---  ------            --------------  -----  \n",
      " 0   track_id          4802 non-null   int64  \n",
      " 1   acousticness      4802 non-null   float64\n",
      " 2   danceability      4802 non-null   float64\n",
      " 3   energy            4802 non-null   float64\n",
      " 4   instrumentalness  4802 non-null   float64\n",
      " 5   liveness          4802 non-null   float64\n",
      " 6   speechiness       4802 non-null   float64\n",
      " 7   tempo             4802 non-null   float64\n",
      " 8   valence           4802 non-null   float64\n",
      " 9   genre_top         4802 non-null   object \n",
      "dtypes: float64(8), int64(1), object(1)\n",
      "memory usage: 375.3+ KB\n"
     ]
    }
   ],
   "source": [
    "# Inspect the resultant dataframe\n",
    "data.info()"
   ]
  },
  {
   "cell_type": "code",
   "execution_count": 60,
   "metadata": {},
   "outputs": [
    {
     "name": "stderr",
     "output_type": "stream",
     "text": [
      "c:\\Users\\Shahbaz\\AppData\\Local\\Programs\\Python\\Python311\\Lib\\site-packages\\seaborn\\_oldcore.py:1498: FutureWarning: is_categorical_dtype is deprecated and will be removed in a future version. Use isinstance(dtype, CategoricalDtype) instead\n",
      "  if pd.api.types.is_categorical_dtype(vector):\n"
     ]
    },
    {
     "data": {
      "image/png": "[encoded data removed]",
      "text/plain": [
       "<Figure size 640x480 with 1 Axes>"
      ]
     },
     "metadata": {},
     "output_type": "display_data"
    },
    {
     "name": "stderr",
     "output_type": "stream",
     "text": [
      "c:\\Users\\Shahbaz\\AppData\\Local\\Programs\\Python\\Python311\\Lib\\site-packages\\seaborn\\_oldcore.py:1498: FutureWarning: is_categorical_dtype is deprecated and will be removed in a future version. Use isinstance(dtype, CategoricalDtype) instead\n",
      "  if pd.api.types.is_categorical_dtype(vector):\n"
     ]
    },
    {
     "data": {
      "image/png": "[encoded data removed]",
      "text/plain": [
       "<Figure size 640x480 with 1 Axes>"
      ]
     },
     "metadata": {},
     "output_type": "display_data"
    },
    {
     "name": "stderr",
     "output_type": "stream",
     "text": [
      "c:\\Users\\Shahbaz\\AppData\\Local\\Programs\\Python\\Python311\\Lib\\site-packages\\seaborn\\_oldcore.py:1498: FutureWarning: is_categorical_dtype is deprecated and will be removed in a future version. Use isinstance(dtype, CategoricalDtype) instead\n",
      "  if pd.api.types.is_categorical_dtype(vector):\n"
     ]
    },
    {
     "data": {
      "image/png": "[encoded data removed]",
      "text/plain": [
       "<Figure size 640x480 with 1 Axes>"
      ]
     },
     "metadata": {},
     "output_type": "display_data"
    },
    {
     "name": "stderr",
     "output_type": "stream",
     "text": [
      "c:\\Users\\Shahbaz\\AppData\\Local\\Programs\\Python\\Python311\\Lib\\site-packages\\seaborn\\_oldcore.py:1498: FutureWarning: is_categorical_dtype is deprecated and will be removed in a future version. Use isinstance(dtype, CategoricalDtype) instead\n",
      "  if pd.api.types.is_categorical_dtype(vector):\n"
     ]
    },
    {
     "data": {
      "image/png": "[encoded data removed]",
      "text/plain": [
       "<Figure size 640x480 with 1 Axes>"
      ]
     },
     "metadata": {},
     "output_type": "display_data"
    },
    {
     "name": "stderr",
     "output_type": "stream",
     "text": [
      "c:\\Users\\Shahbaz\\AppData\\Local\\Programs\\Python\\Python311\\Lib\\site-packages\\seaborn\\_oldcore.py:1498: FutureWarning: is_categorical_dtype is deprecated and will be removed in a future version. Use isinstance(dtype, CategoricalDtype) instead\n",
      "  if pd.api.types.is_categorical_dtype(vector):\n"
     ]
    },
    {
     "data": {
      "image/png": "[encoded data removed]",
      "text/plain": [
       "<Figure size 640x480 with 1 Axes>"
      ]
     },
     "metadata": {},
     "output_type": "display_data"
    },
    {
     "name": "stderr",
     "output_type": "stream",
     "text": [
      "c:\\Users\\Shahbaz\\AppData\\Local\\Programs\\Python\\Python311\\Lib\\site-packages\\seaborn\\_oldcore.py:1498: FutureWarning: is_categorical_dtype is deprecated and will be removed in a future version. Use isinstance(dtype, CategoricalDtype) instead\n",
      "  if pd.api.types.is_categorical_dtype(vector):\n"
     ]
    },
    {
     "data": {
      "image/png": "[encoded data removed]",
      "text/plain": [
       "<Figure size 640x480 with 1 Axes>"
      ]
     },
     "metadata": {},
     "output_type": "display_data"
    },
    {
     "name": "stderr",
     "output_type": "stream",
     "text": [
      "c:\\Users\\Shahbaz\\AppData\\Local\\Programs\\Python\\Python311\\Lib\\site-packages\\seaborn\\_oldcore.py:1498: FutureWarning: is_categorical_dtype is deprecated and will be removed in a future version. Use isinstance(dtype, CategoricalDtype) instead\n",
      "  if pd.api.types.is_categorical_dtype(vector):\n"
     ]
    },
    {
     "data": {
      "image/png": "[encoded data removed]",
      "text/plain": [
       "<Figure size 640x480 with 1 Axes>"
      ]
     },
     "metadata": {},
     "output_type": "display_data"
    },
    {
     "name": "stderr",
     "output_type": "stream",
     "text": [
      "c:\\Users\\Shahbaz\\AppData\\Local\\Programs\\Python\\Python311\\Lib\\site-packages\\seaborn\\_oldcore.py:1498: FutureWarning: is_categorical_dtype is deprecated and will be removed in a future version. Use isinstance(dtype, CategoricalDtype) instead\n",
      "  if pd.api.types.is_categorical_dtype(vector):\n"
     ]
    },
    {
     "data": {
      "image/png": "[encoded data removed]",
      "text/plain": [
       "<Figure size 640x480 with 1 Axes>"
      ]
     },
     "metadata": {},
     "output_type": "display_data"
    },
    {
     "name": "stderr",
     "output_type": "stream",
     "text": [
      "c:\\Users\\Shahbaz\\AppData\\Local\\Programs\\Python\\Python311\\Lib\\site-packages\\seaborn\\_oldcore.py:1498: FutureWarning: is_categorical_dtype is deprecated and will be removed in a future version. Use isinstance(dtype, CategoricalDtype) instead\n",
      "  if pd.api.types.is_categorical_dtype(vector):\n"
     ]
    },
    {
     "data": {
      "image/png": "[encoded data removed]",
      "text/plain": [
       "<Figure size 640x480 with 1 Axes>"
      ]
     },
     "metadata": {},
     "output_type": "display_data"
    }
   ],
   "source": [
    "# Outlier treatment\n",
    "for x in data.columns:\n",
    "    if data[x].dtype != object:\n",
    "        sns.boxplot(data=data, x=data[x])\n",
    "        plt.title(f\"Boxplot of {x} column\")\n",
    "        plt.show()"
   ]
  },
  {
   "cell_type": "code",
   "execution_count": 61,
   "metadata": {},
   "outputs": [
    {
     "data": {
      "text/plain": [
       "390"
      ]
     },
     "execution_count": 61,
     "metadata": {},
     "output_type": "execute_result"
    }
   ],
   "source": [
    "len(data[data['liveness']>0.4])"
   ]
  },
  {
   "cell_type": "code",
   "execution_count": 62,
   "metadata": {},
   "outputs": [
    {
     "data": {
      "text/plain": [
       "657"
      ]
     },
     "execution_count": 62,
     "metadata": {},
     "output_type": "execute_result"
    }
   ],
   "source": [
    "len(data[data['speechiness']>0.18])"
   ]
  },
  {
   "cell_type": "code",
   "execution_count": 63,
   "metadata": {},
   "outputs": [],
   "source": [
    "numeric_data = data.select_dtypes(exclude='object')\n",
    "\n",
    "q1 = numeric_data.quantile(0.25)\n",
    "q3 = numeric_data.quantile(0.75)\n",
    "IQR = q3 - q1\n",
    "\n",
    "lower = np.maximum(0, q1 - 1.5*IQR)\n",
    "upper = q3 + 1.5*IQR"
   ]
  },
  {
   "cell_type": "code",
   "execution_count": 64,
   "metadata": {},
   "outputs": [
    {
     "data": {
      "text/plain": [
       "track_id            0.000\n",
       "acousticness        0.000\n",
       "danceability        0.000\n",
       "energy              0.000\n",
       "instrumentalness    0.000\n",
       "liveness            0.000\n",
       "speechiness         0.000\n",
       "tempo              17.827\n",
       "valence             0.000\n",
       "dtype: float64"
      ]
     },
     "execution_count": 64,
     "metadata": {},
     "output_type": "execute_result"
    }
   ],
   "source": [
    "lower"
   ]
  },
  {
   "cell_type": "code",
   "execution_count": 65,
   "metadata": {},
   "outputs": [
    {
     "data": {
      "text/plain": [
       "track_id           99360.500\n",
       "acousticness           2.014\n",
       "danceability           0.969\n",
       "energy                 1.416\n",
       "instrumentalness       2.041\n",
       "liveness               0.382\n",
       "speechiness            0.165\n",
       "tempo                231.624\n",
       "valence                1.330\n",
       "dtype: float64"
      ]
     },
     "execution_count": 65,
     "metadata": {},
     "output_type": "execute_result"
    }
   ],
   "source": [
    "upper"
   ]
  },
  {
   "cell_type": "code",
   "execution_count": 66,
   "metadata": {},
   "outputs": [],
   "source": [
    "for x in data.columns:\n",
    "    if (x != 'track_id') and (data[x].dtype != object):\n",
    "        data[x] = np.where(data[x] < lower[x], lower[x], data[x])\n",
    "        data[x] = np.where(data[x] > upper[x], upper[x], data[x])\n"
   ]
  },
  {
   "cell_type": "code",
   "execution_count": 67,
   "metadata": {},
   "outputs": [
    {
     "name": "stderr",
     "output_type": "stream",
     "text": [
      "c:\\Users\\Shahbaz\\AppData\\Local\\Programs\\Python\\Python311\\Lib\\site-packages\\seaborn\\_oldcore.py:1498: FutureWarning: is_categorical_dtype is deprecated and will be removed in a future version. Use isinstance(dtype, CategoricalDtype) instead\n",
      "  if pd.api.types.is_categorical_dtype(vector):\n"
     ]
    },
    {
     "data": {
      "image/png": "[encoded data removed]",
      "text/plain": [
       "<Figure size 640x480 with 1 Axes>"
      ]
     },
     "metadata": {},
     "output_type": "display_data"
    },
    {
     "name": "stderr",
     "output_type": "stream",
     "text": [
      "c:\\Users\\Shahbaz\\AppData\\Local\\Programs\\Python\\Python311\\Lib\\site-packages\\seaborn\\_oldcore.py:1498: FutureWarning: is_categorical_dtype is deprecated and will be removed in a future version. Use isinstance(dtype, CategoricalDtype) instead\n",
      "  if pd.api.types.is_categorical_dtype(vector):\n"
     ]
    },
    {
     "data": {
      "image/png": "[encoded data removed]",
      "text/plain": [
       "<Figure size 640x480 with 1 Axes>"
      ]
     },
     "metadata": {},
     "output_type": "display_data"
    },
    {
     "name": "stderr",
     "output_type": "stream",
     "text": [
      "c:\\Users\\Shahbaz\\AppData\\Local\\Programs\\Python\\Python311\\Lib\\site-packages\\seaborn\\_oldcore.py:1498: FutureWarning: is_categorical_dtype is deprecated and will be removed in a future version. Use isinstance(dtype, CategoricalDtype) instead\n",
      "  if pd.api.types.is_categorical_dtype(vector):\n"
     ]
    },
    {
     "data": {
      "image/png": "[encoded data removed]",
      "text/plain": [
       "<Figure size 640x480 with 1 Axes>"
      ]
     },
     "metadata": {},
     "output_type": "display_data"
    },
    {
     "name": "stderr",
     "output_type": "stream",
     "text": [
      "c:\\Users\\Shahbaz\\AppData\\Local\\Programs\\Python\\Python311\\Lib\\site-packages\\seaborn\\_oldcore.py:1498: FutureWarning: is_categorical_dtype is deprecated and will be removed in a future version. Use isinstance(dtype, CategoricalDtype) instead\n",
      "  if pd.api.types.is_categorical_dtype(vector):\n"
     ]
    },
    {
     "data": {
      "image/png": "[encoded data removed]",
      "text/plain": [
       "<Figure size 640x480 with 1 Axes>"
      ]
     },
     "metadata": {},
     "output_type": "display_data"
    },
    {
     "name": "stderr",
     "output_type": "stream",
     "text": [
      "c:\\Users\\Shahbaz\\AppData\\Local\\Programs\\Python\\Python311\\Lib\\site-packages\\seaborn\\_oldcore.py:1498: FutureWarning: is_categorical_dtype is deprecated and will be removed in a future version. Use isinstance(dtype, CategoricalDtype) instead\n",
      "  if pd.api.types.is_categorical_dtype(vector):\n"
     ]
    },
    {
     "data": {
      "image/png": "[encoded data removed]",
      "text/plain": [
       "<Figure size 640x480 with 1 Axes>"
      ]
     },
     "metadata": {},
     "output_type": "display_data"
    },
    {
     "name": "stderr",
     "output_type": "stream",
     "text": [
      "c:\\Users\\Shahbaz\\AppData\\Local\\Programs\\Python\\Python311\\Lib\\site-packages\\seaborn\\_oldcore.py:1498: FutureWarning: is_categorical_dtype is deprecated and will be removed in a future version. Use isinstance(dtype, CategoricalDtype) instead\n",
      "  if pd.api.types.is_categorical_dtype(vector):\n"
     ]
    },
    {
     "data": {
      "image/png": "[encoded data removed]",
      "text/plain": [
       "<Figure size 640x480 with 1 Axes>"
      ]
     },
     "metadata": {},
     "output_type": "display_data"
    },
    {
     "name": "stderr",
     "output_type": "stream",
     "text": [
      "c:\\Users\\Shahbaz\\AppData\\Local\\Programs\\Python\\Python311\\Lib\\site-packages\\seaborn\\_oldcore.py:1498: FutureWarning: is_categorical_dtype is deprecated and will be removed in a future version. Use isinstance(dtype, CategoricalDtype) instead\n",
      "  if pd.api.types.is_categorical_dtype(vector):\n"
     ]
    },
    {
     "data": {
      "image/png": "[encoded data removed]",
      "text/plain": [
       "<Figure size 640x480 with 1 Axes>"
      ]
     },
     "metadata": {},
     "output_type": "display_data"
    },
    {
     "name": "stderr",
     "output_type": "stream",
     "text": [
      "c:\\Users\\Shahbaz\\AppData\\Local\\Programs\\Python\\Python311\\Lib\\site-packages\\seaborn\\_oldcore.py:1498: FutureWarning: is_categorical_dtype is deprecated and will be removed in a future version. Use isinstance(dtype, CategoricalDtype) instead\n",
      "  if pd.api.types.is_categorical_dtype(vector):\n"
     ]
    },
    {
     "data": {
      "image/png": "[encoded data removed]",
      "text/plain": [
       "<Figure size 640x480 with 1 Axes>"
      ]
     },
     "metadata": {},
     "output_type": "display_data"
    },
    {
     "name": "stderr",
     "output_type": "stream",
     "text": [
      "c:\\Users\\Shahbaz\\AppData\\Local\\Programs\\Python\\Python311\\Lib\\site-packages\\seaborn\\_oldcore.py:1498: FutureWarning: is_categorical_dtype is deprecated and will be removed in a future version. Use isinstance(dtype, CategoricalDtype) instead\n",
      "  if pd.api.types.is_categorical_dtype(vector):\n"
     ]
    },
    {
     "data": {
      "image/png": "[encoded data removed]",
      "text/plain": [
       "<Figure size 640x480 with 1 Axes>"
      ]
     },
     "metadata": {},
     "output_type": "display_data"
    }
   ],
   "source": [
    "for x in data.columns:\n",
    "    if data[x].dtype != object:\n",
    "        sns.boxplot(data=data, x=data[x])\n",
    "        plt.title(f\"Boxplot of {x} column\")\n",
    "        plt.show()"
   ]
  },
  {
   "cell_type": "markdown",
   "metadata": {
    "dc": {
     "key": "10"
    },
    "deletable": false,
    "editable": false,
    "run_control": {
     "frozen": true
    },
    "tags": [
     "context"
    ]
   },
   "source": [
    "## 2. Pairwise relationships between continuous variables\n",
    "<p>We typically want to avoid using variables that have strong correlations with each other -- hence avoiding feature redundancy -- for a few reasons:</p>\n",
    "<ul>\n",
    "<li>To keep the model simple and improve interpretability (with many features, we run the risk of overfitting).</li>\n",
    "<li>When our datasets are very large, using fewer features can drastically speed up our computation time.</li>\n",
    "</ul>\n",
    "<p>To get a sense of whether there are any strongly correlated features in our data, we will use built-in functions in the <code>pandas</code> package.</p>"
   ]
  },
  {
   "cell_type": "code",
   "execution_count": 68,
   "metadata": {},
   "outputs": [
    {
     "name": "stdout",
     "output_type": "stream",
     "text": [
      "Column: track_id\n",
      "Kolmogorov-Smirnov Test:\n",
      "Test Statistic: 0.9995832202205647\n",
      "p-value: 0.0\n",
      "\n",
      "\n",
      "Column: acousticness\n",
      "Kolmogorov-Smirnov Test:\n",
      "Test Statistic: 0.5000003786361183\n",
      "p-value: 0.0\n",
      "\n",
      "\n",
      "Column: danceability\n",
      "Kolmogorov-Smirnov Test:\n",
      "Test Statistic: 0.52831391506728\n",
      "p-value: 0.0\n",
      "\n",
      "\n",
      "Column: energy\n",
      "Kolmogorov-Smirnov Test:\n",
      "Test Statistic: 0.5222127020110752\n",
      "p-value: 0.0\n",
      "\n",
      "\n",
      "Column: instrumentalness\n",
      "Kolmogorov-Smirnov Test:\n",
      "Test Statistic: 0.5\n",
      "p-value: 0.0\n",
      "\n",
      "\n",
      "Column: liveness\n",
      "Kolmogorov-Smirnov Test:\n",
      "Test Statistic: 0.513159918350863\n",
      "p-value: 0.0\n",
      "\n",
      "\n",
      "Column: speechiness\n",
      "Kolmogorov-Smirnov Test:\n",
      "Test Statistic: 0.5092680832731188\n",
      "p-value: 0.0\n",
      "\n",
      "\n",
      "Column: tempo\n",
      "Kolmogorov-Smirnov Test:\n",
      "Test Statistic: 1.0\n",
      "p-value: 0.0\n",
      "\n",
      "\n",
      "Column: valence\n",
      "Kolmogorov-Smirnov Test:\n",
      "Test Statistic: 0.509018083821163\n",
      "p-value: 0.0\n",
      "\n",
      "\n"
     ]
    }
   ],
   "source": [
    "# Checking the distributions\n",
    "from scipy import stats\n",
    "\n",
    "normal_distributed = []\n",
    "not_normal_distributed = []\n",
    "\n",
    "for i in data.columns:\n",
    "    if data[i].dtype != object:\n",
    "        ks_stat, ks_p_value = stats.kstest(data[i], cdf='norm')\n",
    "        print(f'Column: {i}')\n",
    "        print(f'Kolmogorov-Smirnov Test:')\n",
    "        print(f'Test Statistic: {ks_stat}')\n",
    "        print(f'p-value: {ks_p_value}')\n",
    "        print('\\n')\n",
    "        if ks_p_value > 0.05:\n",
    "            normal_distributed.append(i)\n",
    "        else:\n",
    "            not_normal_distributed.append(i)"
   ]
  },
  {
   "cell_type": "code",
   "execution_count": 69,
   "metadata": {},
   "outputs": [
    {
     "data": {
      "text/plain": [
       "[]"
      ]
     },
     "execution_count": 69,
     "metadata": {},
     "output_type": "execute_result"
    }
   ],
   "source": [
    "normal_distributed"
   ]
  },
  {
   "cell_type": "code",
   "execution_count": 70,
   "metadata": {},
   "outputs": [
    {
     "data": {
      "text/plain": [
       "['track_id',\n",
       " 'acousticness',\n",
       " 'danceability',\n",
       " 'energy',\n",
       " 'instrumentalness',\n",
       " 'liveness',\n",
       " 'speechiness',\n",
       " 'tempo',\n",
       " 'valence']"
      ]
     },
     "execution_count": 70,
     "metadata": {},
     "output_type": "execute_result"
    }
   ],
   "source": [
    "not_normal_distributed"
   ]
  },
  {
   "cell_type": "code",
   "execution_count": 71,
   "metadata": {},
   "outputs": [
    {
     "data": {
      "text/plain": [
       "genre_top\n",
       "Rock       3892\n",
       "Hip-Hop     910\n",
       "Name: count, dtype: int64"
      ]
     },
     "execution_count": 71,
     "metadata": {},
     "output_type": "execute_result"
    }
   ],
   "source": [
    "data['genre_top'].value_counts()"
   ]
  },
  {
   "cell_type": "code",
   "execution_count": 72,
   "metadata": {},
   "outputs": [],
   "source": [
    "data['genre_top'] = data['genre_top'].map({'Rock':0, 'Hip-Hop':1})"
   ]
  },
  {
   "cell_type": "code",
   "execution_count": 73,
   "metadata": {},
   "outputs": [],
   "source": [
    "import pandas as pd\n",
    "\n",
    "def target_correlation(data, target, threshold=0.01):\n",
    "    corr_matrix = data.corr(method='spearman')\n",
    "    \n",
    "    result_explaining_target = []\n",
    "    result_not_explaining_target = []\n",
    "    \n",
    "    for variable in corr_matrix.index:\n",
    "        if variable != target:\n",
    "            correlation = corr_matrix.loc[variable, target]\n",
    "            if abs(correlation) > threshold:\n",
    "                result_explaining_target.append({'Variable': variable, 'Correlation with Target': correlation})\n",
    "            else:\n",
    "                result_not_explaining_target.append({'Variable': variable, 'Correlation with Target': correlation})\n",
    "    \n",
    "    return pd.DataFrame(result_explaining_target), pd.DataFrame(result_not_explaining_target)\n"
   ]
  },
  {
   "cell_type": "code",
   "execution_count": 74,
   "metadata": {},
   "outputs": [
    {
     "data": {
      "text/html": [
       "<div>\n",
       "<style scoped>\n",
       "    .dataframe tbody tr th:only-of-type {\n",
       "        vertical-align: middle;\n",
       "    }\n",
       "\n",
       "    .dataframe tbody tr th {\n",
       "        vertical-align: top;\n",
       "    }\n",
       "\n",
       "    .dataframe thead th {\n",
       "        text-align: right;\n",
       "    }\n",
       "</style>\n",
       "<table border=\"1\" class=\"dataframe\">\n",
       "  <thead>\n",
       "    <tr style=\"text-align: right;\">\n",
       "      <th></th>\n",
       "      <th>Variable</th>\n",
       "      <th>Correlation with Target</th>\n",
       "    </tr>\n",
       "  </thead>\n",
       "  <tbody>\n",
       "    <tr>\n",
       "      <th>0</th>\n",
       "      <td>track_id</td>\n",
       "      <td>0.051</td>\n",
       "    </tr>\n",
       "    <tr>\n",
       "      <th>1</th>\n",
       "      <td>acousticness</td>\n",
       "      <td>-0.094</td>\n",
       "    </tr>\n",
       "    <tr>\n",
       "      <th>2</th>\n",
       "      <td>danceability</td>\n",
       "      <td>0.455</td>\n",
       "    </tr>\n",
       "    <tr>\n",
       "      <th>3</th>\n",
       "      <td>energy</td>\n",
       "      <td>-0.149</td>\n",
       "    </tr>\n",
       "    <tr>\n",
       "      <th>4</th>\n",
       "      <td>instrumentalness</td>\n",
       "      <td>-0.301</td>\n",
       "    </tr>\n",
       "    <tr>\n",
       "      <th>5</th>\n",
       "      <td>speechiness</td>\n",
       "      <td>0.481</td>\n",
       "    </tr>\n",
       "    <tr>\n",
       "      <th>6</th>\n",
       "      <td>tempo</td>\n",
       "      <td>-0.139</td>\n",
       "    </tr>\n",
       "    <tr>\n",
       "      <th>7</th>\n",
       "      <td>valence</td>\n",
       "      <td>0.250</td>\n",
       "    </tr>\n",
       "  </tbody>\n",
       "</table>\n",
       "</div>"
      ],
      "text/plain": [
       "           Variable  Correlation with Target\n",
       "0          track_id                    0.051\n",
       "1      acousticness                   -0.094\n",
       "2      danceability                    0.455\n",
       "3            energy                   -0.149\n",
       "4  instrumentalness                   -0.301\n",
       "5       speechiness                    0.481\n",
       "6             tempo                   -0.139\n",
       "7           valence                    0.250"
      ]
     },
     "execution_count": 74,
     "metadata": {},
     "output_type": "execute_result"
    }
   ],
   "source": [
    "explaining_target, not_explaining_target = target_correlation(data, 'genre_top')\n",
    "explaining_target"
   ]
  },
  {
   "cell_type": "code",
   "execution_count": 75,
   "metadata": {},
   "outputs": [
    {
     "data": {
      "text/html": [
       "<div>\n",
       "<style scoped>\n",
       "    .dataframe tbody tr th:only-of-type {\n",
       "        vertical-align: middle;\n",
       "    }\n",
       "\n",
       "    .dataframe tbody tr th {\n",
       "        vertical-align: top;\n",
       "    }\n",
       "\n",
       "    .dataframe thead th {\n",
       "        text-align: right;\n",
       "    }\n",
       "</style>\n",
       "<table border=\"1\" class=\"dataframe\">\n",
       "  <thead>\n",
       "    <tr style=\"text-align: right;\">\n",
       "      <th></th>\n",
       "      <th>Variable</th>\n",
       "      <th>Correlation with Target</th>\n",
       "    </tr>\n",
       "  </thead>\n",
       "  <tbody>\n",
       "    <tr>\n",
       "      <th>0</th>\n",
       "      <td>liveness</td>\n",
       "      <td>-0.007</td>\n",
       "    </tr>\n",
       "  </tbody>\n",
       "</table>\n",
       "</div>"
      ],
      "text/plain": [
       "   Variable  Correlation with Target\n",
       "0  liveness                   -0.007"
      ]
     },
     "execution_count": 75,
     "metadata": {},
     "output_type": "execute_result"
    }
   ],
   "source": [
    "not_explaining_target"
   ]
  },
  {
   "cell_type": "markdown",
   "metadata": {},
   "source": [
    "We have to drop one column when threshold is 0.01. (Threshold is low, don't pay attention)"
   ]
  },
  {
   "cell_type": "code",
   "execution_count": 76,
   "metadata": {},
   "outputs": [],
   "source": [
    "\n",
    "def intercorrelation(data, target, threshold=0.5):\n",
    "    corr_matrix = data.drop(columns=[target]).corr(method='spearman')\n",
    "    \n",
    "    highly_correlated_variables = (np.abs(corr_matrix) > threshold) & (corr_matrix != 1.0)\n",
    "    \n",
    "    independent_variable_pairs = np.where(highly_correlated_variables)\n",
    "    \n",
    "    correlated_pairs_set = set()\n",
    "\n",
    "    for var1, var2 in zip(independent_variable_pairs[0], independent_variable_pairs[1]):\n",
    "\n",
    "        if var1 < var2:\n",
    "            correlated_pairs_set.add((corr_matrix.index[var1], corr_matrix.columns[var2]))\n",
    "        else:\n",
    "            correlated_pairs_set.add((corr_matrix.index[var2], corr_matrix.columns[var1]))\n",
    "    \n",
    "    result_intercorrelated_independent = pd.DataFrame(list(correlated_pairs_set), columns=['Variable 1', 'Variable 2'])\n",
    "    \n",
    "    return result_intercorrelated_independent"
   ]
  },
  {
   "cell_type": "code",
   "execution_count": 77,
   "metadata": {},
   "outputs": [
    {
     "data": {
      "text/html": [
       "<div>\n",
       "<style scoped>\n",
       "    .dataframe tbody tr th:only-of-type {\n",
       "        vertical-align: middle;\n",
       "    }\n",
       "\n",
       "    .dataframe tbody tr th {\n",
       "        vertical-align: top;\n",
       "    }\n",
       "\n",
       "    .dataframe thead th {\n",
       "        text-align: right;\n",
       "    }\n",
       "</style>\n",
       "<table border=\"1\" class=\"dataframe\">\n",
       "  <thead>\n",
       "    <tr style=\"text-align: right;\">\n",
       "      <th></th>\n",
       "      <th>Variable 1</th>\n",
       "      <th>Variable 2</th>\n",
       "    </tr>\n",
       "  </thead>\n",
       "  <tbody>\n",
       "  </tbody>\n",
       "</table>\n",
       "</div>"
      ],
      "text/plain": [
       "Empty DataFrame\n",
       "Columns: [Variable 1, Variable 2]\n",
       "Index: []"
      ]
     },
     "execution_count": 77,
     "metadata": {},
     "output_type": "execute_result"
    }
   ],
   "source": [
    "intercorrelated_result = intercorrelation(data, 'genre_top')\n",
    "intercorrelated_result"
   ]
  },
  {
   "cell_type": "markdown",
   "metadata": {},
   "source": [
    "There is no any correlated column in our data when threshold is 0.5."
   ]
  },
  {
   "cell_type": "code",
   "execution_count": 78,
   "metadata": {
    "dc": {
     "key": "10"
    },
    "tags": [
     "sample_code"
    ]
   },
   "outputs": [
    {
     "data": {
      "text/html": [
       "<style type=\"text/css\">\n",
       "#T_943dd_row0_col0, #T_943dd_row1_col1, #T_943dd_row2_col2, #T_943dd_row3_col3, #T_943dd_row4_col4, #T_943dd_row5_col5, #T_943dd_row6_col6, #T_943dd_row7_col7, #T_943dd_row8_col8, #T_943dd_row9_col9 {\n",
       "  background-color: #023858;\n",
       "  color: #f1f1f1;\n",
       "}\n",
       "#T_943dd_row0_col1, #T_943dd_row1_col0, #T_943dd_row1_col3, #T_943dd_row2_col5, #T_943dd_row2_col7, #T_943dd_row3_col2, #T_943dd_row4_col6, #T_943dd_row4_col8, #T_943dd_row4_col9, #T_943dd_row9_col4 {\n",
       "  background-color: #fff7fb;\n",
       "  color: #000000;\n",
       "}\n",
       "#T_943dd_row0_col2 {\n",
       "  background-color: #cacee5;\n",
       "  color: #000000;\n",
       "}\n",
       "#T_943dd_row0_col3, #T_943dd_row2_col0 {\n",
       "  background-color: #bdc8e1;\n",
       "  color: #000000;\n",
       "}\n",
       "#T_943dd_row0_col4 {\n",
       "  background-color: #f6eff7;\n",
       "  color: #000000;\n",
       "}\n",
       "#T_943dd_row0_col5, #T_943dd_row1_col9 {\n",
       "  background-color: #e5e1ef;\n",
       "  color: #000000;\n",
       "}\n",
       "#T_943dd_row0_col6 {\n",
       "  background-color: #e1dfed;\n",
       "  color: #000000;\n",
       "}\n",
       "#T_943dd_row0_col7 {\n",
       "  background-color: #e6e2ef;\n",
       "  color: #000000;\n",
       "}\n",
       "#T_943dd_row0_col8, #T_943dd_row3_col5 {\n",
       "  background-color: #d8d7e9;\n",
       "  color: #000000;\n",
       "}\n",
       "#T_943dd_row0_col9 {\n",
       "  background-color: #c9cee4;\n",
       "  color: #000000;\n",
       "}\n",
       "#T_943dd_row1_col2, #T_943dd_row4_col7 {\n",
       "  background-color: #d9d8ea;\n",
       "  color: #000000;\n",
       "}\n",
       "#T_943dd_row1_col4 {\n",
       "  background-color: #94b6d7;\n",
       "  color: #000000;\n",
       "}\n",
       "#T_943dd_row1_col5 {\n",
       "  background-color: #ece7f2;\n",
       "  color: #000000;\n",
       "}\n",
       "#T_943dd_row1_col6 {\n",
       "  background-color: #dddbec;\n",
       "  color: #000000;\n",
       "}\n",
       "#T_943dd_row1_col7, #T_943dd_row5_col4 {\n",
       "  background-color: #e3e0ee;\n",
       "  color: #000000;\n",
       "}\n",
       "#T_943dd_row1_col8 {\n",
       "  background-color: #e0deed;\n",
       "  color: #000000;\n",
       "}\n",
       "#T_943dd_row2_col1 {\n",
       "  background-color: #ced0e6;\n",
       "  color: #000000;\n",
       "}\n",
       "#T_943dd_row2_col3 {\n",
       "  background-color: #fef6fa;\n",
       "  color: #000000;\n",
       "}\n",
       "#T_943dd_row2_col4 {\n",
       "  background-color: #faf2f8;\n",
       "  color: #000000;\n",
       "}\n",
       "#T_943dd_row2_col6, #T_943dd_row9_col0 {\n",
       "  background-color: #c1cae2;\n",
       "  color: #000000;\n",
       "}\n",
       "#T_943dd_row2_col8 {\n",
       "  background-color: #4e9ac6;\n",
       "  color: #f1f1f1;\n",
       "}\n",
       "#T_943dd_row2_col9 {\n",
       "  background-color: #4c99c5;\n",
       "  color: #f1f1f1;\n",
       "}\n",
       "#T_943dd_row3_col0 {\n",
       "  background-color: #b3c3de;\n",
       "  color: #000000;\n",
       "}\n",
       "#T_943dd_row3_col1, #T_943dd_row8_col4 {\n",
       "  background-color: #f8f1f8;\n",
       "  color: #000000;\n",
       "}\n",
       "#T_943dd_row3_col4 {\n",
       "  background-color: #d2d3e7;\n",
       "  color: #000000;\n",
       "}\n",
       "#T_943dd_row3_col6 {\n",
       "  background-color: #b7c5df;\n",
       "  color: #000000;\n",
       "}\n",
       "#T_943dd_row3_col7 {\n",
       "  background-color: #adc1dd;\n",
       "  color: #000000;\n",
       "}\n",
       "#T_943dd_row3_col8, #T_943dd_row6_col5 {\n",
       "  background-color: #dedcec;\n",
       "  color: #000000;\n",
       "}\n",
       "#T_943dd_row3_col9 {\n",
       "  background-color: #eee8f3;\n",
       "  color: #000000;\n",
       "}\n",
       "#T_943dd_row4_col0 {\n",
       "  background-color: #f1ebf5;\n",
       "  color: #000000;\n",
       "}\n",
       "#T_943dd_row4_col1 {\n",
       "  background-color: #8cb3d5;\n",
       "  color: #000000;\n",
       "}\n",
       "#T_943dd_row4_col2 {\n",
       "  background-color: #fdf5fa;\n",
       "  color: #000000;\n",
       "}\n",
       "#T_943dd_row4_col3, #T_943dd_row6_col7, #T_943dd_row7_col8 {\n",
       "  background-color: #d5d5e8;\n",
       "  color: #000000;\n",
       "}\n",
       "#T_943dd_row4_col5 {\n",
       "  background-color: #f9f2f8;\n",
       "  color: #000000;\n",
       "}\n",
       "#T_943dd_row5_col0 {\n",
       "  background-color: #c2cbe2;\n",
       "  color: #000000;\n",
       "}\n",
       "#T_943dd_row5_col1 {\n",
       "  background-color: #cccfe5;\n",
       "  color: #000000;\n",
       "}\n",
       "#T_943dd_row5_col2 {\n",
       "  background-color: #efe9f3;\n",
       "  color: #000000;\n",
       "}\n",
       "#T_943dd_row5_col3 {\n",
       "  background-color: #bcc7e1;\n",
       "  color: #000000;\n",
       "}\n",
       "#T_943dd_row5_col6, #T_943dd_row8_col0 {\n",
       "  background-color: #c6cce3;\n",
       "  color: #000000;\n",
       "}\n",
       "#T_943dd_row5_col7, #T_943dd_row9_col1 {\n",
       "  background-color: #dfddec;\n",
       "  color: #000000;\n",
       "}\n",
       "#T_943dd_row5_col8 {\n",
       "  background-color: #e7e3f0;\n",
       "  color: #000000;\n",
       "}\n",
       "#T_943dd_row5_col9, #T_943dd_row7_col0, #T_943dd_row8_col7 {\n",
       "  background-color: #d6d6e9;\n",
       "  color: #000000;\n",
       "}\n",
       "#T_943dd_row6_col0, #T_943dd_row8_col3 {\n",
       "  background-color: #d7d6e9;\n",
       "  color: #000000;\n",
       "}\n",
       "#T_943dd_row6_col1, #T_943dd_row7_col1 {\n",
       "  background-color: #d3d4e7;\n",
       "  color: #000000;\n",
       "}\n",
       "#T_943dd_row6_col2 {\n",
       "  background-color: #c0c9e2;\n",
       "  color: #000000;\n",
       "}\n",
       "#T_943dd_row6_col3 {\n",
       "  background-color: #b4c4df;\n",
       "  color: #000000;\n",
       "}\n",
       "#T_943dd_row6_col4 {\n",
       "  background-color: #fbf4f9;\n",
       "  color: #000000;\n",
       "}\n",
       "#T_943dd_row6_col8 {\n",
       "  background-color: #e0dded;\n",
       "  color: #000000;\n",
       "}\n",
       "#T_943dd_row6_col9 {\n",
       "  background-color: #4295c3;\n",
       "  color: #f1f1f1;\n",
       "}\n",
       "#T_943dd_row7_col2 {\n",
       "  background-color: #fbf3f9;\n",
       "  color: #000000;\n",
       "}\n",
       "#T_943dd_row7_col3 {\n",
       "  background-color: #a5bddb;\n",
       "  color: #000000;\n",
       "}\n",
       "#T_943dd_row7_col4, #T_943dd_row7_col6 {\n",
       "  background-color: #d1d2e6;\n",
       "  color: #000000;\n",
       "}\n",
       "#T_943dd_row7_col5, #T_943dd_row9_col5 {\n",
       "  background-color: #eee9f3;\n",
       "  color: #000000;\n",
       "}\n",
       "#T_943dd_row7_col9 {\n",
       "  background-color: #ede7f2;\n",
       "  color: #000000;\n",
       "}\n",
       "#T_943dd_row8_col1 {\n",
       "  background-color: #d2d2e7;\n",
       "  color: #000000;\n",
       "}\n",
       "#T_943dd_row8_col2 {\n",
       "  background-color: #4897c4;\n",
       "  color: #f1f1f1;\n",
       "}\n",
       "#T_943dd_row8_col5, #T_943dd_row9_col7 {\n",
       "  background-color: #f4edf6;\n",
       "  color: #000000;\n",
       "}\n",
       "#T_943dd_row8_col6 {\n",
       "  background-color: #dad9ea;\n",
       "  color: #000000;\n",
       "}\n",
       "#T_943dd_row8_col9 {\n",
       "  background-color: #93b5d6;\n",
       "  color: #000000;\n",
       "}\n",
       "#T_943dd_row9_col2 {\n",
       "  background-color: #509ac6;\n",
       "  color: #f1f1f1;\n",
       "}\n",
       "#T_943dd_row9_col3 {\n",
       "  background-color: #f0eaf4;\n",
       "  color: #000000;\n",
       "}\n",
       "#T_943dd_row9_col6 {\n",
       "  background-color: #4697c4;\n",
       "  color: #f1f1f1;\n",
       "}\n",
       "#T_943dd_row9_col8 {\n",
       "  background-color: #9fbad9;\n",
       "  color: #000000;\n",
       "}\n",
       "</style>\n",
       "<table id=\"T_943dd\">\n",
       "  <thead>\n",
       "    <tr>\n",
       "      <th class=\"blank level0\" >&nbsp;</th>\n",
       "      <th id=\"T_943dd_level0_col0\" class=\"col_heading level0 col0\" >track_id</th>\n",
       "      <th id=\"T_943dd_level0_col1\" class=\"col_heading level0 col1\" >acousticness</th>\n",
       "      <th id=\"T_943dd_level0_col2\" class=\"col_heading level0 col2\" >danceability</th>\n",
       "      <th id=\"T_943dd_level0_col3\" class=\"col_heading level0 col3\" >energy</th>\n",
       "      <th id=\"T_943dd_level0_col4\" class=\"col_heading level0 col4\" >instrumentalness</th>\n",
       "      <th id=\"T_943dd_level0_col5\" class=\"col_heading level0 col5\" >liveness</th>\n",
       "      <th id=\"T_943dd_level0_col6\" class=\"col_heading level0 col6\" >speechiness</th>\n",
       "      <th id=\"T_943dd_level0_col7\" class=\"col_heading level0 col7\" >tempo</th>\n",
       "      <th id=\"T_943dd_level0_col8\" class=\"col_heading level0 col8\" >valence</th>\n",
       "      <th id=\"T_943dd_level0_col9\" class=\"col_heading level0 col9\" >genre_top</th>\n",
       "    </tr>\n",
       "  </thead>\n",
       "  <tbody>\n",
       "    <tr>\n",
       "      <th id=\"T_943dd_level0_row0\" class=\"row_heading level0 row0\" >track_id</th>\n",
       "      <td id=\"T_943dd_row0_col0\" class=\"data row0 col0\" >1.000000</td>\n",
       "      <td id=\"T_943dd_row0_col1\" class=\"data row0 col1\" >-0.344517</td>\n",
       "      <td id=\"T_943dd_row0_col2\" class=\"data row0 col2\" >0.069876</td>\n",
       "      <td id=\"T_943dd_row0_col3\" class=\"data row0 col3\" >0.107845</td>\n",
       "      <td id=\"T_943dd_row0_col4\" class=\"data row0 col4\" >-0.221159</td>\n",
       "      <td id=\"T_943dd_row0_col5\" class=\"data row0 col5\" >0.046183</td>\n",
       "      <td id=\"T_943dd_row0_col6\" class=\"data row0 col6\" >-0.046997</td>\n",
       "      <td id=\"T_943dd_row0_col7\" class=\"data row0 col7\" >-0.042754</td>\n",
       "      <td id=\"T_943dd_row0_col8\" class=\"data row0 col8\" >0.031052</td>\n",
       "      <td id=\"T_943dd_row0_col9\" class=\"data row0 col9\" >0.050817</td>\n",
       "    </tr>\n",
       "    <tr>\n",
       "      <th id=\"T_943dd_level0_row1\" class=\"row_heading level0 row1\" >acousticness</th>\n",
       "      <td id=\"T_943dd_row1_col0\" class=\"data row1 col0\" >-0.344517</td>\n",
       "      <td id=\"T_943dd_row1_col1\" class=\"data row1 col1\" >1.000000</td>\n",
       "      <td id=\"T_943dd_row1_col2\" class=\"data row1 col2\" >-0.001819</td>\n",
       "      <td id=\"T_943dd_row1_col3\" class=\"data row1 col3\" >-0.283787</td>\n",
       "      <td id=\"T_943dd_row1_col4\" class=\"data row1 col4\" >0.244809</td>\n",
       "      <td id=\"T_943dd_row1_col5\" class=\"data row1 col5\" >0.012443</td>\n",
       "      <td id=\"T_943dd_row1_col6\" class=\"data row1 col6\" >-0.025228</td>\n",
       "      <td id=\"T_943dd_row1_col7\" class=\"data row1 col7\" >-0.028000</td>\n",
       "      <td id=\"T_943dd_row1_col8\" class=\"data row1 col8\" >-0.014801</td>\n",
       "      <td id=\"T_943dd_row1_col9\" class=\"data row1 col9\" >-0.094458</td>\n",
       "    </tr>\n",
       "    <tr>\n",
       "      <th id=\"T_943dd_level0_row2\" class=\"row_heading level0 row2\" >danceability</th>\n",
       "      <td id=\"T_943dd_row2_col0\" class=\"data row2 col0\" >0.069876</td>\n",
       "      <td id=\"T_943dd_row2_col1\" class=\"data row2 col1\" >-0.001819</td>\n",
       "      <td id=\"T_943dd_row2_col2\" class=\"data row2 col2\" >1.000000</td>\n",
       "      <td id=\"T_943dd_row2_col3\" class=\"data row2 col3\" >-0.270812</td>\n",
       "      <td id=\"T_943dd_row2_col4\" class=\"data row2 col4\" >-0.252713</td>\n",
       "      <td id=\"T_943dd_row2_col5\" class=\"data row2 col5\" >-0.132169</td>\n",
       "      <td id=\"T_943dd_row2_col6\" class=\"data row2 col6\" >0.106906</td>\n",
       "      <td id=\"T_943dd_row2_col7\" class=\"data row2 col7\" >-0.234742</td>\n",
       "      <td id=\"T_943dd_row2_col8\" class=\"data row2 col8\" >0.476212</td>\n",
       "      <td id=\"T_943dd_row2_col9\" class=\"data row2 col9\" >0.455014</td>\n",
       "    </tr>\n",
       "    <tr>\n",
       "      <th id=\"T_943dd_level0_row3\" class=\"row_heading level0 row3\" >energy</th>\n",
       "      <td id=\"T_943dd_row3_col0\" class=\"data row3 col0\" >0.107845</td>\n",
       "      <td id=\"T_943dd_row3_col1\" class=\"data row3 col1\" >-0.283787</td>\n",
       "      <td id=\"T_943dd_row3_col2\" class=\"data row3 col2\" >-0.270812</td>\n",
       "      <td id=\"T_943dd_row3_col3\" class=\"data row3 col3\" >1.000000</td>\n",
       "      <td id=\"T_943dd_row3_col4\" class=\"data row3 col4\" >0.010948</td>\n",
       "      <td id=\"T_943dd_row3_col5\" class=\"data row3 col5\" >0.113581</td>\n",
       "      <td id=\"T_943dd_row3_col6\" class=\"data row3 col6\" >0.142800</td>\n",
       "      <td id=\"T_943dd_row3_col7\" class=\"data row3 col7\" >0.199985</td>\n",
       "      <td id=\"T_943dd_row3_col8\" class=\"data row3 col8\" >-0.000906</td>\n",
       "      <td id=\"T_943dd_row3_col9\" class=\"data row3 col9\" >-0.149356</td>\n",
       "    </tr>\n",
       "    <tr>\n",
       "      <th id=\"T_943dd_level0_row4\" class=\"row_heading level0 row4\" >instrumentalness</th>\n",
       "      <td id=\"T_943dd_row4_col0\" class=\"data row4 col0\" >-0.221159</td>\n",
       "      <td id=\"T_943dd_row4_col1\" class=\"data row4 col1\" >0.244809</td>\n",
       "      <td id=\"T_943dd_row4_col2\" class=\"data row4 col2\" >-0.252713</td>\n",
       "      <td id=\"T_943dd_row4_col3\" class=\"data row4 col3\" >0.010948</td>\n",
       "      <td id=\"T_943dd_row4_col4\" class=\"data row4 col4\" >1.000000</td>\n",
       "      <td id=\"T_943dd_row4_col5\" class=\"data row4 col5\" >-0.085601</td>\n",
       "      <td id=\"T_943dd_row4_col6\" class=\"data row4 col6\" >-0.269424</td>\n",
       "      <td id=\"T_943dd_row4_col7\" class=\"data row4 col7\" >0.021682</td>\n",
       "      <td id=\"T_943dd_row4_col8\" class=\"data row4 col8\" >-0.235501</td>\n",
       "      <td id=\"T_943dd_row4_col9\" class=\"data row4 col9\" >-0.300787</td>\n",
       "    </tr>\n",
       "    <tr>\n",
       "      <th id=\"T_943dd_level0_row5\" class=\"row_heading level0 row5\" >liveness</th>\n",
       "      <td id=\"T_943dd_row5_col0\" class=\"data row5 col0\" >0.046183</td>\n",
       "      <td id=\"T_943dd_row5_col1\" class=\"data row5 col1\" >0.012443</td>\n",
       "      <td id=\"T_943dd_row5_col2\" class=\"data row5 col2\" >-0.132169</td>\n",
       "      <td id=\"T_943dd_row5_col3\" class=\"data row5 col3\" >0.113581</td>\n",
       "      <td id=\"T_943dd_row5_col4\" class=\"data row5 col4\" >-0.085601</td>\n",
       "      <td id=\"T_943dd_row5_col5\" class=\"data row5 col5\" >1.000000</td>\n",
       "      <td id=\"T_943dd_row5_col6\" class=\"data row5 col6\" >0.082803</td>\n",
       "      <td id=\"T_943dd_row5_col7\" class=\"data row5 col7\" >-0.004956</td>\n",
       "      <td id=\"T_943dd_row5_col8\" class=\"data row5 col8\" >-0.047802</td>\n",
       "      <td id=\"T_943dd_row5_col9\" class=\"data row5 col9\" >-0.007037</td>\n",
       "    </tr>\n",
       "    <tr>\n",
       "      <th id=\"T_943dd_level0_row6\" class=\"row_heading level0 row6\" >speechiness</th>\n",
       "      <td id=\"T_943dd_row6_col0\" class=\"data row6 col0\" >-0.046997</td>\n",
       "      <td id=\"T_943dd_row6_col1\" class=\"data row6 col1\" >-0.025228</td>\n",
       "      <td id=\"T_943dd_row6_col2\" class=\"data row6 col2\" >0.106906</td>\n",
       "      <td id=\"T_943dd_row6_col3\" class=\"data row6 col3\" >0.142800</td>\n",
       "      <td id=\"T_943dd_row6_col4\" class=\"data row6 col4\" >-0.269424</td>\n",
       "      <td id=\"T_943dd_row6_col5\" class=\"data row6 col5\" >0.082803</td>\n",
       "      <td id=\"T_943dd_row6_col6\" class=\"data row6 col6\" >1.000000</td>\n",
       "      <td id=\"T_943dd_row6_col7\" class=\"data row6 col7\" >0.045462</td>\n",
       "      <td id=\"T_943dd_row6_col8\" class=\"data row6 col8\" >-0.011097</td>\n",
       "      <td id=\"T_943dd_row6_col9\" class=\"data row6 col9\" >0.480884</td>\n",
       "    </tr>\n",
       "    <tr>\n",
       "      <th id=\"T_943dd_level0_row7\" class=\"row_heading level0 row7\" >tempo</th>\n",
       "      <td id=\"T_943dd_row7_col0\" class=\"data row7 col0\" >-0.042754</td>\n",
       "      <td id=\"T_943dd_row7_col1\" class=\"data row7 col1\" >-0.028000</td>\n",
       "      <td id=\"T_943dd_row7_col2\" class=\"data row7 col2\" >-0.234742</td>\n",
       "      <td id=\"T_943dd_row7_col3\" class=\"data row7 col3\" >0.199985</td>\n",
       "      <td id=\"T_943dd_row7_col4\" class=\"data row7 col4\" >0.021682</td>\n",
       "      <td id=\"T_943dd_row7_col5\" class=\"data row7 col5\" >-0.004956</td>\n",
       "      <td id=\"T_943dd_row7_col6\" class=\"data row7 col6\" >0.045462</td>\n",
       "      <td id=\"T_943dd_row7_col7\" class=\"data row7 col7\" >1.000000</td>\n",
       "      <td id=\"T_943dd_row7_col8\" class=\"data row7 col8\" >0.044987</td>\n",
       "      <td id=\"T_943dd_row7_col9\" class=\"data row7 col9\" >-0.139391</td>\n",
       "    </tr>\n",
       "    <tr>\n",
       "      <th id=\"T_943dd_level0_row8\" class=\"row_heading level0 row8\" >valence</th>\n",
       "      <td id=\"T_943dd_row8_col0\" class=\"data row8 col0\" >0.031052</td>\n",
       "      <td id=\"T_943dd_row8_col1\" class=\"data row8 col1\" >-0.014801</td>\n",
       "      <td id=\"T_943dd_row8_col2\" class=\"data row8 col2\" >0.476212</td>\n",
       "      <td id=\"T_943dd_row8_col3\" class=\"data row8 col3\" >-0.000906</td>\n",
       "      <td id=\"T_943dd_row8_col4\" class=\"data row8 col4\" >-0.235501</td>\n",
       "      <td id=\"T_943dd_row8_col5\" class=\"data row8 col5\" >-0.047802</td>\n",
       "      <td id=\"T_943dd_row8_col6\" class=\"data row8 col6\" >-0.011097</td>\n",
       "      <td id=\"T_943dd_row8_col7\" class=\"data row8 col7\" >0.044987</td>\n",
       "      <td id=\"T_943dd_row8_col8\" class=\"data row8 col8\" >1.000000</td>\n",
       "      <td id=\"T_943dd_row8_col9\" class=\"data row8 col9\" >0.250231</td>\n",
       "    </tr>\n",
       "    <tr>\n",
       "      <th id=\"T_943dd_level0_row9\" class=\"row_heading level0 row9\" >genre_top</th>\n",
       "      <td id=\"T_943dd_row9_col0\" class=\"data row9 col0\" >0.050817</td>\n",
       "      <td id=\"T_943dd_row9_col1\" class=\"data row9 col1\" >-0.094458</td>\n",
       "      <td id=\"T_943dd_row9_col2\" class=\"data row9 col2\" >0.455014</td>\n",
       "      <td id=\"T_943dd_row9_col3\" class=\"data row9 col3\" >-0.149356</td>\n",
       "      <td id=\"T_943dd_row9_col4\" class=\"data row9 col4\" >-0.300787</td>\n",
       "      <td id=\"T_943dd_row9_col5\" class=\"data row9 col5\" >-0.007037</td>\n",
       "      <td id=\"T_943dd_row9_col6\" class=\"data row9 col6\" >0.480884</td>\n",
       "      <td id=\"T_943dd_row9_col7\" class=\"data row9 col7\" >-0.139391</td>\n",
       "      <td id=\"T_943dd_row9_col8\" class=\"data row9 col8\" >0.250231</td>\n",
       "      <td id=\"T_943dd_row9_col9\" class=\"data row9 col9\" >1.000000</td>\n",
       "    </tr>\n",
       "  </tbody>\n",
       "</table>\n"
      ],
      "text/plain": [
       "<pandas.io.formats.style.Styler at 0x28e11317ed0>"
      ]
     },
     "execution_count": 78,
     "metadata": {},
     "output_type": "execute_result"
    }
   ],
   "source": [
    "# Create a correlation matrix\n",
    "corr_matrix = data.corr(numeric_only=True, method='spearman')\n",
    "corr_matrix.style.background_gradient()"
   ]
  },
  {
   "cell_type": "markdown",
   "metadata": {},
   "source": [
    "Here we can see an interesting correlation between <code>danceability</code> and <code>valence</code>, but it's not strong enough.\n",
    "<hr>\n",
    "<b>\n",
    "So we don't need to drop any columns for intercorrelation."
   ]
  },
  {
   "cell_type": "code",
   "execution_count": 79,
   "metadata": {},
   "outputs": [],
   "source": [
    "# Extract the list of variables from not_explaining_target\n",
    "not_explaining_target_variables = not_explaining_target['Variable'].tolist()\n",
    "not_explaining_target_variables.append('track_id')\n",
    "data = data.drop(columns=not_explaining_target_variables)"
   ]
  },
  {
   "cell_type": "code",
   "execution_count": 80,
   "metadata": {},
   "outputs": [
    {
     "data": {
      "text/html": [
       "<div>\n",
       "<style scoped>\n",
       "    .dataframe tbody tr th:only-of-type {\n",
       "        vertical-align: middle;\n",
       "    }\n",
       "\n",
       "    .dataframe tbody tr th {\n",
       "        vertical-align: top;\n",
       "    }\n",
       "\n",
       "    .dataframe thead th {\n",
       "        text-align: right;\n",
       "    }\n",
       "</style>\n",
       "<table border=\"1\" class=\"dataframe\">\n",
       "  <thead>\n",
       "    <tr style=\"text-align: right;\">\n",
       "      <th></th>\n",
       "      <th>acousticness</th>\n",
       "      <th>danceability</th>\n",
       "      <th>energy</th>\n",
       "      <th>instrumentalness</th>\n",
       "      <th>speechiness</th>\n",
       "      <th>tempo</th>\n",
       "      <th>valence</th>\n",
       "      <th>genre_top</th>\n",
       "    </tr>\n",
       "  </thead>\n",
       "  <tbody>\n",
       "    <tr>\n",
       "      <th>0</th>\n",
       "      <td>0.417</td>\n",
       "      <td>0.676</td>\n",
       "      <td>0.634</td>\n",
       "      <td>0.011</td>\n",
       "      <td>0.159</td>\n",
       "      <td>165.922</td>\n",
       "      <td>0.577</td>\n",
       "      <td>1</td>\n",
       "    </tr>\n",
       "    <tr>\n",
       "      <th>1</th>\n",
       "      <td>0.374</td>\n",
       "      <td>0.529</td>\n",
       "      <td>0.817</td>\n",
       "      <td>0.002</td>\n",
       "      <td>0.165</td>\n",
       "      <td>126.957</td>\n",
       "      <td>0.269</td>\n",
       "      <td>1</td>\n",
       "    </tr>\n",
       "    <tr>\n",
       "      <th>2</th>\n",
       "      <td>0.044</td>\n",
       "      <td>0.746</td>\n",
       "      <td>0.701</td>\n",
       "      <td>0.001</td>\n",
       "      <td>0.125</td>\n",
       "      <td>100.260</td>\n",
       "      <td>0.622</td>\n",
       "      <td>1</td>\n",
       "    </tr>\n",
       "    <tr>\n",
       "      <th>3</th>\n",
       "      <td>0.452</td>\n",
       "      <td>0.513</td>\n",
       "      <td>0.560</td>\n",
       "      <td>0.019</td>\n",
       "      <td>0.165</td>\n",
       "      <td>114.290</td>\n",
       "      <td>0.894</td>\n",
       "      <td>1</td>\n",
       "    </tr>\n",
       "    <tr>\n",
       "      <th>4</th>\n",
       "      <td>0.988</td>\n",
       "      <td>0.256</td>\n",
       "      <td>0.980</td>\n",
       "      <td>0.973</td>\n",
       "      <td>0.052</td>\n",
       "      <td>90.241</td>\n",
       "      <td>0.034</td>\n",
       "      <td>0</td>\n",
       "    </tr>\n",
       "  </tbody>\n",
       "</table>\n",
       "</div>"
      ],
      "text/plain": [
       "   acousticness  danceability  energy  instrumentalness  speechiness   tempo  valence  genre_top\n",
       "0         0.417         0.676   0.634             0.011        0.159 165.922    0.577          1\n",
       "1         0.374         0.529   0.817             0.002        0.165 126.957    0.269          1\n",
       "2         0.044         0.746   0.701             0.001        0.125 100.260    0.622          1\n",
       "3         0.452         0.513   0.560             0.019        0.165 114.290    0.894          1\n",
       "4         0.988         0.256   0.980             0.973        0.052  90.241    0.034          0"
      ]
     },
     "execution_count": 80,
     "metadata": {},
     "output_type": "execute_result"
    }
   ],
   "source": [
    "data.head()"
   ]
  },
  {
   "cell_type": "code",
   "execution_count": 81,
   "metadata": {},
   "outputs": [
    {
     "data": {
      "text/plain": [
       "(4802, 8)"
      ]
     },
     "execution_count": 81,
     "metadata": {},
     "output_type": "execute_result"
    }
   ],
   "source": [
    "data.shape"
   ]
  },
  {
   "cell_type": "code",
   "execution_count": 82,
   "metadata": {},
   "outputs": [
    {
     "data": {
      "text/plain": [
       "['acousticness',\n",
       " 'danceability',\n",
       " 'energy',\n",
       " 'instrumentalness',\n",
       " 'speechiness',\n",
       " 'tempo',\n",
       " 'valence',\n",
       " 'genre_top']"
      ]
     },
     "execution_count": 82,
     "metadata": {},
     "output_type": "execute_result"
    }
   ],
   "source": [
    "data.columns.tolist()"
   ]
  },
  {
   "cell_type": "code",
   "execution_count": 83,
   "metadata": {},
   "outputs": [
    {
     "data": {
      "text/html": [
       "<div>\n",
       "<style scoped>\n",
       "    .dataframe tbody tr th:only-of-type {\n",
       "        vertical-align: middle;\n",
       "    }\n",
       "\n",
       "    .dataframe tbody tr th {\n",
       "        vertical-align: top;\n",
       "    }\n",
       "\n",
       "    .dataframe thead th {\n",
       "        text-align: right;\n",
       "    }\n",
       "</style>\n",
       "<table border=\"1\" class=\"dataframe\">\n",
       "  <thead>\n",
       "    <tr style=\"text-align: right;\">\n",
       "      <th></th>\n",
       "      <th>VIF</th>\n",
       "      <th>Columns</th>\n",
       "    </tr>\n",
       "  </thead>\n",
       "  <tbody>\n",
       "    <tr>\n",
       "      <th>0</th>\n",
       "      <td>2.919</td>\n",
       "      <td>acousticness</td>\n",
       "    </tr>\n",
       "    <tr>\n",
       "      <th>1</th>\n",
       "      <td>8.222</td>\n",
       "      <td>danceability</td>\n",
       "    </tr>\n",
       "    <tr>\n",
       "      <th>2</th>\n",
       "      <td>5.857</td>\n",
       "      <td>energy</td>\n",
       "    </tr>\n",
       "    <tr>\n",
       "      <th>3</th>\n",
       "      <td>3.807</td>\n",
       "      <td>instrumentalness</td>\n",
       "    </tr>\n",
       "    <tr>\n",
       "      <th>4</th>\n",
       "      <td>5.159</td>\n",
       "      <td>speechiness</td>\n",
       "    </tr>\n",
       "    <tr>\n",
       "      <th>5</th>\n",
       "      <td>5.360</td>\n",
       "      <td>valence</td>\n",
       "    </tr>\n",
       "    <tr>\n",
       "      <th>6</th>\n",
       "      <td>2.289</td>\n",
       "      <td>genre_top</td>\n",
       "    </tr>\n",
       "  </tbody>\n",
       "</table>\n",
       "</div>"
      ],
      "text/plain": [
       "    VIF           Columns\n",
       "0 2.919      acousticness\n",
       "1 8.222      danceability\n",
       "2 5.857            energy\n",
       "3 3.807  instrumentalness\n",
       "4 5.159       speechiness\n",
       "5 5.360           valence\n",
       "6 2.289         genre_top"
      ]
     },
     "execution_count": 83,
     "metadata": {},
     "output_type": "execute_result"
    }
   ],
   "source": [
    "# variance inflation factor\n",
    "from statsmodels.stats.outliers_influence import variance_inflation_factor\n",
    "def calculate_variance(data, columns):\n",
    "    vif_data = data[columns]\n",
    "    vif_values = [variance_inflation_factor(vif_data.values, i) for i in range(vif_data.shape[1])]\n",
    "    vif_result = pd.DataFrame({\n",
    "        'VIF':vif_values,\n",
    "        'Columns':columns\n",
    "    })\n",
    "    return vif_result\n",
    "\n",
    "calculate_variance(data, [\n",
    "    'acousticness',\n",
    "    'danceability',\n",
    "    'energy',\n",
    "    'instrumentalness',\n",
    "    'speechiness',\n",
    "    # 'tempo',      # 11.013\n",
    "    'valence',\n",
    "    'genre_top'\n",
    "])"
   ]
  },
  {
   "cell_type": "markdown",
   "metadata": {},
   "source": [
    "We have to drop one more column which is <code>tempo</code> column because of we get this result after Variance Inflation Factor"
   ]
  },
  {
   "cell_type": "code",
   "execution_count": 84,
   "metadata": {},
   "outputs": [],
   "source": [
    "data = data.drop('tempo', axis=1)"
   ]
  },
  {
   "cell_type": "markdown",
   "metadata": {
    "dc": {
     "key": "17"
    },
    "deletable": false,
    "editable": false,
    "run_control": {
     "frozen": true
    },
    "tags": [
     "context"
    ]
   },
   "source": [
    "## 3. Normalizing the feature data\n",
    "<p>As mentioned earlier, it can be particularly useful to simplify our models and use as few features as necessary to achieve the best result. Since we didn't find any particular strong correlations between our features, we can instead use a common approach to reduce the number of features called <strong>principal component analysis (PCA)</strong>. </p>\n",
    "<p>It is possible that the variance between genres can be explained by just a few features in the dataset. PCA rotates the data along the axis of highest variance, thus allowing us to determine the relative contribution of each feature of our data towards the variance between classes. </p>\n",
    "<p>However, since PCA uses the absolute variance of a feature to rotate the data, a feature with a broader range of values will overpower and bias the algorithm relative to the other features. To avoid this, we must first normalize our data. There are a few methods to do this, but a common way is through <em>standardization</em>, such that all features have a mean = 0 and standard deviation = 1 (the resultant is a z-score).</p>"
   ]
  },
  {
   "cell_type": "code",
   "execution_count": 85,
   "metadata": {
    "dc": {
     "key": "17"
    },
    "tags": [
     "sample_code"
    ]
   },
   "outputs": [],
   "source": [
    "# Define our features\n",
    "features = data.drop(['genre_top'], axis=1)\n",
    "\n",
    "# Define our labels\n",
    "labels = data['genre_top']\n",
    "\n",
    "# Import the StandardScaler\n",
    "from sklearn.preprocessing import StandardScaler\n",
    "\n",
    "# Scale the features and set the values to a new variable\n",
    "scaler = StandardScaler()\n",
    "scaled_features = scaler.fit_transform(features)"
   ]
  },
  {
   "cell_type": "code",
   "execution_count": 86,
   "metadata": {},
   "outputs": [
    {
     "data": {
      "text/html": [
       "<div>\n",
       "<style scoped>\n",
       "    .dataframe tbody tr th:only-of-type {\n",
       "        vertical-align: middle;\n",
       "    }\n",
       "\n",
       "    .dataframe tbody tr th {\n",
       "        vertical-align: top;\n",
       "    }\n",
       "\n",
       "    .dataframe thead th {\n",
       "        text-align: right;\n",
       "    }\n",
       "</style>\n",
       "<table border=\"1\" class=\"dataframe\">\n",
       "  <thead>\n",
       "    <tr style=\"text-align: right;\">\n",
       "      <th></th>\n",
       "      <th>acousticness</th>\n",
       "      <th>danceability</th>\n",
       "      <th>energy</th>\n",
       "      <th>instrumentalness</th>\n",
       "      <th>speechiness</th>\n",
       "      <th>valence</th>\n",
       "    </tr>\n",
       "  </thead>\n",
       "  <tbody>\n",
       "    <tr>\n",
       "      <th>0</th>\n",
       "      <td>0.417</td>\n",
       "      <td>0.676</td>\n",
       "      <td>0.634</td>\n",
       "      <td>0.011</td>\n",
       "      <td>0.159</td>\n",
       "      <td>0.577</td>\n",
       "    </tr>\n",
       "    <tr>\n",
       "      <th>1</th>\n",
       "      <td>0.374</td>\n",
       "      <td>0.529</td>\n",
       "      <td>0.817</td>\n",
       "      <td>0.002</td>\n",
       "      <td>0.165</td>\n",
       "      <td>0.269</td>\n",
       "    </tr>\n",
       "    <tr>\n",
       "      <th>2</th>\n",
       "      <td>0.044</td>\n",
       "      <td>0.746</td>\n",
       "      <td>0.701</td>\n",
       "      <td>0.001</td>\n",
       "      <td>0.125</td>\n",
       "      <td>0.622</td>\n",
       "    </tr>\n",
       "    <tr>\n",
       "      <th>3</th>\n",
       "      <td>0.452</td>\n",
       "      <td>0.513</td>\n",
       "      <td>0.560</td>\n",
       "      <td>0.019</td>\n",
       "      <td>0.165</td>\n",
       "      <td>0.894</td>\n",
       "    </tr>\n",
       "    <tr>\n",
       "      <th>4</th>\n",
       "      <td>0.988</td>\n",
       "      <td>0.256</td>\n",
       "      <td>0.980</td>\n",
       "      <td>0.973</td>\n",
       "      <td>0.052</td>\n",
       "      <td>0.034</td>\n",
       "    </tr>\n",
       "  </tbody>\n",
       "</table>\n",
       "</div>"
      ],
      "text/plain": [
       "   acousticness  danceability  energy  instrumentalness  speechiness  valence\n",
       "0         0.417         0.676   0.634             0.011        0.159    0.577\n",
       "1         0.374         0.529   0.817             0.002        0.165    0.269\n",
       "2         0.044         0.746   0.701             0.001        0.125    0.622\n",
       "3         0.452         0.513   0.560             0.019        0.165    0.894\n",
       "4         0.988         0.256   0.980             0.973        0.052    0.034"
      ]
     },
     "execution_count": 86,
     "metadata": {},
     "output_type": "execute_result"
    }
   ],
   "source": [
    "features.head()"
   ]
  },
  {
   "cell_type": "code",
   "execution_count": 87,
   "metadata": {},
   "outputs": [
    {
     "data": {
      "text/plain": [
       "(4802, 6)"
      ]
     },
     "execution_count": 87,
     "metadata": {},
     "output_type": "execute_result"
    }
   ],
   "source": [
    "scaled_features.shape"
   ]
  },
  {
   "cell_type": "markdown",
   "metadata": {
    "dc": {
     "key": "24"
    },
    "deletable": false,
    "editable": false,
    "run_control": {
     "frozen": true
    },
    "tags": [
     "context"
    ]
   },
   "source": [
    "## 4. Principal Component Analysis on our scaled data\n",
    "<p>Now that we have preprocessed our data, we are ready to use PCA to determine by how much we can reduce the dimensionality of our data. We can use <strong>scree-plots</strong> and <strong>cumulative explained ratio plots</strong> to find the number of components to use in further analyses.</p>\n",
    "<p>Scree-plots display the number of components against the variance explained by each component, sorted in descending order of variance. Scree-plots help us get a better sense of which components explain a sufficient amount of variance in our data. When using scree plots, an 'elbow' (a steep drop from one data point to the next) in the plot is typically used to decide on an appropriate cutoff.</p>"
   ]
  },
  {
   "cell_type": "code",
   "execution_count": 88,
   "metadata": {
    "dc": {
     "key": "24"
    },
    "tags": [
     "sample_code"
    ]
   },
   "outputs": [
    {
     "data": {
      "text/plain": [
       "array([0.31331385, 0.22440777, 0.16671065, 0.13230009, 0.10153488,\n",
       "       0.06173277])"
      ]
     },
     "execution_count": 88,
     "metadata": {},
     "output_type": "execute_result"
    }
   ],
   "source": [
    "# This is just to make plots appear in the notebook\n",
    "%matplotlib inline\n",
    "\n",
    "# Import our plotting module, and PCA class\n",
    "import matplotlib.pyplot as plt\n",
    "from sklearn.decomposition import PCA\n",
    "\n",
    "# Get our explained variance ratios from PCA using all features\n",
    "pca = PCA()\n",
    "pca.fit(scaled_features)\n",
    "exp_variance_ratio = pca.explained_variance_ratio_\n",
    "exp_variance_ratio"
   ]
  },
  {
   "cell_type": "code",
   "execution_count": 89,
   "metadata": {},
   "outputs": [
    {
     "data": {
      "image/png": "[encoded data removed]",
      "text/plain": [
       "<Figure size 640x480 with 1 Axes>"
      ]
     },
     "metadata": {},
     "output_type": "display_data"
    }
   ],
   "source": [
    "# plot the explained variance using a barplot\n",
    "fig, ax = plt.subplots()\n",
    "ax.bar(range(pca.n_components_), exp_variance_ratio)\n",
    "ax.set_xlabel('Principal Component')\n",
    "plt.show()"
   ]
  },
  {
   "cell_type": "markdown",
   "metadata": {
    "dc": {
     "key": "31"
    },
    "deletable": false,
    "editable": false,
    "run_control": {
     "frozen": true
    },
    "tags": [
     "context"
    ]
   },
   "source": [
    "## 5. Further visualization of PCA\n",
    "<p>Unfortunately, there does not appear to be a clear elbow in this scree plot, which means it is not straightforward to find the number of intrinsic dimensions using this method. </p>\n",
    "<p>But all is not lost! Instead, we can also look at the <strong>cumulative explained variance plot</strong> to determine how many features are required to explain, say, about 90% of the variance (cutoffs are somewhat arbitrary here, and usually decided upon by 'rules of thumb'). Once we determine the appropriate number of components, we can perform PCA with that many components, ideally reducing the dimensionality of our data.</p>"
   ]
  },
  {
   "cell_type": "code",
   "execution_count": 90,
   "metadata": {
    "dc": {
     "key": "31"
    },
    "tags": [
     "sample_code"
    ]
   },
   "outputs": [
    {
     "data": {
      "text/plain": [
       "array([0.31331385, 0.53772162, 0.70443227, 0.83673235, 0.93826723,\n",
       "       1.        ])"
      ]
     },
     "execution_count": 90,
     "metadata": {},
     "output_type": "execute_result"
    }
   ],
   "source": [
    "# using numpy\n",
    "# Calculate the cumulative explained variance\n",
    "cum_exp_variance = np.cumsum(exp_variance_ratio)\n",
    "cum_exp_variance"
   ]
  },
  {
   "cell_type": "code",
   "execution_count": 91,
   "metadata": {},
   "outputs": [
    {
     "data": {
      "image/png": "[encoded data removed]",
      "text/plain": [
       "<Figure size 640x480 with 1 Axes>"
      ]
     },
     "metadata": {},
     "output_type": "display_data"
    }
   ],
   "source": [
    "# Plot the cumulative explained variance and draw a dashed line at 0.90.\n",
    "fig, ax = plt.subplots()\n",
    "ax.plot(range(data.shape[1]-1),cum_exp_variance)\n",
    "ax.axhline(y=0.9, linestyle='--')\n",
    "plt.show()"
   ]
  },
  {
   "cell_type": "code",
   "execution_count": 92,
   "metadata": {},
   "outputs": [
    {
     "name": "stdout",
     "output_type": "stream",
     "text": [
      "Number of components to retain 90% of variance: 5\n"
     ]
    }
   ],
   "source": [
    "# Find the number of components to retain at least 95% of the variance\n",
    "n_components = np.argmax(np.cumsum(exp_variance_ratio) >= 0.9 * np.sum(exp_variance_ratio)) + 1\n",
    "\n",
    "print(\"Number of components to retain 90% of variance:\", n_components)"
   ]
  },
  {
   "cell_type": "code",
   "execution_count": 93,
   "metadata": {},
   "outputs": [],
   "source": [
    "# Perform PCA with the chosen number of components and project data onto components\n",
    "pca = PCA(n_components, random_state=42)\n",
    "pca.fit(scaled_features)\n",
    "pca_projection = pca.transform(scaled_features)"
   ]
  },
  {
   "cell_type": "code",
   "execution_count": 94,
   "metadata": {},
   "outputs": [
    {
     "data": {
      "text/plain": [
       "(4802, 5)"
      ]
     },
     "execution_count": 94,
     "metadata": {},
     "output_type": "execute_result"
    }
   ],
   "source": [
    "pca_projection.shape"
   ]
  },
  {
   "cell_type": "markdown",
   "metadata": {
    "dc": {
     "key": "45"
    },
    "deletable": false,
    "editable": false,
    "run_control": {
     "frozen": true
    },
    "tags": [
     "context"
    ]
   },
   "source": [
    "## 7. Logistic Regression\n",
    "<p>Sometimes simplest is best, and so we will start by applying <strong>logistic regression</strong>. Logistic regression makes use of what's called the logistic function to calculate the odds that a given data point belongs to a given class. Once we have both models, we can compare them on a few performance metrics, such as false positive and false negative rate (or how many points are inaccurately classified). </p>"
   ]
  },
  {
   "cell_type": "code",
   "execution_count": 95,
   "metadata": {},
   "outputs": [],
   "source": [
    "# import train_test_split for Logistic Regression model\n",
    "from sklearn.model_selection import train_test_split\n",
    "X_train, X_test, y_train, y_test = train_test_split(pca_projection, labels, random_state=42, test_size=0.2)"
   ]
  },
  {
   "cell_type": "code",
   "execution_count": 96,
   "metadata": {
    "dc": {
     "key": "45"
    },
    "tags": [
     "sample_code"
    ]
   },
   "outputs": [],
   "source": [
    "# Import LogisticRegression\n",
    "from sklearn.linear_model import LogisticRegression\n",
    "\n",
    "# Train our logistic regression and predict labels for the test set\n",
    "log_model = LogisticRegression()\n",
    "log_model.fit(X_train, y_train)\n",
    "y_test_predictions = log_model.predict(X_test)"
   ]
  },
  {
   "cell_type": "code",
   "execution_count": 97,
   "metadata": {},
   "outputs": [
    {
     "name": "stdout",
     "output_type": "stream",
     "text": [
      "Classification report of Logistic Model with PCA_projection: \n",
      "               precision    recall  f1-score   support\n",
      "\n",
      "           0       0.93      0.96      0.95       779\n",
      "           1       0.81      0.70      0.75       182\n",
      "\n",
      "    accuracy                           0.91       961\n",
      "   macro avg       0.87      0.83      0.85       961\n",
      "weighted avg       0.91      0.91      0.91       961\n",
      "\n"
     ]
    }
   ],
   "source": [
    "# Create the classification report for Logistic Regression\n",
    "from sklearn.metrics import classification_report\n",
    "\n",
    "class_report = classification_report(y_test, y_test_predictions)\n",
    "print(f\"Classification report of Logistic Model with PCA_projection: \\n {class_report}\")"
   ]
  },
  {
   "cell_type": "code",
   "execution_count": 98,
   "metadata": {},
   "outputs": [
    {
     "data": {
      "text/plain": [
       "genre_top\n",
       "0    3892\n",
       "1     910\n",
       "Name: count, dtype: int64"
      ]
     },
     "execution_count": 98,
     "metadata": {},
     "output_type": "execute_result"
    }
   ],
   "source": [
    "labels.value_counts()"
   ]
  },
  {
   "cell_type": "markdown",
   "metadata": {},
   "source": [
    "Our data is imbalanced, so here accuracy is not really a good metric. Moreover let's look at the confusion matrix."
   ]
  },
  {
   "cell_type": "code",
   "execution_count": 99,
   "metadata": {},
   "outputs": [
    {
     "data": {
      "text/plain": [
       "array([[750,  29],\n",
       "       [ 55, 127]], dtype=int64)"
      ]
     },
     "execution_count": 99,
     "metadata": {},
     "output_type": "execute_result"
    }
   ],
   "source": [
    "# import confusion matrix\n",
    "from sklearn.metrics import confusion_matrix\n",
    "conf_matrix = confusion_matrix(y_test, y_test_predictions)\n",
    "conf_matrix"
   ]
  },
  {
   "cell_type": "code",
   "execution_count": 100,
   "metadata": {},
   "outputs": [
    {
     "data": {
      "text/plain": [
       "0.9316770186335404"
      ]
     },
     "execution_count": 100,
     "metadata": {},
     "output_type": "execute_result"
    }
   ],
   "source": [
    "750/(750+55)"
   ]
  },
  {
   "cell_type": "code",
   "execution_count": 101,
   "metadata": {},
   "outputs": [
    {
     "data": {
      "text/plain": [
       "0.8141025641025641"
      ]
     },
     "execution_count": 101,
     "metadata": {},
     "output_type": "execute_result"
    }
   ],
   "source": [
    "127/(127+29)"
   ]
  },
  {
   "cell_type": "markdown",
   "metadata": {},
   "source": [
    "## 8. Balance our data for greater performance\n",
    "<p>Our model do well, boasting an average precision of 87%. However, looking at our classification report, we can see that Rock (0) songs are fairly well classified, but hip-hop songs are disproportionately misclassified as rock songs. </p>\n",
    "<p>Why might this be the case? Well, just by looking at the number of data points we have for each class, we see that we have far more data points for the rock classification than for hip-hop, potentially skewing our model's ability to distinguish between classes. This also tells us that most of our model's accuracy is driven by its ability to classify just rock songs, which is less than ideal.</p>\n",
    "<p>To account for this, we can weight the value of a correct classification in each class inversely to the occurrence of data points for each class. Since a correct classification for \"Rock\" is not more important than a correct classification for \"Hip-Hop\" (and vice versa), we only need to account for differences in <em>sample size</em> of our data points when weighting our classes here, and not relative importance of each class. </p>"
   ]
  },
  {
   "cell_type": "code",
   "execution_count": 102,
   "metadata": {},
   "outputs": [
    {
     "name": "stdout",
     "output_type": "stream",
     "text": [
      "Cross validation score of Logistic Regression: 0.8908662508662509\n"
     ]
    }
   ],
   "source": [
    "from sklearn.model_selection import KFold, cross_val_score\n",
    "\n",
    "# Set up our K-fold cross-validation\n",
    "kf = KFold(n_splits=10)\n",
    "\n",
    "# Train our models using KFold cv\n",
    "log_reg_cv_score = cross_val_score(log_model, pca_projection, labels, cv=kf)\n",
    "\n",
    "# Print the mean of each array of scores\n",
    "print(f'Cross validation score of Logistic Regression: {log_reg_cv_score.mean()}')"
   ]
  },
  {
   "cell_type": "markdown",
   "metadata": {},
   "source": [
    "## Rest of the steps will be in second model configuration to test with balanced data"
   ]
  }
 ],
 "metadata": {
  "kernelspec": {
   "display_name": "Python 3",
   "language": "python",
   "name": "python3"
  },
  "language_info": {
   "codemirror_mode": {
    "name": "ipython",
    "version": 3
   },
   "file_extension": ".py",
   "mimetype": "text/x-python",
   "name": "python",
   "nbconvert_exporter": "python",
   "pygments_lexer": "ipython3",
   "version": "3.11.5"
  },
  "toc": {
   "base_numbering": 1,
   "nav_menu": {},
   "number_sections": true,
   "sideBar": true,
   "skip_h1_title": false,
   "title_cell": "Table of Contents",
   "title_sidebar": "Contents",
   "toc_cell": false,
   "toc_position": {},
   "toc_section_display": true,
   "toc_window_display": false
  },
  "varInspector": {
   "cols": {
    "lenName": 16,
    "lenType": 16,
    "lenVar": 40
   },
   "kernels_config": {
    "python": {
     "delete_cmd_postfix": "",
     "delete_cmd_prefix": "del ",
     "library": "var_list.py",
     "varRefreshCmd": "print(var_dic_list())"
    },
    "r": {
     "delete_cmd_postfix": ") ",
     "delete_cmd_prefix": "rm(",
     "library": "var_list.r",
     "varRefreshCmd": "cat(var_dic_list()) "
    }
   },
   "types_to_exclude": [
    "module",
    "function",
    "builtin_function_or_method",
    "instance",
    "_Feature"
   ],
   "window_display": false
  }
 },
 "nbformat": 4,
 "nbformat_minor": 2
}
